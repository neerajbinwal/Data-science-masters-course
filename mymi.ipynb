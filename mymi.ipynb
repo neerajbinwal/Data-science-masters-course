{
 "cells": [
  {
   "cell_type": "markdown",
   "id": "63f8589c-58ea-4586-b7f5-aa6695870885",
   "metadata": {},
   "source": [
    "Ans1\n",
    "a.Artificial intelligence (AI) is a wide-ranging branch of computer science concerned with building smart machines capable of performing tasks that typically require human intelligence. While AI is an interdisciplinary science with multiple approaches, advancements in machine learning and deep learning, in particular, are creating a paradigm shift in virtually every sector of the tech industry.\n",
    "b.Machicne learning is an application of AI that enables systems to learn and improve from experience without being explicitly programmed. Machine learning focuses on developing computer programs that can access data and use it to learn for themselves.\n",
    "c.Deep learning is a machine learning technique that teaches computers to do what comes naturally to humans: learn by example. Deep learning is a key technology behind driverless cars, enabling them to recognize a stop sign, or to distinguish a pedestrian from a lamppost. It is the key to voice control in consumer devices like phones, tablets, TVs, and hands-free speakers. Deep learning is getting lots of attention lately and for good reason. It’s achieving results that were not possible before.\n"
   ]
  },
  {
   "cell_type": "markdown",
   "id": "c88fa190-1510-4739-a665-ce731b7e7fb3",
   "metadata": {},
   "source": [
    "ANS2In Supervised Learning, the machine learns under supervision. It contains a model that is able to predict with the help of a labeled dataset. A labeled dataset is one where you already know the target answer.\n",
    "Example:-Facedetection system in facebook is a very good example of machine learning."
   ]
  },
  {
   "cell_type": "markdown",
   "id": "0eff6167-9e5b-475b-a6dc-eb49563919f2",
   "metadata": {},
   "source": [
    "Ans3;-Unsupervised learning is a type of machine learning algorithm that looks for patterns in a dataset without pre-existing labels. As the name suggests, this type of machine learning is unsupervised and requires little human supervision and prep work. Because unsupervised learning does not rely on labels to identify patterns, the insights tend to be less biased than other forms of AI.\n",
    "Example:-Recommender systems, which involve grouping together users with similar viewing patterns in order to recommend similar content."
   ]
  },
  {
   "cell_type": "markdown",
   "id": "f94557e9-21ab-4ce0-bc55-4c695098d06d",
   "metadata": {},
   "source": [
    "Ans4. Ai is a branch of computer science that deals with building applications that can perform an task of human eqvalence without any human interption they can perform these task on their own.\n",
    "MI(Machine learning) on the other hand is subset of AI which deals with traning the application or program with help of labeled and unlabeled data.\n",
    "DL(Deep Learning) is a subset  of MI which is eqivalent to the human brain and helps the program to learn with the help of neural networks.\n",
    "Ds(data science) is   combination of all the above factors so that we could derive a solution from a given data."
   ]
  },
  {
   "cell_type": "markdown",
   "id": "ac1d7b32-2fec-46c5-bee3-4cd3c9e4e125",
   "metadata": {},
   "source": [
    "Ans5.Supervised learning uses known input and output ie labeled data to make the program learn.\n",
    "Unsupervised learning  takes data and tries to find patterns from that data so that the model can learn.\n",
    "Semi-Supervised learning is the combination of both supervised and Unsupervised learning."
   ]
  },
  {
   "cell_type": "markdown",
   "id": "84b20f1e-f210-4115-a7ac-795414b6f6f3",
   "metadata": {},
   "source": [
    "Ans6...  Tain set-our model will be trained over and over again on this same data in our training set, and it will continue to learn about the features of this data.\n",
    "Validation set-The validation set is a set of data, separate from the training set, that is used to validate our model during training. This validation process helps give information that may assist us with adjusting our parameters.\n",
    "Test set-It is used to test out data it is a unlabelled data."
   ]
  },
  {
   "cell_type": "markdown",
   "id": "ef786dcd-8a87-482a-a8c1-2ac58129786a",
   "metadata": {},
   "source": [
    "Ans7.Anomaly detection is done by training the data set with lots of anomaly and when a new data sets comes the model can easily detect the anomaly."
   ]
  },
  {
   "cell_type": "markdown",
   "id": "42ad151a-b272-420b-a06c-23d5fc139eb6",
   "metadata": {},
   "source": [
    "Ans8.Supervised learning algo are:-\n",
    "Nearest Neighbor\n",
    "Naive Bayes\n",
    "Decision Trees\n",
    "Linear Regression\n",
    "Random forest\n",
    "Unsupervised learning algo are:-\n",
    "Apriori algorithm, K-means clustering."
   ]
  }
 ],
 "metadata": {
  "kernelspec": {
   "display_name": "Python 3 (ipykernel)",
   "language": "python",
   "name": "python3"
  },
  "language_info": {
   "codemirror_mode": {
    "name": "ipython",
    "version": 3
   },
   "file_extension": ".py",
   "mimetype": "text/x-python",
   "name": "python",
   "nbconvert_exporter": "python",
   "pygments_lexer": "ipython3",
   "version": "3.10.8"
  }
 },
 "nbformat": 4,
 "nbformat_minor": 5
}
