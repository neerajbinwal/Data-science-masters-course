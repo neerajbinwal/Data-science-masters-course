{
 "cells": [
  {
   "cell_type": "markdown",
   "id": "7663b86c-0b5b-461e-b784-3f9c57f8fedc",
   "metadata": {},
   "source": [
    "Ans1....Underfitting is a situation in which a model has not learned enough from the training data.It has high bias high variance. \n",
    "To reduce underfitting we can take following steps:-\n",
    "1.Choose more features \n",
    "2. Increase the training data\n",
    "Overfitting is a situation in which the model performs well in training data but performs very low in the test data set. It has low bais and high variance,\n",
    "To reduce the overfitting we can take the following steps:-\n",
    "1.WE can use regularlization techniques\n",
    "2. we can feed more Training data."
   ]
  },
  {
   "cell_type": "markdown",
   "id": "58a5bfb8-7a8c-45f5-8422-443f85809a82",
   "metadata": {},
   "source": [
    "Ans2.. Overfitting can be reduced by giving more test data and using regularization techniques like Lasso and Ridge. "
   ]
  },
  {
   "cell_type": "markdown",
   "id": "1e5ee66f-0a1d-4500-9f5f-f8ccf79fb093",
   "metadata": {},
   "source": [
    "Ans3..Underfitting is a situation in which a model has not learned enough from the training data.It has high bias high variance."
   ]
  },
  {
   "cell_type": "markdown",
   "id": "e30c5fec-d64d-4524-a94c-a401319924ee",
   "metadata": {},
   "source": [
    "Ans4.An error due to Bias is the distance between the predictions of a model and the true values. In this type of error, the model pays little attention to training data and oversimplifies the model and doesn't learn the patterns. The model learns the wrong relations by not taking in account all the features\n",
    "Variability of model prediction for a given data point or a value that tells us the spread of our data. In this type of error, the model pays an lot of attention in training data, to the point to memorize it instead of learning from it. A model with a high error of variance is not flexible to generalize on the data which it hasn’t seen before.\n",
    "\n"
   ]
  },
  {
   "cell_type": "markdown",
   "id": "ac056834-7ba5-4598-abf9-6ec790ce249b",
   "metadata": {},
   "source": [
    "Ans5,\n",
    "\n",
    "Overfitting is a scenario where your model performs well on training data but performs poorly on data not seen during training. This basically means that your model has memorized the training data instead of learning the relationships between features and labels.\n",
    "Underfitting is the opposite counterpart of overfitting wherein your model exhibits high bias. This situation can occur when your model is not sufficiently complex to capture the relationship between features and labels (or if your model is too strictly regularized).\n",
    "\n",
    "Underfitting is a bit harder to diagnose. If Accuracy and Validation Accuracy are similar but are both poor, then you may be underfitting.\n",
    "\n"
   ]
  },
  {
   "cell_type": "markdown",
   "id": "55583893-f5bc-425a-a311-ba55430164e7",
   "metadata": {},
   "source": [
    "Ans6,,,Ans4.An error due to Bias is the distance between the predictions of a model and the true values. In this type of error, the model pays little attention to training data and oversimplifies the model and doesn't learn the patterns. The model learns the wrong relations by not taking in account all the features\n",
    "Variability of model prediction for a given data point or a value that tells us the spread of our data. In this type of error, the model pays an lot of attention in training data, to the point to memorize it instead of learning from it. A model with a high error of variance is not flexible to generalize on the data which it hasn’t seen before.\n",
    "Bias is the difference between the average prediction and the correct value. It is also known as Bias Error or Error due to Bias.\n",
    "\n",
    "Low Bias models: k-Nearest Neighbors (k=1), Decision Trees and Support Vector Machines.\n",
    "High Bias models: Linear Regression and Logistic Regression.\n"
   ]
  },
  {
   "cell_type": "markdown",
   "id": "7ce7cea0-d886-4d39-902c-192cfeca5342",
   "metadata": {},
   "source": [
    "Ans7...Regularization\n",
    "This is a form of regression, that constrains/ regularizes or shrinks the coefficient estimates towards zero. In other words, this technique discourages learning a more complex or flexible model, so as to avoid the risk of overfitting."
   ]
  }
 ],
 "metadata": {
  "kernelspec": {
   "display_name": "Python 3 (ipykernel)",
   "language": "python",
   "name": "python3"
  },
  "language_info": {
   "codemirror_mode": {
    "name": "ipython",
    "version": 3
   },
   "file_extension": ".py",
   "mimetype": "text/x-python",
   "name": "python",
   "nbconvert_exporter": "python",
   "pygments_lexer": "ipython3",
   "version": "3.10.8"
  }
 },
 "nbformat": 4,
 "nbformat_minor": 5
}
