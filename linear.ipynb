{
 "cells": [
  {
   "cell_type": "markdown",
   "id": "4ff0192a-54ed-45f6-9402-ad75ab880733",
   "metadata": {},
   "source": [
    "Ans1......Whereas correlation explains the strength of the relationship between an independent and a dependent variable, R-squared explains the extent to which the variance of one variable explains the variance of the second variable."
   ]
  },
  {
   "cell_type": "markdown",
   "id": "c3588569-97b5-40ab-9156-76167a30b2d1",
   "metadata": {},
   "source": [
    "Ans2.....Adjusted R squared is calculated by dividing the residual mean square error by the total mean square error (which is the sample variance of the target field). The result is then subtracted from 1.\n",
    "\n",
    "Adjusted R2 is always less than or equal to R2. A value of 1 indicates a model that perfectly predicts values in the target field. A value that is less than or equal to 0 indicates a model that has no predictive value. In the real world, adjusted R2 lies between these values."
   ]
  },
  {
   "cell_type": "markdown",
   "id": "c9a81811-e9d0-4b97-a1a2-7e9e08fbb875",
   "metadata": {},
   "source": [
    "Ans3....Adjusted R squared value is more reliable and accurate in determining the efficiency of the model. Also, let me point out that Adjusted R squared includes the number of independent variables in its formula whereas the R squared does not."
   ]
  },
  {
   "cell_type": "markdown",
   "id": "0f84f65c-fe93-47c9-b4fb-8de2f79114e6",
   "metadata": {},
   "source": [
    "Ans4...These are used for determining the efficiency of the model."
   ]
  },
  {
   "cell_type": "markdown",
   "id": "68d9b572-0853-4528-aa58-da2ad48f6f81",
   "metadata": {},
   "source": [
    "Ans5,,,,Mean Squared Error(MSE) and Root Mean Square Error penalizes the large prediction errors vi-a-vis Mean Absolute Error (MAE). However, RMSE is widely used than MSE to evaluate the performance of the regression model with other random models as it has the same units as the dependent variable (Y-axis).\n",
    "MSE is a differentiable function that makes it easy to perform mathematical operations in comparison to a non-differentiable function like MAE. Therefore, in many models, RMSE is used as a default metric for calculating Loss Function despite being harder to interpret than MAE.\n",
    "The lower value of MAE, MSE, and RMSE implies higher accuracy of a regression model. However, a higher value of R square is considered desirable."
   ]
  },
  {
   "cell_type": "markdown",
   "id": "3498c37c-01b1-4e48-9da9-bd1d78d465bf",
   "metadata": {},
   "source": [
    "Ans6....Lasso regression is a type of linear regression that uses shrinkage. Shrinkage is where data values are shrunk towards a central point, like the mean. The lasso procedure encourages simple, sparse models (i.e. models with fewer parameters). This particular type of regression is well-suited for models showing high levels of muticollinearity or when you want to automate certain parts of model selection, like variable selection/parameter elimination."
   ]
  },
  {
   "cell_type": "code",
   "execution_count": null,
   "id": "5ab65d88-f367-429a-af52-1af6acd9829a",
   "metadata": {},
   "outputs": [],
   "source": []
  }
 ],
 "metadata": {
  "kernelspec": {
   "display_name": "Python 3 (ipykernel)",
   "language": "python",
   "name": "python3"
  },
  "language_info": {
   "codemirror_mode": {
    "name": "ipython",
    "version": 3
   },
   "file_extension": ".py",
   "mimetype": "text/x-python",
   "name": "python",
   "nbconvert_exporter": "python",
   "pygments_lexer": "ipython3",
   "version": "3.10.8"
  }
 },
 "nbformat": 4,
 "nbformat_minor": 5
}
