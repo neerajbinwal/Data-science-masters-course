{
 "cells": [
  {
   "cell_type": "markdown",
   "id": "4eaf8a03-e1ff-4f4e-ae87-ced16b5b65b5",
   "metadata": {},
   "source": [
    "Ans1Z-test is the statistical hypothesis used to determine whether the two samples’ means calculated are different if the standard deviation is available and the sample is large. In contrast, the T-test determines how averages of different data sets differ in case the standard deviation or the variance is unknown.\n",
    "examples using Z test \n",
    "A data popuation standard deviation is 10 and sample has mean 20 and sample size is 40.\n",
    "example using T test\n",
    "A dataset in sample standard deviation is 30 and sample mean 30 with sample size of 30,"
   ]
  },
  {
   "cell_type": "markdown",
   "id": "b4ffcd8d-8f88-483f-a44e-dd546e3ac3b4",
   "metadata": {},
   "source": [
    "Ans2"
   ]
  },
  {
   "cell_type": "markdown",
   "id": "c00cbcbd-31f7-4d35-860c-39e7a6ea20a4",
   "metadata": {},
   "source": [
    "The one-tailed test refers to a test of null hypothesis, in which the alternative hypothesis is articulated directionally. Here, the critical region lies only on one tail. However, if the alternative hypothesis is not exhibited directionally, then it is known as the two-tailed test of the null hypothesis., wherein the critical region is one both the tails."
   ]
  },
  {
   "cell_type": "markdown",
   "id": "cbb75604-b0e3-48d9-9b62-a41064d1188f",
   "metadata": {},
   "source": [
    "Ans3 Type 1 and Type 2 error\n",
    "case1.When we reject null hypothesis when in reality it is false-----NO error\n",
    "case2.When we reject the null hypothesis when in realiy it is true----type 1 error\n",
    "case3.. When we accept the null hypothesis when in reality it is false---type 2 error\n",
    "case4---When we accept the null hypothesis when in reality it is true----No error.\n",
    "For example there is a case doing the person who is charged is taken to the court so folloeing scenarios can take place.\n",
    "Case1...Court delares the person innocent when he is innocent.....No error \n",
    "case2...Court Declares the perosn innocent when he is guilty in reality.....Type 2 error.\n",
    "case3. Court declares the perosn as gulity when he is innocent in reality....Type 1 error.\n",
    "case4....Court declates the perosn as innocent when he is inncoent in reality....no error"
   ]
  },
  {
   "cell_type": "markdown",
   "id": "6eeb3cba-b77d-4f07-b96a-a99bfa0e2c3b",
   "metadata": {},
   "source": [
    "Ans4\n",
    "Bayes, is a mathematical formula for determining conditional probability. Conditional probability is the likelihood of an outcome occurring, based on a previous outcome having occurred in similar circumstances. Bayes' theorem provides a way to revise existing predictions or theories (update probabilities) given new or additional evidence.\n",
    "For example if we have 8 balls in a box and 4 red and 4 green balls.\n",
    "we draw one red ball the probability of drawing a green ball is 4/7...The probabilty is determined when one event has occured previously."
   ]
  },
  {
   "cell_type": "markdown",
   "id": "a9631ea1-318e-4f8f-bac4-ec15ca0be893",
   "metadata": {},
   "source": [
    "Ans5....A confidence interval is a range of values, bounded above and below the statistic's mean, that likely would contain an unknown population parameter. Confidence level refers to the percentage of probability, or certainty, that the confidence interval would contain the true population parameter when you draw a random sample many times. Or, in the vernacular, \"we are 99% certain (confidence level) that most of these samples (confidence intervals) contain the true population parameter.\n",
    "for example the standard devation of data is = 100\n",
    "sample mean=520\n",
    "CI=95%\n",
    "When we calculate the lower CI=480.8\n",
    "When we calculate the upper CI=559.2\n"
   ]
  },
  {
   "cell_type": "markdown",
   "id": "5c792f8c-3802-4d16-8e9b-05528d658fd0",
   "metadata": {},
   "source": [
    "Ans6....Example:\n",
    "dangerous fires are rare (1%)\n",
    "but smoke is fairly common (10%) due to barbecues,\n",
    "and 90% of dangerous fires make smoke\n",
    "We can then discover the probability of dangerous Fire when there is Smoke:\n",
    "\n",
    "P(Fire|Smoke) =\t \n",
    "P(Fire) P(Smoke|Fire)\n",
    "P(Smoke)\n",
    " \n",
    "=\t \n",
    "1% x 90%\n",
    "10%\n",
    " \n",
    "=\t9%"
   ]
  },
  {
   "cell_type": "markdown",
   "id": "6b016c62-0b19-47d3-b4e1-87c11d66408e",
   "metadata": {},
   "source": [
    "Ans7,\n",
    "The lower CI =48.367\n",
    "The upper CI=51.633"
   ]
  },
  {
   "cell_type": "markdown",
   "id": "dbbacb88-71ff-48aa-82e1-cf45e5549101",
   "metadata": {},
   "source": [
    "Ans8 Point estimate +- margin of error gives our confidence internal.Margin of error is inversely propotional to to sample size.Lets take an example \n",
    "When we take sample size is 36  margin of error for mean =50,and standard deviation =5 we have margin of error =1.633\n",
    "when we take the sample sixe eqaul to 64 we have margin of error=1.240\n",
    "\n"
   ]
  },
  {
   "cell_type": "markdown",
   "id": "b86d3a71-fcad-4330-8ba0-dcd624c20e7d",
   "metadata": {},
   "source": [
    "Ans9.. The z score is  1."
   ]
  },
  {
   "cell_type": "markdown",
   "id": "e530b90b-549e-4d1b-9b2c-24126a9954f0",
   "metadata": {},
   "source": [
    "Ans 10 The value of z falls between the CI thus we can say the both teach method have equal effectiveness."
   ]
  },
  {
   "cell_type": "markdown",
   "id": "5a38ddfd-9dab-42d1-8bbd-7fd2e98f57a2",
   "metadata": {},
   "source": [
    "Ans11. Upper and lower CI are 61.163 and 58.836 respectively."
   ]
  },
  {
   "cell_type": "code",
   "execution_count": null,
   "id": "e61fba0c-0bb8-4233-a09d-bbe156331547",
   "metadata": {},
   "outputs": [],
   "source": [
    "Ans12."
   ]
  }
 ],
 "metadata": {
  "kernelspec": {
   "display_name": "Python 3 (ipykernel)",
   "language": "python",
   "name": "python3"
  },
  "language_info": {
   "codemirror_mode": {
    "name": "ipython",
    "version": 3
   },
   "file_extension": ".py",
   "mimetype": "text/x-python",
   "name": "python",
   "nbconvert_exporter": "python",
   "pygments_lexer": "ipython3",
   "version": "3.10.8"
  }
 },
 "nbformat": 4,
 "nbformat_minor": 5
}
