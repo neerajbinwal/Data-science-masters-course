{
 "cells": [
  {
   "cell_type": "markdown",
   "id": "dc2ac954-6a6e-446d-9b86-308b615f90e6",
   "metadata": {},
   "source": [
    "Ans1,, The lower CI is 48.498\n",
    "       The upper CI is 51.501"
   ]
  },
  {
   "cell_type": "markdown",
   "id": "fe3f7f48-258f-435b-a678-8e94633ae1b3",
   "metadata": {},
   "source": [
    "Ans2"
   ]
  },
  {
   "cell_type": "code",
   "execution_count": 1,
   "id": "50fbe405-fbf5-41d4-819b-c7249801d58b",
   "metadata": {},
   "outputs": [],
   "source": [
    "expected_value=[20,20,20,10,10,20]\n",
    "observed_value=[10,10,10,20,20,30]"
   ]
  },
  {
   "cell_type": "code",
   "execution_count": 2,
   "id": "4698ae66-b308-4cf5-acaf-9ed76c835990",
   "metadata": {},
   "outputs": [],
   "source": [
    "import scipy.stats as stat\n",
    "import numpy as np"
   ]
  },
  {
   "cell_type": "code",
   "execution_count": 3,
   "id": "d26fd321-0e0c-45fe-b19e-b73ad7aaeb8b",
   "metadata": {},
   "outputs": [
    {
     "data": {
      "text/plain": [
       "(100, 100)"
      ]
     },
     "execution_count": 3,
     "metadata": {},
     "output_type": "execute_result"
    }
   ],
   "source": [
    "sum(expected_value),sum(observed_value)"
   ]
  },
  {
   "cell_type": "code",
   "execution_count": 4,
   "id": "9f324845-6b7f-47f9-ae14-6024d1f30c95",
   "metadata": {},
   "outputs": [],
   "source": [
    "Chi_square_test,p_value=stat.chisquare(observed_value,expected_value)"
   ]
  },
  {
   "cell_type": "code",
   "execution_count": 5,
   "id": "9f619a27-a357-4f4b-887b-6dd05766d3a2",
   "metadata": {},
   "outputs": [
    {
     "name": "stdout",
     "output_type": "stream",
     "text": [
      "40.0\n",
      "1.493367900050393e-07\n"
     ]
    },
    {
     "data": {
      "text/plain": [
       "(None, None)"
      ]
     },
     "execution_count": 5,
     "metadata": {},
     "output_type": "execute_result"
    }
   ],
   "source": [
    "print(Chi_square_test),print(p_value)"
   ]
  },
  {
   "cell_type": "code",
   "execution_count": 12,
   "id": "d4a20623-f4fa-4bed-b107-bbc37e381266",
   "metadata": {},
   "outputs": [],
   "source": [
    "significance=0.05\n",
    "dof=len(expected_value)-1\n"
   ]
  },
  {
   "cell_type": "code",
   "execution_count": 13,
   "id": "03a022ca-9c88-40df-afea-45d59de288b1",
   "metadata": {},
   "outputs": [],
   "source": [
    "critical_value=stat.chi2.ppf(1-significance,dof)"
   ]
  },
  {
   "cell_type": "code",
   "execution_count": 15,
   "id": "a967248f-6af4-4ead-8659-19408c9d1fea",
   "metadata": {},
   "outputs": [
    {
     "data": {
      "text/plain": [
       "11.070497693516351"
      ]
     },
     "execution_count": 15,
     "metadata": {},
     "output_type": "execute_result"
    }
   ],
   "source": [
    "critical_value"
   ]
  },
  {
   "cell_type": "code",
   "execution_count": 14,
   "id": "36041a66-dc91-47e5-8a61-b71faf005517",
   "metadata": {},
   "outputs": [
    {
     "data": {
      "text/plain": [
       "5"
      ]
     },
     "execution_count": 14,
     "metadata": {},
     "output_type": "execute_result"
    }
   ],
   "source": [
    "dof"
   ]
  },
  {
   "cell_type": "code",
   "execution_count": 19,
   "id": "40be0c13-6dd1-46cc-a057-aa2026a036b5",
   "metadata": {},
   "outputs": [
    {
     "name": "stdout",
     "output_type": "stream",
     "text": [
      "accepted the null hypothesis\n"
     ]
    }
   ],
   "source": [
    "if Chi_square_test>critical_value:\n",
    "    print(\"accepted the null hypothesis\")\n",
    "else:\n",
    "    print(\"Failed to accepted the null hypothesis\")"
   ]
  },
  {
   "cell_type": "markdown",
   "id": "5af003ba-9e49-4446-a075-b129a4bb1a1d",
   "metadata": {},
   "source": [
    "ANS3"
   ]
  },
  {
   "cell_type": "code",
   "execution_count": 29,
   "id": "10370a5f-477c-43c3-b485-52eca3b82d5e",
   "metadata": {},
   "outputs": [],
   "source": [
    "observed_value1=[20,15]\n",
    "expected_value1=[15,20]"
   ]
  },
  {
   "cell_type": "code",
   "execution_count": 30,
   "id": "8687c310-293e-4131-97c0-092a2ea3aa2d",
   "metadata": {},
   "outputs": [
    {
     "data": {
      "text/plain": [
       "(35, 35)"
      ]
     },
     "execution_count": 30,
     "metadata": {},
     "output_type": "execute_result"
    }
   ],
   "source": [
    "sum(observed_value1),sum(expected_value1)"
   ]
  },
  {
   "cell_type": "code",
   "execution_count": 31,
   "id": "8683fdcc-cb51-44f5-a457-77673b31ebf8",
   "metadata": {},
   "outputs": [],
   "source": [
    "Chisquarevaue,p_value=stat.chisquare(observed_value1,expected_value1)"
   ]
  },
  {
   "cell_type": "code",
   "execution_count": 33,
   "id": "9d5efd9a-2534-409e-ad30-ba8c137aa7bd",
   "metadata": {},
   "outputs": [],
   "source": [
    "significance=0.05\n",
    "dof1=len(observed_value1)-1"
   ]
  },
  {
   "cell_type": "code",
   "execution_count": 34,
   "id": "1e7c0747-17e3-4b5d-aadc-eded4530493d",
   "metadata": {},
   "outputs": [],
   "source": [
    "critical_value1=stat.chi2.ppf(1-significance,dof1)"
   ]
  },
  {
   "cell_type": "code",
   "execution_count": 35,
   "id": "ec393d99-a8c6-4dd1-b93b-3b63cc92ce55",
   "metadata": {},
   "outputs": [
    {
     "data": {
      "text/plain": [
       "3.841458820694124"
      ]
     },
     "execution_count": 35,
     "metadata": {},
     "output_type": "execute_result"
    }
   ],
   "source": [
    "critical_value1"
   ]
  },
  {
   "cell_type": "code",
   "execution_count": 36,
   "id": "667cefd9-a5da-436d-a8da-6cfa7e07315b",
   "metadata": {},
   "outputs": [
    {
     "name": "stdout",
     "output_type": "stream",
     "text": [
      "Failed to accepted the null hypothesis\n"
     ]
    }
   ],
   "source": [
    "if Chisquarevaue>critical_value1:\n",
    "    print(\"accepted the null hypothesis\")\n",
    "else:\n",
    "    print(\"Failed to accepted the null hypothesis\")"
   ]
  },
  {
   "cell_type": "code",
   "execution_count": 37,
   "id": "76622fb4-abd1-4d5b-a5b9-ab30e030af4c",
   "metadata": {},
   "outputs": [],
   "source": [
    "observed_value2=[10,25]\n",
    "expected_value2=[15,20]"
   ]
  },
  {
   "cell_type": "code",
   "execution_count": 49,
   "id": "743aef1c-c4e8-4679-8477-ab7b1640d376",
   "metadata": {},
   "outputs": [],
   "source": [
    "chisquare2,p_value=stat.chisquare(observed_value2,expected_value2)"
   ]
  },
  {
   "cell_type": "code",
   "execution_count": 50,
   "id": "8154b798-c7f1-4ed9-8b22-9feb9b44bf63",
   "metadata": {},
   "outputs": [],
   "source": [
    "significance2=0.05\n",
    "dof2=len(observed_value2)-1"
   ]
  },
  {
   "cell_type": "code",
   "execution_count": 51,
   "id": "a0f66e71-c8b8-49c9-9a18-e530af5dba3a",
   "metadata": {},
   "outputs": [],
   "source": [
    "critical_value2=stat.chi2.ppf(1-significance2,dof2)"
   ]
  },
  {
   "cell_type": "code",
   "execution_count": 52,
   "id": "b9540732-464a-4685-bea5-ee4a1ec2e243",
   "metadata": {},
   "outputs": [
    {
     "data": {
      "text/plain": [
       "2.916666666666667"
      ]
     },
     "execution_count": 52,
     "metadata": {},
     "output_type": "execute_result"
    }
   ],
   "source": [
    "chisquare2"
   ]
  },
  {
   "cell_type": "code",
   "execution_count": 53,
   "id": "b26f8517-230f-4e70-b346-0eb7787ac156",
   "metadata": {},
   "outputs": [
    {
     "name": "stdout",
     "output_type": "stream",
     "text": [
      "Failed to accepted the null hypothesis\n"
     ]
    }
   ],
   "source": [
    "if chisquare2>critical_value2:\n",
    "    print(\"accepted the null hypothesis\")\n",
    "else:\n",
    "    print(\"Failed to accepted the null hypothesis\")"
   ]
  },
  {
   "cell_type": "code",
   "execution_count": 57,
   "id": "1132d20a-7c3b-40e8-83e7-6985b7843b33",
   "metadata": {},
   "outputs": [],
   "source": [
    "observed_value3=[15,20]\n",
    "expected_value3=[20,15]"
   ]
  },
  {
   "cell_type": "code",
   "execution_count": 58,
   "id": "09caa36b-233e-4800-a290-f82db770d3b0",
   "metadata": {},
   "outputs": [],
   "source": [
    "chisquare3,p_value3=stat.chisquare(observed_value3,expected_value3)"
   ]
  },
  {
   "cell_type": "code",
   "execution_count": 60,
   "id": "7914d42b-c0d4-4833-9439-0cfb5409a7da",
   "metadata": {},
   "outputs": [],
   "source": [
    "significance3=0.05\n",
    "dof3=len(expected_value3)-1"
   ]
  },
  {
   "cell_type": "code",
   "execution_count": 61,
   "id": "17da0e72-2270-44c2-a59b-9ece71a51a94",
   "metadata": {},
   "outputs": [],
   "source": [
    "critical_value3=stat.chi2.ppf(1-significance3,dof3)"
   ]
  },
  {
   "cell_type": "code",
   "execution_count": 62,
   "id": "041cf7c8-a659-4a59-b6b0-5ac147edab54",
   "metadata": {},
   "outputs": [
    {
     "name": "stdout",
     "output_type": "stream",
     "text": [
      "Failed to accepted the null hypothesis\n"
     ]
    }
   ],
   "source": [
    "if chisquare3>critical_value3:\n",
    "    print(\"accepted the null hypothesis\")\n",
    "else:\n",
    "    print(\"Failed to accepted the null hypothesis\")"
   ]
  },
  {
   "cell_type": "markdown",
   "id": "1197cf02-2fec-4c4a-8dad-ff8e2dc1e197",
   "metadata": {},
   "source": [
    "Ans4"
   ]
  },
  {
   "cell_type": "code",
   "execution_count": 63,
   "id": "0140e749-9fce-4544-8f50-77eb088daa09",
   "metadata": {},
   "outputs": [],
   "source": [
    "from scipy import stats"
   ]
  },
  {
   "cell_type": "code",
   "execution_count": 70,
   "id": "f561651b-75ba-4a18-bc74-d4a743b8396b",
   "metadata": {},
   "outputs": [
    {
     "name": "stderr",
     "output_type": "stream",
     "text": [
      "/tmp/ipykernel_2104/1092127095.py:1: DeprecationWarning: Use of keyword argument `alpha` for method `interval` is deprecated. Use first positional argument or keyword argument `confidence` instead.\n",
      "  c=stats.t.interval(alpha=0.95,loc=60,df=499)\n"
     ]
    }
   ],
   "source": [
    "c=stats.t.interval(alpha=0.95,loc=60,df=499)"
   ]
  },
  {
   "cell_type": "code",
   "execution_count": 72,
   "id": "b2ea7b23-bb17-4f88-b8b4-29015d2a931c",
   "metadata": {},
   "outputs": [
    {
     "name": "stdout",
     "output_type": "stream",
     "text": [
      "The upper and lower confidence interval are (58.035270609012336, 61.964729390987664)\n"
     ]
    }
   ],
   "source": [
    "print(f\"The upper and lower confidence interval are {c}\")"
   ]
  },
  {
   "cell_type": "markdown",
   "id": "f4a79ac5-22b9-4621-9461-2a1f15c17e5c",
   "metadata": {},
   "source": [
    "Ans5"
   ]
  },
  {
   "cell_type": "code",
   "execution_count": 74,
   "id": "8d2829f6-ef74-4a02-8261-863469c9046c",
   "metadata": {},
   "outputs": [],
   "source": [
    "x=stats.t.interval(confidence=0.90,loc=75,df=29)"
   ]
  },
  {
   "cell_type": "code",
   "execution_count": 75,
   "id": "a2c0b254-100c-4615-8bf8-7909c4979481",
   "metadata": {},
   "outputs": [
    {
     "name": "stdout",
     "output_type": "stream",
     "text": [
      "The upper and lower confidence interval are(73.3008729734665, 76.6991270265335)\n"
     ]
    }
   ],
   "source": [
    "print(f\"The upper and lower confidence interval are{x}\")"
   ]
  },
  {
   "cell_type": "markdown",
   "id": "a10c4806-76ed-4d7a-b869-c071d1cdd4d8",
   "metadata": {},
   "source": [
    "Ans6"
   ]
  },
  {
   "cell_type": "code",
   "execution_count": 87,
   "id": "e13c3128-69b3-498d-b2ec-1ac9784998f7",
   "metadata": {},
   "outputs": [
    {
     "data": {
      "text/plain": [
       "Text(0, 0.5, 'probability')"
      ]
     },
     "execution_count": 87,
     "metadata": {},
     "output_type": "execute_result"
    },
    {
     "data": {
      "image/png": "[encoded data removed]",
      "text/plain": [
       "<Figure size 640x480 with 1 Axes>"
      ]
     },
     "metadata": {},
     "output_type": "display_data"
    }
   ],
   "source": [
    "import numpy as np\n",
    "import matplotlib.pyplot as plt\n",
    "from scipy.stats import chi2\n",
    "\n",
    "x = np.arange(0, 20, 0.001)\n",
    "\n",
    "plt.plot(x, chi2.pdf(x, df=10))\n",
    "plt.xlabel(\"chi-graph\")\n",
    "plt.ylabel(\"probability\")"
   ]
  },
  {
   "cell_type": "markdown",
   "id": "029a97d5-fc79-4828-9580-0236cc2abe37",
   "metadata": {},
   "source": [
    "Ans7"
   ]
  },
  {
   "cell_type": "code",
   "execution_count": 89,
   "id": "49d5406a-df0f-4919-8302-8542260e7b3d",
   "metadata": {},
   "outputs": [],
   "source": [
    "y=stats.t.interval(confidence=0.95,loc=520,df=999)"
   ]
  },
  {
   "cell_type": "code",
   "execution_count": 90,
   "id": "aaae96dd-c663-47db-8113-16a9c21fdcd6",
   "metadata": {},
   "outputs": [
    {
     "name": "stdout",
     "output_type": "stream",
     "text": [
      "The upper and lower limit of people who use coke are(518.0376585388666, 521.9623414611334)\n"
     ]
    }
   ],
   "source": [
    "print(f\"The upper and lower limit of people who use coke are{y}\")"
   ]
  },
  {
   "cell_type": "markdown",
   "id": "17a47e53-4346-420d-9e84-b9962b8fd602",
   "metadata": {},
   "source": [
    "ANS8"
   ]
  },
  {
   "cell_type": "code",
   "execution_count": 92,
   "id": "3f371fab-88c2-4cc6-9645-1959801ed9f1",
   "metadata": {},
   "outputs": [],
   "source": [
    "observed_value4=[45,55]\n",
    "expected_value4=[50,50]"
   ]
  },
  {
   "cell_type": "code",
   "execution_count": 93,
   "id": "649317c1-438e-400d-a0c9-db4e1f6648a7",
   "metadata": {},
   "outputs": [],
   "source": [
    "Chisquare,p_value=stats.chisquare(observed_value4,expected_value4)"
   ]
  },
  {
   "cell_type": "code",
   "execution_count": 97,
   "id": "18187d19-0842-4efe-904d-20ea26117190",
   "metadata": {},
   "outputs": [],
   "source": [
    "significance=0.05\n",
    "dof4=99"
   ]
  },
  {
   "cell_type": "code",
   "execution_count": 104,
   "id": "c78b6641-79e4-412f-8579-875425e2d247",
   "metadata": {},
   "outputs": [],
   "source": [
    "criticalvalue4=stats.chi2.ppf(1-significance,dof4)"
   ]
  },
  {
   "cell_type": "code",
   "execution_count": 105,
   "id": "d819f6e8-fb54-4c25-a952-3492031c70ec",
   "metadata": {},
   "outputs": [
    {
     "data": {
      "text/plain": [
       "123.2252214533618"
      ]
     },
     "execution_count": 105,
     "metadata": {},
     "output_type": "execute_result"
    }
   ],
   "source": [
    "criticalvalue4"
   ]
  },
  {
   "cell_type": "code",
   "execution_count": 107,
   "id": "386aa675-3288-478d-b678-06f41c771570",
   "metadata": {},
   "outputs": [
    {
     "name": "stdout",
     "output_type": "stream",
     "text": [
      "Failed to accepted the null hypothesis\n"
     ]
    }
   ],
   "source": [
    "if Chisquare>criticalvalue4:\n",
    "    print(\"accepted the null hypothesis\")\n",
    "else:\n",
    "    print(\"Failed to accepted the null hypothesis\")"
   ]
  },
  {
   "cell_type": "code",
   "execution_count": 3,
   "id": "60a0078e-fbd5-44f9-9955-4270dae1d268",
   "metadata": {},
   "outputs": [],
   "source": [
    "Smoker=[60,140]\n",
    "Non_Smoker=[30,170]"
   ]
  },
  {
   "cell_type": "code",
   "execution_count": 5,
   "id": "33e2f9ae-0f0e-4841-8eb4-c1255b744971",
   "metadata": {},
   "outputs": [],
   "source": [
    "from scipy import stats"
   ]
  },
  {
   "cell_type": "code",
   "execution_count": 11,
   "id": "9cf2fc96-fcd3-42e2-b930-f55db2aed464",
   "metadata": {},
   "outputs": [],
   "source": [
    "chisquare5,p_value5=stats.chisquare(Smoker,Non_Smoker)"
   ]
  },
  {
   "cell_type": "code",
   "execution_count": 12,
   "id": "46c73e7b-55b1-4b55-a8e9-adc2b18e1447",
   "metadata": {},
   "outputs": [],
   "source": [
    "significance=0.05\n",
    "dof=1"
   ]
  },
  {
   "cell_type": "code",
   "execution_count": 15,
   "id": "c4c3dc91-3cd7-4c98-918f-01a6a2fd0156",
   "metadata": {},
   "outputs": [],
   "source": [
    "critical_value5=stats.chi2.ppf(1-significance,dof)"
   ]
  },
  {
   "cell_type": "code",
   "execution_count": 14,
   "id": "d33ad2b0-2e58-49b6-b54c-55ccb38bf7c8",
   "metadata": {},
   "outputs": [
    {
     "data": {
      "text/plain": [
       "3.841458820694124"
      ]
     },
     "execution_count": 14,
     "metadata": {},
     "output_type": "execute_result"
    }
   ],
   "source": [
    "critical_value5"
   ]
  },
  {
   "cell_type": "code",
   "execution_count": null,
   "id": "bbfd9f98-d6a4-4272-aed3-deb66481d758",
   "metadata": {},
   "outputs": [],
   "source": [
    "if chisquare5>critical_value5:\n",
    "    print(\"accepted the null hypothesis\")\n",
    "else:\n",
    "    print"
   ]
  }
 ],
 "metadata": {
  "kernelspec": {
   "display_name": "Python 3 (ipykernel)",
   "language": "python",
   "name": "python3"
  },
  "language_info": {
   "codemirror_mode": {
    "name": "ipython",
    "version": 3
   },
   "file_extension": ".py",
   "mimetype": "text/x-python",
   "name": "python",
   "nbconvert_exporter": "python",
   "pygments_lexer": "ipython3",
   "version": "3.10.8"
  }
 },
 "nbformat": 4,
 "nbformat_minor": 5
}
