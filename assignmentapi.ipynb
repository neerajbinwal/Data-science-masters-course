{
 "cells": [
  {
   "cell_type": "markdown",
   "id": "8466b152-c142-4a13-bca5-24cb7c589f06",
   "metadata": {},
   "source": [
    "Ans1. APIs are mechanisms that enable two software components to communicate with each other using a set of definitions and protocols. For example, the weather bureau’s software system contains daily weather data. The weather app on your phone “talks” to this system via APIs and shows you daily weather updates on your phone."
   ]
  },
  {
   "cell_type": "markdown",
   "id": "1a56fcf3-e557-4f41-8325-692166f469df",
   "metadata": {},
   "source": [
    "Ans 2.\n",
    "API Disadvantages\n",
    "There is a lot of conveniences and advantages to APIs, but business leaders should also be aware of the disadvantages. As a single point of entry, an API is a gateway and can become a hacker's primary target. Once the API is compromised, all other applications and systems become vulnerable.\n",
    "API Advantages:\n",
    "The development of APIs has enabled many business innovations and workflow efficiencies, here’s just three of the biggest benefits of using APIs:\n",
    "\n",
    "Automation\n",
    "When using an API managed by computers, less human effort is required and workflows can be easily updated to become faster and more productive. Furthermore, new content and information can be published and shared with your entire audience quickly and efficiently across all channels. \n",
    "\n",
    "Developer efficiency and innovation\n",
    "APIs empower developers to be more productive by reusing code in complex but repetitive processes. They don’t need to start from scratch as the API specifies how to assemble software components in a program. APIs exist to make it easy to interface with other developers' applications.\n",
    "\n",
    "Improved value proposition\n",
    "By using APIs made available by companies such as Amazon, Salesforce, or Twitter, an application can integrate those services into their own systems to make themselves more attractive to customers."
   ]
  },
  {
   "cell_type": "markdown",
   "id": "bacda74b-19fc-4682-86a0-2998ed9235c7",
   "metadata": {},
   "source": [
    "Ans 4. Web APIs are those APIs that are part of the World Wide Web – the global network of resources that comprise the Internet. A Web API, also known as a net Web API, is therefore a resource - of a special kind - that is available over the Internet.\n",
    "\n",
    "When comparing web services vs. API software components, it helps to have a thorough understanding of the merits of both. Here are some of the many reasons an API is beneficial. \n",
    "\n",
    "Improves connectivity\n",
    "Supports traditional create, read, update, delete (CRUD) actions\n",
    "Works with HTTP verbs including PUT, POST, DELETE, and GET\n",
    "Assists by exposing service data to the browser\n",
    "Based on HTTP, which you can define and expose in a REST-ful manner"
   ]
  },
  {
   "cell_type": "markdown",
   "id": "5cdf3811-cebc-4fdc-a5a5-afe0d65ab13a",
   "metadata": {},
   "source": [
    "Ans 4. SOAP (Simple Object Access Protocol) is an XML-based protocol for accessing web services over HTTP. It is developed as an intermediate language so that applications built in various programming languages can communicate with each other effectively. Web services use SOAP for exchange of XML data between applications. SOAP supports both stateful and stateless operations. Stateful means that the server keeps the information that it receives from the client across multiple requests. These requests are chained together so that the server is aware about the previous requests. Examples are bank transactions, flight bookings, etc. Stateless messaging has enough information about the state of the client so that the server does not have to bother.\n",
    "\n",
    "What is REST?\n",
    "REST (Representational State Transfer) is an architectural approach for communication purposes often used in various web services development. It is a stateless client-server model. Web services that are defined on the concept of REST are RESTful web services. When a client makes a request via RESTful API, it transfers the representation of the state of the resources to the server. This information can be transferred in various formats via HTTP like, JSON, HTML, XLT, and Plain Text, but JSON is the most common language used due to its easy readability by machines and humans.\n",
    "SOAP only uses XML. It doesn’t take other formats like JSON into consideration.\n",
    "There is a high possibility of coupling between client and server as SOAP is based on contract.\n",
    "Since it uses XML format, SOAP is considered to be a slow platform because the payload is large for a simple string message.\n",
    "Any change in server contract is reflected in client stub classes.\n",
    "SOAP is hard to test in browsers.\n",
    "SOAP clients do not hold any stateful references to remote objects."
   ]
  },
  {
   "cell_type": "markdown",
   "id": "cb567416-e4b1-457b-94da-86e31ae240ed",
   "metadata": {},
   "source": [
    "Ans5. "
   ]
  }
 ],
 "metadata": {
  "kernelspec": {
   "display_name": "Python 3 (ipykernel)",
   "language": "python",
   "name": "python3"
  },
  "language_info": {
   "codemirror_mode": {
    "name": "ipython",
    "version": 3
   },
   "file_extension": ".py",
   "mimetype": "text/x-python",
   "name": "python",
   "nbconvert_exporter": "python",
   "pygments_lexer": "ipython3",
   "version": "3.10.8"
  }
 },
 "nbformat": 4,
 "nbformat_minor": 5
}
