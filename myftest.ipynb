{
 "cells": [
  {
   "cell_type": "markdown",
   "id": "336f1456-5c25-4886-890c-48734bd1bea7",
   "metadata": {},
   "source": [
    "ANS1 "
   ]
  },
  {
   "cell_type": "code",
   "execution_count": 40,
   "id": "9edc9a11-9055-4fb2-b198-4a1c4805ab6e",
   "metadata": {},
   "outputs": [],
   "source": [
    "import numpy as np\n",
    "import scipy"
   ]
  },
  {
   "cell_type": "code",
   "execution_count": 12,
   "id": "d0542890-fe07-4385-9e1a-32f634d63e7c",
   "metadata": {},
   "outputs": [],
   "source": [
    "def f_test(x,y):\n",
    "    x=np.array(x)\n",
    "    y=np.array(y)\n",
    "    f=np.var(x,ddof=1)/np.var(y,ddof=1)\n",
    "    dfn=x.size-1\n",
    "    dfd=y.size-1\n",
    "    p=1-scipy.stats.f.cdf(f,dfn,dfd)\n",
    "    return f,p"
   ]
  },
  {
   "cell_type": "code",
   "execution_count": 13,
   "id": "ce00852a-2505-4a17-ac7a-2fd45eca76ec",
   "metadata": {},
   "outputs": [],
   "source": [
    "x=np.arange(0,20,0.01)\n",
    "y=np.arange(0,30,0.05)"
   ]
  },
  {
   "cell_type": "code",
   "execution_count": 14,
   "id": "949fca80-374a-40c8-9f83-0a25b1bd776a",
   "metadata": {},
   "outputs": [
    {
     "data": {
      "text/plain": [
       "(0.44392678868552404, 1.0)"
      ]
     },
     "execution_count": 14,
     "metadata": {},
     "output_type": "execute_result"
    }
   ],
   "source": [
    "f_test(x,y)"
   ]
  },
  {
   "cell_type": "markdown",
   "id": "79feec82-325e-40f7-9fb4-b592228adb09",
   "metadata": {},
   "source": [
    "Ans2"
   ]
  },
  {
   "cell_type": "code",
   "execution_count": 16,
   "id": "386073ba-5e9c-4c94-a12b-3b995b3b2ff6",
   "metadata": {},
   "outputs": [
    {
     "name": "stdout",
     "output_type": "stream",
     "text": [
      "0.010464 0.00042400000000000017\n"
     ]
    },
    {
     "data": {
      "text/plain": [
       "(24.679245283018858, 0.004431318383760985)"
      ]
     },
     "execution_count": 16,
     "metadata": {},
     "output_type": "execute_result"
    }
   ],
   "source": [
    "import numpy as np\n",
    "import scipy.stats\n",
    "\n",
    "# Create data\n",
    "group1 = [0.28, 0.2, 0.26, 0.28, 0.5]\n",
    "group2 = [0.2, 0.23, 0.26, 0.21, 0.23]\n",
    "\n",
    "# converting the list to array\n",
    "x = np.array(group1)\n",
    "y = np.array(group2)\n",
    "\n",
    "# calculate variance of each group\n",
    "print(np.var(group1), np.var(group2))\n",
    "\n",
    "def f_test(group1, group2):\n",
    "\tf = np.var(group1, ddof=1)/np.var(group2, ddof=1)\n",
    "\tnun = x.size-1\n",
    "\tdun = y.size-1\n",
    "\tp_value = 1-scipy.stats.f.cdf(f, nun, dun)\n",
    "\treturn f, p_value\n",
    "\n",
    "# perform F-test\n",
    "f_test(x, y)\n"
   ]
  },
  {
   "cell_type": "markdown",
   "id": "320918c7-63d8-41bb-a80d-f8301bfd6607",
   "metadata": {},
   "source": [
    "Ans3"
   ]
  },
  {
   "cell_type": "code",
   "execution_count": 17,
   "id": "bced4752-be80-4b27-bccf-5973d57008bf",
   "metadata": {},
   "outputs": [],
   "source": [
    "def myf_test(a,b):\n",
    "    f=np.var(a,ddof=1)/np.var(b,ddof=1)\n",
    "    num=a.size-1\n",
    "    den=b.size-1\n",
    "    p_value=1-scipy.stats.f.cdf(f,num,den)\n",
    "    return f,p_value,num,den"
   ]
  },
  {
   "cell_type": "code",
   "execution_count": 18,
   "id": "550387a8-f2e2-4060-a3a3-1ed2830d404b",
   "metadata": {},
   "outputs": [],
   "source": [
    "a=np.random.normal(size=10)\n",
    "b=np.random.normal(size=20)"
   ]
  },
  {
   "cell_type": "code",
   "execution_count": 19,
   "id": "7811c257-3f5f-4fb1-a98e-bcd4b04c5973",
   "metadata": {},
   "outputs": [
    {
     "data": {
      "text/plain": [
       "(0.49042701828374063, 0.863104563298209, 9, 19)"
      ]
     },
     "execution_count": 19,
     "metadata": {},
     "output_type": "execute_result"
    }
   ],
   "source": [
    "myf_test(a,b)"
   ]
  },
  {
   "cell_type": "markdown",
   "id": "07bfbcb1-1a84-4104-a0a4-d3ba06910778",
   "metadata": {},
   "source": [
    "Ans4"
   ]
  },
  {
   "cell_type": "code",
   "execution_count": 20,
   "id": "b6b1c8b3-c8a6-48d3-9b37-649b55eff199",
   "metadata": {},
   "outputs": [],
   "source": [
    "Fvalue=15/10"
   ]
  },
  {
   "cell_type": "code",
   "execution_count": 21,
   "id": "0a9a8d6f-9f7a-4a51-8a1c-b78de27176d1",
   "metadata": {},
   "outputs": [
    {
     "data": {
      "text/plain": [
       "1.5"
      ]
     },
     "execution_count": 21,
     "metadata": {},
     "output_type": "execute_result"
    }
   ],
   "source": [
    "Fvalue"
   ]
  },
  {
   "cell_type": "code",
   "execution_count": null,
   "id": "eaa0c612-9383-4e62-ad1f-3be43cfc2908",
   "metadata": {},
   "outputs": [],
   "source": [
    "dfn=11,dfd=11"
   ]
  },
  {
   "cell_type": "code",
   "execution_count": 25,
   "id": "4f9f8e33-d616-4294-b432-775f7095250b",
   "metadata": {},
   "outputs": [],
   "source": [
    "p_VAlue=1-scipy.stats.f.cdf(Fvalue,dfn,dfd)"
   ]
  },
  {
   "cell_type": "code",
   "execution_count": 26,
   "id": "4ea91781-fdce-4a7d-906e-e4a1dcde9fbb",
   "metadata": {},
   "outputs": [
    {
     "data": {
      "text/plain": [
       "0.25619489936789974"
      ]
     },
     "execution_count": 26,
     "metadata": {},
     "output_type": "execute_result"
    }
   ],
   "source": [
    "p_VAlue"
   ]
  },
  {
   "cell_type": "markdown",
   "id": "75b5d563-3766-41d0-b253-a96316d325b0",
   "metadata": {},
   "source": [
    "The p_VAlue is less than 0.05 so we can accept the null hypothesis"
   ]
  },
  {
   "cell_type": "markdown",
   "id": "a9ec226f-487a-4efd-9e9e-c763a747f692",
   "metadata": {},
   "source": [
    "Ans5"
   ]
  },
  {
   "cell_type": "code",
   "execution_count": 28,
   "id": "f4b51795-9d1c-4b70-930d-0a985623ebbe",
   "metadata": {},
   "outputs": [],
   "source": [
    "Fvalue=0.06/0.05"
   ]
  },
  {
   "cell_type": "code",
   "execution_count": 29,
   "id": "75361db6-8a65-4dea-a55d-d8a16cc58cc0",
   "metadata": {},
   "outputs": [
    {
     "data": {
      "text/plain": [
       "1.2"
      ]
     },
     "execution_count": 29,
     "metadata": {},
     "output_type": "execute_result"
    }
   ],
   "source": [
    "Fvalue"
   ]
  },
  {
   "cell_type": "markdown",
   "id": "814241bb-91b8-4483-9713-9d40ac6c0c12",
   "metadata": {},
   "source": [
    "Fvalue fron table=1.7035"
   ]
  },
  {
   "cell_type": "markdown",
   "id": "a29986de-5312-4b13-ad1b-2bb1eda029b3",
   "metadata": {},
   "source": [
    "we accept the null hpothesis"
   ]
  },
  {
   "cell_type": "markdown",
   "id": "c596d453-1ada-4732-9711-3390ea0bcd1a",
   "metadata": {},
   "source": [
    "Ans6"
   ]
  },
  {
   "cell_type": "code",
   "execution_count": 32,
   "id": "af3a4204-85b9-4f72-a14c-1395f3c43078",
   "metadata": {},
   "outputs": [],
   "source": [
    "def my_function(a,b):\n",
    "    mean1=np.mean(a)\n",
    "    mean2=np.mean(b)\n",
    "    var1=np.var(a)\n",
    "    var2=np.var(b)\n",
    "    return(mean1,mean2,var1,var2)"
   ]
  },
  {
   "cell_type": "code",
   "execution_count": 34,
   "id": "6454bf7e-6c2d-45a5-9cbf-b050a6275ba0",
   "metadata": {},
   "outputs": [],
   "source": [
    "a=np.arange(0,10,0.01)\n",
    "b=np.arange(0,15,0.05)"
   ]
  },
  {
   "cell_type": "code",
   "execution_count": 35,
   "id": "bea3b986-47ac-4665-8a5e-0d4ea40654bf",
   "metadata": {},
   "outputs": [
    {
     "data": {
      "text/plain": [
       "(4.995, 7.475, 8.333325, 18.749791666666667)"
      ]
     },
     "execution_count": 35,
     "metadata": {},
     "output_type": "execute_result"
    }
   ],
   "source": [
    "my_function(a,b)"
   ]
  },
  {
   "cell_type": "markdown",
   "id": "2f2fb624-4844-48d0-8c68-2a46da4732bd",
   "metadata": {},
   "source": [
    "Ans7"
   ]
  },
  {
   "cell_type": "code",
   "execution_count": 36,
   "id": "a2a53ba3-736a-465f-b256-f14145188ea2",
   "metadata": {},
   "outputs": [],
   "source": [
    "f=25/20"
   ]
  },
  {
   "cell_type": "code",
   "execution_count": 37,
   "id": "f9ca227a-3d66-446c-81cd-932e9466309e",
   "metadata": {},
   "outputs": [
    {
     "data": {
      "text/plain": [
       "1.25"
      ]
     },
     "execution_count": 37,
     "metadata": {},
     "output_type": "execute_result"
    }
   ],
   "source": [
    "f"
   ]
  },
  {
   "cell_type": "markdown",
   "id": "8a44327e-e93e-41cd-8c8f-b1664d13bed0",
   "metadata": {},
   "source": [
    "fvaue from table=2.710"
   ]
  },
  {
   "cell_type": "markdown",
   "id": "95aa7c93-3623-4aeb-a96b-4624834b7bd9",
   "metadata": {},
   "source": [
    "so we cannot reject the null hypothesis"
   ]
  },
  {
   "cell_type": "markdown",
   "id": "ef04e216-6971-4399-9fcd-5dfd7c26f7ad",
   "metadata": {},
   "source": [
    "Ans8"
   ]
  },
  {
   "cell_type": "code",
   "execution_count": 39,
   "id": "c9e58ac8-5d8c-45b9-a6a9-625df95fff48",
   "metadata": {},
   "outputs": [],
   "source": [
    "A=[24,25,28,23,22,20,27]\n",
    "B=[31,33,35,30,32,36]"
   ]
  },
  {
   "cell_type": "code",
   "execution_count": 41,
   "id": "39aa4a7e-7d77-4386-8dbc-9216b1676984",
   "metadata": {},
   "outputs": [],
   "source": [
    "var1=np.var(A)"
   ]
  },
  {
   "cell_type": "code",
   "execution_count": 42,
   "id": "1e117416-4a3f-45e1-a8c5-01c773e4220a",
   "metadata": {},
   "outputs": [
    {
     "data": {
      "text/plain": [
       "6.6938775510204085"
      ]
     },
     "execution_count": 42,
     "metadata": {},
     "output_type": "execute_result"
    }
   ],
   "source": [
    "var1"
   ]
  },
  {
   "cell_type": "code",
   "execution_count": 43,
   "id": "d17a91ff-6669-4c0d-bb81-3837c7f05846",
   "metadata": {},
   "outputs": [],
   "source": [
    "var2=np.var(B)"
   ]
  },
  {
   "cell_type": "code",
   "execution_count": 44,
   "id": "2c1cbf8b-3305-4155-8a3e-143fa637e388",
   "metadata": {},
   "outputs": [
    {
     "data": {
      "text/plain": [
       "4.472222222222222"
      ]
     },
     "execution_count": 44,
     "metadata": {},
     "output_type": "execute_result"
    }
   ],
   "source": [
    "var2"
   ]
  },
  {
   "cell_type": "code",
   "execution_count": 45,
   "id": "1c91bcd2-0e24-4451-b296-0140206c3dfa",
   "metadata": {},
   "outputs": [],
   "source": [
    "f_value=var1/var2"
   ]
  },
  {
   "cell_type": "code",
   "execution_count": 46,
   "id": "0d729f53-11cd-49db-882a-b503f9e3cf29",
   "metadata": {},
   "outputs": [
    {
     "data": {
      "text/plain": [
       "1.496767651159843"
      ]
     },
     "execution_count": 46,
     "metadata": {},
     "output_type": "execute_result"
    }
   ],
   "source": [
    "f_value"
   ]
  },
  {
   "cell_type": "markdown",
   "id": "0062f708-1032-4cab-9c84-8e511a3b0b15",
   "metadata": {},
   "source": [
    "F_value from the table =6.997"
   ]
  },
  {
   "cell_type": "markdown",
   "id": "546de3c7-d40e-457b-909a-1d2a2e623333",
   "metadata": {},
   "source": [
    "The Fvaue is less than the value in the table so we cannot neglect the null hypothesis and their is no significant difference."
   ]
  },
  {
   "cell_type": "markdown",
   "id": "5356b9fd-0b35-43a2-bfc9-19c12a31df52",
   "metadata": {},
   "source": [
    "Ans9"
   ]
  },
  {
   "cell_type": "code",
   "execution_count": 47,
   "id": "126975dc-28e6-4185-8553-bd57a665a715",
   "metadata": {},
   "outputs": [],
   "source": [
    "GroupA=[80,85,90,92,87,83]\n",
    "GroupB=[75,78,82,79,81,84]"
   ]
  },
  {
   "cell_type": "code",
   "execution_count": 48,
   "id": "e8df2144-d856-4113-9198-bd670bdebbd4",
   "metadata": {},
   "outputs": [],
   "source": [
    "var11=np.var(GroupA)"
   ]
  },
  {
   "cell_type": "code",
   "execution_count": 49,
   "id": "bcd63bfb-dc00-4881-bc7c-fcd2bf8edf59",
   "metadata": {},
   "outputs": [
    {
     "data": {
      "text/plain": [
       "16.472222222222225"
      ]
     },
     "execution_count": 49,
     "metadata": {},
     "output_type": "execute_result"
    }
   ],
   "source": [
    "var11"
   ]
  },
  {
   "cell_type": "code",
   "execution_count": 52,
   "id": "253db2de-c813-4f8d-9e78-207508f59447",
   "metadata": {},
   "outputs": [],
   "source": [
    "var12=np.var(GroupB)"
   ]
  },
  {
   "cell_type": "code",
   "execution_count": 53,
   "id": "3ae10cd7-e09e-46aa-b253-d3a79c159966",
   "metadata": {},
   "outputs": [
    {
     "data": {
      "text/plain": [
       "8.472222222222221"
      ]
     },
     "execution_count": 53,
     "metadata": {},
     "output_type": "execute_result"
    }
   ],
   "source": [
    "var12"
   ]
  },
  {
   "cell_type": "code",
   "execution_count": 54,
   "id": "1168b7c0-5d63-4d2a-94f7-c94da613bec0",
   "metadata": {},
   "outputs": [],
   "source": [
    "f_value=var11/var12"
   ]
  },
  {
   "cell_type": "code",
   "execution_count": 55,
   "id": "b7aeb667-6235-407a-94a6-74d3af4e520d",
   "metadata": {},
   "outputs": [
    {
     "data": {
      "text/plain": [
       "1.9442622950819677"
      ]
     },
     "execution_count": 55,
     "metadata": {},
     "output_type": "execute_result"
    }
   ],
   "source": [
    "f_value"
   ]
  },
  {
   "cell_type": "code",
   "execution_count": 56,
   "id": "d9ea3320-a84b-449d-8813-ddc275474ae0",
   "metadata": {},
   "outputs": [],
   "source": [
    "#the value find from f talbe is given below"
   ]
  },
  {
   "cell_type": "code",
   "execution_count": 57,
   "id": "b24a0ed7-b324-418e-a3c4-9dc5f2e2aa05",
   "metadata": {},
   "outputs": [],
   "source": [
    "ftable=5.0503"
   ]
  },
  {
   "cell_type": "code",
   "execution_count": null,
   "id": "b4b62654-c878-4b01-a6c6-5400347e2b0e",
   "metadata": {},
   "outputs": [],
   "source": [
    "if f_value >ftable:\n",
    "    print(\"Accepted the alternate hypotheis\")\n",
    "else:\n",
    "    print(\"Accepted the"
   ]
  }
 ],
 "metadata": {
  "kernelspec": {
   "display_name": "Python 3 (ipykernel)",
   "language": "python",
   "name": "python3"
  },
  "language_info": {
   "codemirror_mode": {
    "name": "ipython",
    "version": 3
   },
   "file_extension": ".py",
   "mimetype": "text/x-python",
   "name": "python",
   "nbconvert_exporter": "python",
   "pygments_lexer": "ipython3",
   "version": "3.10.8"
  }
 },
 "nbformat": 4,
 "nbformat_minor": 5
}
