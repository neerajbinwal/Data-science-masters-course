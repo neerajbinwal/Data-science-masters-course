{
 "cells": [
  {
   "cell_type": "code",
   "execution_count": 19,
   "id": "7761b388-ae2c-493e-988b-68cb9d297b98",
   "metadata": {},
   "outputs": [],
   "source": [
    "import pandas as pd"
   ]
  },
  {
   "cell_type": "markdown",
   "id": "3427654e-011d-40c7-9aa6-f181563cd528",
   "metadata": {},
   "source": [
    "Ans1."
   ]
  },
  {
   "cell_type": "code",
   "execution_count": 46,
   "id": "a510262b-33de-4f2e-9a42-eda5052ad176",
   "metadata": {},
   "outputs": [],
   "source": [
    "df1=pd.Series([4,8,15,16,23,42])"
   ]
  },
  {
   "cell_type": "code",
   "execution_count": 47,
   "id": "d2fe67c2-8b0c-466e-b74b-ef11fe3f93ed",
   "metadata": {},
   "outputs": [
    {
     "data": {
      "text/plain": [
       "0     4\n",
       "1     8\n",
       "2    15\n",
       "3    16\n",
       "4    23\n",
       "5    42\n",
       "dtype: int64"
      ]
     },
     "execution_count": 47,
     "metadata": {},
     "output_type": "execute_result"
    }
   ],
   "source": [
    "df1"
   ]
  },
  {
   "cell_type": "code",
   "execution_count": 5,
   "id": "eaddb216-15e6-4cc9-8106-030a5d4ceb08",
   "metadata": {},
   "outputs": [
    {
     "data": {
      "text/plain": [
       "pandas.core.series.Series"
      ]
     },
     "execution_count": 5,
     "metadata": {},
     "output_type": "execute_result"
    }
   ],
   "source": [
    "type(df1)"
   ]
  },
  {
   "cell_type": "markdown",
   "id": "0352c8e8-3f25-44b5-9e76-91c23b0624e7",
   "metadata": {},
   "source": [
    "Ans 2"
   ]
  },
  {
   "cell_type": "code",
   "execution_count": 6,
   "id": "faf72d80-0c49-4ee3-a8f0-7a0edf9a8a63",
   "metadata": {},
   "outputs": [],
   "source": [
    "list = ['a','b','c','d','e','f','g','h','i','j']"
   ]
  },
  {
   "cell_type": "code",
   "execution_count": 7,
   "id": "58724d7a-adaa-4241-bbea-11c368c56e9f",
   "metadata": {},
   "outputs": [],
   "source": [
    "df2=pd.Series(list)"
   ]
  },
  {
   "cell_type": "code",
   "execution_count": 8,
   "id": "6e211d62-6673-41c0-a655-16d35a6e7fc8",
   "metadata": {},
   "outputs": [
    {
     "data": {
      "text/plain": [
       "0    a\n",
       "1    b\n",
       "2    c\n",
       "3    d\n",
       "4    e\n",
       "5    f\n",
       "6    g\n",
       "7    h\n",
       "8    i\n",
       "9    j\n",
       "dtype: object"
      ]
     },
     "execution_count": 8,
     "metadata": {},
     "output_type": "execute_result"
    }
   ],
   "source": [
    "df2"
   ]
  },
  {
   "cell_type": "markdown",
   "id": "34fe9708-6643-477e-948a-70e86a0c5885",
   "metadata": {},
   "source": [
    "Ans4"
   ]
  },
  {
   "cell_type": "code",
   "execution_count": 20,
   "id": "76a81280-e9b4-4cab-b95d-f57e573d9743",
   "metadata": {},
   "outputs": [],
   "source": [
    "df3=pd.DataFrame({\"Name\":[\"Alice\",\"Bob\",\"Claire\"],\"Age\":[\"25\",\"30\",\"27\"],\"Gender\":[\"Female\",\"Male\",\"Female\"]})"
   ]
  },
  {
   "cell_type": "code",
   "execution_count": 21,
   "id": "421bd178-6382-401f-b1bc-5e2b059fa72d",
   "metadata": {},
   "outputs": [
    {
     "data": {
      "text/html": [
       "<div>\n",
       "<style scoped>\n",
       "    .dataframe tbody tr th:only-of-type {\n",
       "        vertical-align: middle;\n",
       "    }\n",
       "\n",
       "    .dataframe tbody tr th {\n",
       "        vertical-align: top;\n",
       "    }\n",
       "\n",
       "    .dataframe thead th {\n",
       "        text-align: right;\n",
       "    }\n",
       "</style>\n",
       "<table border=\"1\" class=\"dataframe\">\n",
       "  <thead>\n",
       "    <tr style=\"text-align: right;\">\n",
       "      <th></th>\n",
       "      <th>Name</th>\n",
       "      <th>Age</th>\n",
       "      <th>Gender</th>\n",
       "    </tr>\n",
       "  </thead>\n",
       "  <tbody>\n",
       "    <tr>\n",
       "      <th>0</th>\n",
       "      <td>Alice</td>\n",
       "      <td>25</td>\n",
       "      <td>Female</td>\n",
       "    </tr>\n",
       "    <tr>\n",
       "      <th>1</th>\n",
       "      <td>Bob</td>\n",
       "      <td>30</td>\n",
       "      <td>Male</td>\n",
       "    </tr>\n",
       "    <tr>\n",
       "      <th>2</th>\n",
       "      <td>Claire</td>\n",
       "      <td>27</td>\n",
       "      <td>Female</td>\n",
       "    </tr>\n",
       "  </tbody>\n",
       "</table>\n",
       "</div>"
      ],
      "text/plain": [
       "     Name Age  Gender\n",
       "0   Alice  25  Female\n",
       "1     Bob  30    Male\n",
       "2  Claire  27  Female"
      ]
     },
     "execution_count": 21,
     "metadata": {},
     "output_type": "execute_result"
    }
   ],
   "source": [
    "df3"
   ]
  },
  {
   "cell_type": "markdown",
   "id": "c6d71531-846a-41a8-8ba9-4576463e6f0f",
   "metadata": {},
   "source": [
    "Ans 4"
   ]
  },
  {
   "cell_type": "markdown",
   "id": "a6b4b3ec-2882-4bfa-b5c6-21bad7fec585",
   "metadata": {},
   "source": [
    "A dataframe can hold number of columns but series can hold number of rows but has a single column.lets see with the help "
   ]
  },
  {
   "cell_type": "code",
   "execution_count": 14,
   "id": "72eb06cb-4648-427e-b5ae-29a9e7342010",
   "metadata": {},
   "outputs": [],
   "source": [
    "df4=pd.DataFrame({\"Name\":[\"A\",\"B\",\"C\",\"D\"],\"Age\":[12,25,35,56],\"Marks\":[45,89,85,96]})"
   ]
  },
  {
   "cell_type": "code",
   "execution_count": 15,
   "id": "39477776-aa30-4147-864a-6db343504588",
   "metadata": {},
   "outputs": [
    {
     "data": {
      "text/html": [
       "<div>\n",
       "<style scoped>\n",
       "    .dataframe tbody tr th:only-of-type {\n",
       "        vertical-align: middle;\n",
       "    }\n",
       "\n",
       "    .dataframe tbody tr th {\n",
       "        vertical-align: top;\n",
       "    }\n",
       "\n",
       "    .dataframe thead th {\n",
       "        text-align: right;\n",
       "    }\n",
       "</style>\n",
       "<table border=\"1\" class=\"dataframe\">\n",
       "  <thead>\n",
       "    <tr style=\"text-align: right;\">\n",
       "      <th></th>\n",
       "      <th>Name</th>\n",
       "      <th>Age</th>\n",
       "      <th>Marks</th>\n",
       "    </tr>\n",
       "  </thead>\n",
       "  <tbody>\n",
       "    <tr>\n",
       "      <th>0</th>\n",
       "      <td>A</td>\n",
       "      <td>12</td>\n",
       "      <td>45</td>\n",
       "    </tr>\n",
       "    <tr>\n",
       "      <th>1</th>\n",
       "      <td>B</td>\n",
       "      <td>25</td>\n",
       "      <td>89</td>\n",
       "    </tr>\n",
       "    <tr>\n",
       "      <th>2</th>\n",
       "      <td>C</td>\n",
       "      <td>35</td>\n",
       "      <td>85</td>\n",
       "    </tr>\n",
       "    <tr>\n",
       "      <th>3</th>\n",
       "      <td>D</td>\n",
       "      <td>56</td>\n",
       "      <td>96</td>\n",
       "    </tr>\n",
       "  </tbody>\n",
       "</table>\n",
       "</div>"
      ],
      "text/plain": [
       "  Name  Age  Marks\n",
       "0    A   12     45\n",
       "1    B   25     89\n",
       "2    C   35     85\n",
       "3    D   56     96"
      ]
     },
     "execution_count": 15,
     "metadata": {},
     "output_type": "execute_result"
    }
   ],
   "source": [
    "df4"
   ]
  },
  {
   "cell_type": "markdown",
   "id": "adecc036-6e6c-4377-9a3e-e090378003b2",
   "metadata": {},
   "source": [
    "df4 is a dataframe which has 3 number of rows"
   ]
  },
  {
   "cell_type": "code",
   "execution_count": 16,
   "id": "0eb2a72f-1da3-4279-9370-69eb676469f3",
   "metadata": {},
   "outputs": [],
   "source": [
    "df5=pd.Series([1,2,5,6,8])"
   ]
  },
  {
   "cell_type": "code",
   "execution_count": 17,
   "id": "4b8c9bf3-73ff-4251-a2e5-7a269f461d8c",
   "metadata": {},
   "outputs": [
    {
     "data": {
      "text/plain": [
       "0    1\n",
       "1    2\n",
       "2    5\n",
       "3    6\n",
       "4    8\n",
       "dtype: int64"
      ]
     },
     "execution_count": 17,
     "metadata": {},
     "output_type": "execute_result"
    }
   ],
   "source": [
    "df5"
   ]
  },
  {
   "cell_type": "markdown",
   "id": "93dccefd-664d-45bf-95c9-c3ed6fba960f",
   "metadata": {},
   "source": [
    "Ans5 I have used some common python function."
   ]
  },
  {
   "cell_type": "code",
   "execution_count": 32,
   "id": "8c2f8dc0-c256-4682-8f2a-85515586819e",
   "metadata": {},
   "outputs": [],
   "source": [
    "df7= pd.Series([1.2,3,4,5,6,7,8,9,10,11,12])"
   ]
  },
  {
   "cell_type": "code",
   "execution_count": 33,
   "id": "a85b9f1f-d1cb-4d0a-ab2e-26520c1fe999",
   "metadata": {},
   "outputs": [
    {
     "data": {
      "text/plain": [
       "0      1.2\n",
       "1      3.0\n",
       "2      4.0\n",
       "3      5.0\n",
       "4      6.0\n",
       "5      7.0\n",
       "6      8.0\n",
       "7      9.0\n",
       "8     10.0\n",
       "9     11.0\n",
       "10    12.0\n",
       "dtype: float64"
      ]
     },
     "execution_count": 33,
     "metadata": {},
     "output_type": "execute_result"
    }
   ],
   "source": [
    "df7"
   ]
  },
  {
   "cell_type": "code",
   "execution_count": 34,
   "id": "78717698-99b9-4444-a5d8-89f39666551d",
   "metadata": {},
   "outputs": [
    {
     "data": {
      "text/plain": [
       "0    1.2\n",
       "1    3.0\n",
       "2    4.0\n",
       "3    5.0\n",
       "4    6.0\n",
       "dtype: float64"
      ]
     },
     "execution_count": 34,
     "metadata": {},
     "output_type": "execute_result"
    }
   ],
   "source": [
    "df7.head()"
   ]
  },
  {
   "cell_type": "code",
   "execution_count": 35,
   "id": "c477c138-3e49-4d76-8a4f-b3552b36e4e9",
   "metadata": {},
   "outputs": [
    {
     "data": {
      "text/plain": [
       "6      8.0\n",
       "7      9.0\n",
       "8     10.0\n",
       "9     11.0\n",
       "10    12.0\n",
       "dtype: float64"
      ]
     },
     "execution_count": 35,
     "metadata": {},
     "output_type": "execute_result"
    }
   ],
   "source": [
    "df7.tail()"
   ]
  },
  {
   "cell_type": "code",
   "execution_count": 36,
   "id": "1228211d-2c3e-48c7-a658-cab8cb84153f",
   "metadata": {},
   "outputs": [
    {
     "data": {
      "text/plain": [
       "count    11.000000\n",
       "mean      6.927273\n",
       "std       3.443571\n",
       "min       1.200000\n",
       "25%       4.500000\n",
       "50%       7.000000\n",
       "75%       9.500000\n",
       "max      12.000000\n",
       "dtype: float64"
      ]
     },
     "execution_count": 36,
     "metadata": {},
     "output_type": "execute_result"
    }
   ],
   "source": [
    "df7.describe()"
   ]
  },
  {
   "cell_type": "code",
   "execution_count": 40,
   "id": "9b1a706a-450f-4144-8143-0ef2e92b29fe",
   "metadata": {},
   "outputs": [
    {
     "data": {
      "text/plain": [
       "dtype('float64')"
      ]
     },
     "execution_count": 40,
     "metadata": {},
     "output_type": "execute_result"
    }
   ],
   "source": [
    "df7.dtypes"
   ]
  },
  {
   "cell_type": "code",
   "execution_count": 42,
   "id": "14ead9a5-1d0c-491f-a2ef-828fed7ee0bb",
   "metadata": {},
   "outputs": [
    {
     "data": {
      "text/plain": [
       "Index(['Name', 'Age', 'Marks'], dtype='object')"
      ]
     },
     "execution_count": 42,
     "metadata": {},
     "output_type": "execute_result"
    }
   ],
   "source": [
    "df4.columns"
   ]
  },
  {
   "cell_type": "markdown",
   "id": "6803b921-537f-43e3-bcd2-08b871eeb353",
   "metadata": {},
   "source": [
    "Ans6"
   ]
  },
  {
   "cell_type": "markdown",
   "id": "b5dfe024-f964-4e5d-9ab6-102e864c0046",
   "metadata": {},
   "source": [
    "Dataframe and panel are mutable"
   ]
  },
  {
   "cell_type": "code",
   "execution_count": null,
   "id": "5e578178-f5fc-409c-991e-e250476a18fe",
   "metadata": {},
   "outputs": [],
   "source": [
    "Ans 7"
   ]
  },
  {
   "cell_type": "code",
   "execution_count": 52,
   "id": "f1386b81-4785-43a0-94d1-3e9e5c741091",
   "metadata": {},
   "outputs": [],
   "source": [
    "df8=pd.Series([\"Students\",\"B\",\"C\",\"D\",\"E\"])"
   ]
  },
  {
   "cell_type": "code",
   "execution_count": 53,
   "id": "704c5ab5-068b-45ab-abf6-f675a428e089",
   "metadata": {},
   "outputs": [],
   "source": [
    "df9=pd.Series([\"percentage\",\"45\",\"96\",\"85\",\"96\"])"
   ]
  },
  {
   "cell_type": "code",
   "execution_count": 58,
   "id": "79a588d6-f0ef-48af-bbf1-22364896b5ec",
   "metadata": {},
   "outputs": [],
   "source": [
    "df10=pd.concat([df8,df9],axis=1)"
   ]
  },
  {
   "cell_type": "code",
   "execution_count": 59,
   "id": "a74597ac-4148-45d2-8e93-c99572b9b93f",
   "metadata": {},
   "outputs": [
    {
     "data": {
      "text/html": [
       "<div>\n",
       "<style scoped>\n",
       "    .dataframe tbody tr th:only-of-type {\n",
       "        vertical-align: middle;\n",
       "    }\n",
       "\n",
       "    .dataframe tbody tr th {\n",
       "        vertical-align: top;\n",
       "    }\n",
       "\n",
       "    .dataframe thead th {\n",
       "        text-align: right;\n",
       "    }\n",
       "</style>\n",
       "<table border=\"1\" class=\"dataframe\">\n",
       "  <thead>\n",
       "    <tr style=\"text-align: right;\">\n",
       "      <th></th>\n",
       "      <th>0</th>\n",
       "      <th>1</th>\n",
       "    </tr>\n",
       "  </thead>\n",
       "  <tbody>\n",
       "    <tr>\n",
       "      <th>0</th>\n",
       "      <td>Students</td>\n",
       "      <td>percentage</td>\n",
       "    </tr>\n",
       "    <tr>\n",
       "      <th>1</th>\n",
       "      <td>B</td>\n",
       "      <td>45</td>\n",
       "    </tr>\n",
       "    <tr>\n",
       "      <th>2</th>\n",
       "      <td>C</td>\n",
       "      <td>96</td>\n",
       "    </tr>\n",
       "    <tr>\n",
       "      <th>3</th>\n",
       "      <td>D</td>\n",
       "      <td>85</td>\n",
       "    </tr>\n",
       "    <tr>\n",
       "      <th>4</th>\n",
       "      <td>E</td>\n",
       "      <td>96</td>\n",
       "    </tr>\n",
       "  </tbody>\n",
       "</table>\n",
       "</div>"
      ],
      "text/plain": [
       "          0           1\n",
       "0  Students  percentage\n",
       "1         B          45\n",
       "2         C          96\n",
       "3         D          85\n",
       "4         E          96"
      ]
     },
     "execution_count": 59,
     "metadata": {},
     "output_type": "execute_result"
    }
   ],
   "source": [
    "df10"
   ]
  },
  {
   "cell_type": "code",
   "execution_count": 60,
   "id": "432a13a4-0ed3-423b-a721-ab80dedd955b",
   "metadata": {},
   "outputs": [
    {
     "data": {
      "text/plain": [
       "pandas.core.frame.DataFrame"
      ]
     },
     "execution_count": 60,
     "metadata": {},
     "output_type": "execute_result"
    }
   ],
   "source": [
    "type(df10)"
   ]
  },
  {
   "cell_type": "code",
   "execution_count": null,
   "id": "edf48ff4-6f5d-4068-ad0d-8c56dcb93639",
   "metadata": {},
   "outputs": [],
   "source": []
  }
 ],
 "metadata": {
  "kernelspec": {
   "display_name": "Python 3 (ipykernel)",
   "language": "python",
   "name": "python3"
  },
  "language_info": {
   "codemirror_mode": {
    "name": "ipython",
    "version": 3
   },
   "file_extension": ".py",
   "mimetype": "text/x-python",
   "name": "python",
   "nbconvert_exporter": "python",
   "pygments_lexer": "ipython3",
   "version": "3.10.8"
  }
 },
 "nbformat": 4,
 "nbformat_minor": 5
}
