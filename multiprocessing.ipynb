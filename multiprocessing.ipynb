{
 "cells": [
  {
   "cell_type": "markdown",
   "id": "653d7e2b-5599-4929-8df2-bc6afb888300",
   "metadata": {},
   "source": [
    "Ans1...Multiprocessing refers to the ability of a system to support more than one processor at the same time. Applications in a multiprocessing system are broken to smaller routines that run independently. The operating system allocates these threads to the processors improving performance of the system.\n",
    "By help of multiprocessing we can run many function parallel to each other improving the performance of the system and the program."
   ]
  },
  {
   "cell_type": "markdown",
   "id": "a35f83eb-a12d-4572-bf30-26264a1d35b9",
   "metadata": {},
   "source": [
    "Ans 2 Key Difference Between Multithreading and Multiprocessing\n",
    "A multiprocessing system has more than two processors whereas Multithreading is a program execution technique that allows a single process to have multiple code segments\n",
    "Multiprocessing improves the reliability of the system while in the multithreading process, each thread runs parallel to each other.\n",
    "Multiprocessing helps you to increase computing power whereas multithreading helps you create computing threads of a single process\n",
    "In Multiprocessing, the creation of a process, is slow and resource-specific whereas, in Multiprogramming, the creation of a thread is economical in time and resource.\n",
    "Multithreading avoids pickling, whereas Multiprocessing relies on pickling objects in memory to send to other processes.\n",
    "Multiprocessing system takes less time whereas for job processing a moderate amount of time is taken."
   ]
  },
  {
   "cell_type": "code",
   "execution_count": 2,
   "id": "155ee5ca-f725-48a8-aed5-9994917c9058",
   "metadata": {},
   "outputs": [
    {
     "name": "stdout",
     "output_type": "stream",
     "text": [
      "this is my main program\n",
      "This is my processing program\n"
     ]
    }
   ],
   "source": [
    "##Ans3\n",
    "import multiprocessing\n",
    "\n",
    "def test():\n",
    "    print(\"This is my processing program\")\n",
    "if __name__==\"__main__\":\n",
    "    n=multiprocessing.Process(target=test)\n",
    "    print(\"this is my main program\")\n",
    "    n.start()\n",
    "    n.join()"
   ]
  },
  {
   "cell_type": "markdown",
   "id": "bf78271f-3c6a-4af1-896f-8bddcb5aa319",
   "metadata": {},
   "source": [
    "##ans 4\n",
    "A process pool is a programming pattern for automatically managing a pool of worker processes.\n",
    "\n",
    "The pool is responsible for a fixed number of processes.\n",
    "\n",
    "It controls when they are created, such as when they are needed.\n",
    "It also controls what they should do when they are not being used, such as making them wait without consuming computational resources.\n",
    "The pool can provide a generic interface for executing ad hoc tasks with a variable number of arguments, much like the target property on the Process object, but does not require that we choose a process to run the task, start the process, or wait for the task to complete.\n",
    "\n",
    "Python provides a process pool via the multiprocessing.Pool class."
   ]
  },
  {
   "cell_type": "markdown",
   "id": "0b197f10-d718-4413-9d10-f6b3de8911bb",
   "metadata": {},
   "source": [
    "ANS 5The Pool class represents a pool of worker processes. It has methods which allows tasks to be offloaded to the worker processes in a few different ways.\n",
    "The ‘Pool’ class is used in Python for parallel processing tasks. A process is an instance of a running program and a Thread can be scheduled for a process at a time. Multiprocessing, in simple terms is the running of processes in more than one CPU processor or a Core. The multiprocessing is a module which uses an API which are used to spawn processes in multiple cores. An instance of multiprocessing is the Pool object. You can create any number of processes using the Pool. \n",
    "\n",
    "\n"
   ]
  },
  {
   "cell_type": "code",
   "execution_count": 8,
   "id": "023df56d-c9e5-43f7-aa23-54029201cb87",
   "metadata": {},
   "outputs": [
    {
     "ename": "IndentationError",
     "evalue": "expected an indented block after function definition on line 3 (1755509192.py, line 5)",
     "output_type": "error",
     "traceback": [
      "\u001b[0;36m  Cell \u001b[0;32mIn[8], line 5\u001b[0;36m\u001b[0m\n\u001b[0;31m    ls = []\u001b[0m\n\u001b[0m    ^\u001b[0m\n\u001b[0;31mIndentationError\u001b[0m\u001b[0;31m:\u001b[0m expected an indented block after function definition on line 3\n"
     ]
    }
   ],
   "source": [
    "from multiprocessing import Pool\n",
    "\n",
    "def append (num):\n",
    "\n",
    "ls = []\n",
    "\n",
    "ls.append (num)\n",
    "\n",
    "return (ls)\n",
    "\n",
    "if __name__ == \"__main__\":\n",
    "\n",
    "with (Pool (10)) as pl:\n",
    "\n",
    "print (pl)\n",
    "\n",
    "In the above snippet, append() is a small function. Pool will spawn 10 instances of the method append()."
   ]
  }
 ],
 "metadata": {
  "kernelspec": {
   "display_name": "Python 3 (ipykernel)",
   "language": "python",
   "name": "python3"
  },
  "language_info": {
   "codemirror_mode": {
    "name": "ipython",
    "version": 3
   },
   "file_extension": ".py",
   "mimetype": "text/x-python",
   "name": "python",
   "nbconvert_exporter": "python",
   "pygments_lexer": "ipython3",
   "version": "3.10.8"
  }
 },
 "nbformat": 4,
 "nbformat_minor": 5
}
