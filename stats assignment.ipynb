{
 "cells": [
  {
   "cell_type": "markdown",
   "id": "e33ba002-ebeb-493a-a8c5-c401f5a8db64",
   "metadata": {},
   "source": [
    "Statistics is the science of collecting,organizing and analysing data to get the desired outcome."
   ]
  },
  {
   "cell_type": "markdown",
   "id": "a1989e5f-3f28-4351-98c1-dc38971b32c3",
   "metadata": {},
   "source": [
    "Stactistics are of two types:\n",
    "1. Descriptive Statistics\n",
    "2. Infuential Statistics\n",
    "1. Descriptive Statistics\n",
    "It consists of organizing and summarizing a data.\n",
    "2. Infleuntial Statistics\n",
    "It consists of getting a conclusion from the given dataset.\n",
    "Example of descriptive statistics.\n",
    "1.The marks of student in a class\n",
    "Example of influential Statistics.\n",
    "1.The marks of students in the class and determine how has a chance to become a board topper.\n"
   ]
  },
  {
   "cell_type": "markdown",
   "id": "34012d72-ec36-425f-a973-11ed5c7775dc",
   "metadata": {},
   "source": [
    "The data have main two types:\n",
    "1. Quantative\n",
    "2. Qualitative\n",
    "1.Quantative data deals with  numerical data.\n",
    "it also has two subtypes \n",
    "1.Discrete(deals with whole numbers)\n",
    "2.Continous(Any value,float)\n",
    "2.Qualitative\n",
    "it is categorical data.\n",
    "it also have two subtypes\n",
    "1. Nominal\n",
    "2. Ordinal(rank)\n",
    "Examples of quantative data :\n",
    "numbers of students in different classes is qantative data set(it is discrete)\n",
    "percentage of each student is continuous.\n",
    "Examples of Qualitative Dataset\n",
    "1. data set of gender,colour(nominal)\n",
    "2. data set of of position in the class(ordinal)\n"
   ]
  },
  {
   "cell_type": "markdown",
   "id": "f42bbfac-a7d2-4337-a21c-5a2b6429d82f",
   "metadata": {},
   "source": [
    "(i) Grading in exam: A+, A, B+, B, C+, C, D, E[Qualitative data type(ordinal)]\n",
    "(ii) Colour of mangoes: yellow, green, orange, red[qualitative data type(nominal)]\n",
    "(iii) Height data of a class: [178.9, 179, 179.5, 176, 177.2, 178.3, 175.8,...][quntative(Countinuous)]\n",
    "(iv) Number of mangoes exported by a farm: [500, 600, 478, 672, ...][quantative(discrete)]"
   ]
  },
  {
   "cell_type": "markdown",
   "id": "ab1c5f19-5670-4e4a-8551-d8f41935442c",
   "metadata": {},
   "source": [
    "Ans 5There are four level of measurement:\n",
    "1. Nominal scale Data\n",
    "2. Ordinal scale Data\n",
    "3. Interval scale Data\n",
    "4. Ratio scale Data\n",
    "Nominal scale data:-\n",
    "1.order does not matter\n",
    "2. Dataset of like gender,colour etc\n",
    "example: The data set which shows gender of the people in a paticular area.\n",
    "Ordinal scale Data:-\n",
    "1. Rank and order matter.\n",
    "2. Difference cannot be measured\n",
    "example: The data set which shows the position of students according to their percenatages.\n",
    "3. Internal scale data\n",
    "1. Rank and order matter.\n",
    "2. Difference can be measured (exluding ratios)\n",
    "3. Does not start with zero\n",
    "example: The data sets which shows the sales of product different months.\n",
    "4. Ratio scale data \n",
    "1. Order and rank matter.\n",
    "2. Difference can be measured(including ratios)\n",
    "3. Does not have zero as starting.\n",
    "example:The data  sets which shows the salary of employees of a company"
   ]
  },
  {
   "cell_type": "markdown",
   "id": "40efe524-76e9-4090-b20b-c7202162ece6",
   "metadata": {},
   "source": [
    "Ans6 The level at which you measure a variable determines how you can analyze your data.\n",
    "\n",
    "The different levels limit which descriptive statistics you can use to get an overall summary of your data, and which type of inferential statistics you can perform on your data to support or refute your hypothesis.\n",
    "\n",
    "In many cases, your variables can be measured at different levels, so you have to choose the level of measurement you will use before data collection begins."
   ]
  },
  {
   "cell_type": "markdown",
   "id": "460ab720-0fff-42c7-9811-84924d43b3ff",
   "metadata": {},
   "source": [
    "EXAMPLE : If you have dataset which has population of particular area it can analysed by the of internal scale data and if other dataset is which shows nationaliy of people it can be analyzed by the help of Nominal scale data "
   ]
  },
  {
   "cell_type": "markdown",
   "id": "47d92d16-f183-44cd-9fdb-859a56840550",
   "metadata": {},
   "source": [
    "Ans7 The difference between ordinal scale data and nominal scale data in nominal scale data order does not matter while in ordinal scale data order does not matter."
   ]
  },
  {
   "cell_type": "markdown",
   "id": "ae972160-3474-49e5-a009-65b6b4fac5f7",
   "metadata": {},
   "source": [
    "Ans 8  Box plot can be used to display data in terms of range"
   ]
  },
  {
   "cell_type": "markdown",
   "id": "7a857f2e-5054-4a12-a4ac-73d336fbca7d",
   "metadata": {},
   "source": [
    "Ans 9 Descriptive statistics describe a sample. That’s pretty straightforward. You simply take a group that you’re interested in, record data about the group members, and then use summary statistics and graphs to present the group properties. With descriptive statistics, there is no uncertainty because you are describing only the people or items that you actually measure. You’re not trying to infer properties about a larger population.\n",
    "Inferential statistics takes data from a sample and makes inferences about the larger population from which the sample was drawn. Because the goal of inferential statistics is to draw conclusions from a sample and generalize them to a population, we need to have confidence that our sample accurately reflects the population\n",
    "Example of descriptive statistics\n",
    "Suppose we want to describe the test scores in a specific class of 30 students. We record all of the test scores and calculate the summary statistics and produce graphs\n",
    "Example of Inferential Statistics\n",
    "The dataset of sales data of a product for this year to forecast the scales for upcoming years."
   ]
  },
  {
   "cell_type": "markdown",
   "id": "967bffac-cdb9-40d9-81ea-58eb5d80ece6",
   "metadata": {},
   "source": [
    "Ans 10  Mean mode and median are the measure of central tendency.\n",
    "There are many ways to describe variability or spread including:\n",
    "\n",
    "Range\n",
    "Interquartile range (IQR)\n",
    "Variance and Standard Deviation\n"
   ]
  },
  {
   "cell_type": "markdown",
   "id": "0d4f36c4-ce90-4e87-a1e7-d6be860d2be5",
   "metadata": {},
   "source": [
    "Mean: The \"average\" number; found by adding all data points and dividing by the number of data points.\n",
    "Mode: The most frequent number—that is, the number that occurs the highest number of times.\n",
    "Median: The middle number; found by ordering all data points and picking out the one in the middle (or if there are two middle numbers, taking the mean of those two numbers)."
   ]
  },
  {
   "cell_type": "code",
   "execution_count": null,
   "id": "2dcd7923-8e8c-4b59-9a9b-63011f2a388e",
   "metadata": {},
   "outputs": [],
   "source": []
  }
 ],
 "metadata": {
  "kernelspec": {
   "display_name": "Python 3 (ipykernel)",
   "language": "python",
   "name": "python3"
  },
  "language_info": {
   "codemirror_mode": {
    "name": "ipython",
    "version": 3
   },
   "file_extension": ".py",
   "mimetype": "text/x-python",
   "name": "python",
   "nbconvert_exporter": "python",
   "pygments_lexer": "ipython3",
   "version": "3.10.8"
  }
 },
 "nbformat": 4,
 "nbformat_minor": 5
}
