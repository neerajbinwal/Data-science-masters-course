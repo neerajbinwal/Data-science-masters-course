{
 "cells": [
  {
   "cell_type": "markdown",
   "id": "9b42fbc1-a2f8-46fb-b647-0029a2ed2722",
   "metadata": {},
   "source": [
    "ANS1. Multithreading in Python is a popular technique that enables multiple tasks to be executed simultaneously. In simple words, the ability of a processor to execute multiple threads simultaneously is known as multithreading.\n",
    "Python multithreading facilitates sharing data space and resources of multiple threads with the main thread. It allows efficient and easy communication between the threads\n",
    "If you wish to break down your tasks and applications into multiple sub-tasks and then execute them simultaneously, then multithreading in Python is your best bet. All important aspects such as performance, rendering, speed and time consumption will drastically be improved by using proper Python multithreading.\n"
   ]
  },
  {
   "cell_type": "markdown",
   "id": "710810a4-b928-4d6a-9864-02caccc0b1e1",
   "metadata": {},
   "source": [
    "To facilitate multithreading in Python, we can make use of the following modules offered by Python –\n",
    "\n",
    "1.Thread Module\n",
    "2.Threading Module"
   ]
  },
  {
   "cell_type": "markdown",
   "id": "5d310739-5070-46d9-b8af-b4bfa19545d5",
   "metadata": {},
   "source": [
    "Ans 2 Threading module is used to make threads of a particular programs that can run efficiently consuming less time it easy than the thread module.\n",
    "1.activecount()----->Returns the number of thread objects that are active.\n",
    "2.currentthread----->\n",
    "current_thread() is an inbuilt method of the threading module in Python. It is used to return the current Thread object, which corresponds to the caller's thread of control.\n",
    "3.enumarate()---> Returns a list of all thread objects that are currently active.\n",
    "\n"
   ]
  },
  {
   "cell_type": "markdown",
   "id": "c5359833-7ae0-4fa3-ad32-cfcc8242c564",
   "metadata": {},
   "source": [
    "Ans3....\n",
    "1.run()-----> The run() method is the entry point for a thread.\n",
    "2.start()---->The start() method starts a thread by calling the run method.\n",
    "3.join()---->\n",
    "Whenever this method is called for any Thread object, it blocks the calling thread till the time the thread whose join() method is called terminates, either normally or through an unhandled exception.\n",
    "4.isAlive--->The isAlive() method checks whether a thread is still executing\n"
   ]
  },
  {
   "cell_type": "code",
   "execution_count": 2,
   "id": "61d0ca3b-c430-4abf-98e1-5161fcd12aed",
   "metadata": {},
   "outputs": [],
   "source": [
    "##Ans4> \n",
    "def square_list(x):\n",
    "    list1=[]\n",
    "    c=x*x\n",
    "    list1.append(c)\n",
    "    print(list1)\n",
    "    "
   ]
  },
  {
   "cell_type": "code",
   "execution_count": 3,
   "id": "8af25fda-faa9-4bc4-970e-1f288d772201",
   "metadata": {},
   "outputs": [],
   "source": [
    "def cube_list(y):\n",
    "    list2=[]\n",
    "    b=y*y*y\n",
    "    list2.append(b)\n",
    "    print(list2)"
   ]
  },
  {
   "cell_type": "code",
   "execution_count": 4,
   "id": "b17e8521-313a-45d4-9fc6-b999a8c457d6",
   "metadata": {},
   "outputs": [],
   "source": [
    "import threading"
   ]
  },
  {
   "cell_type": "code",
   "execution_count": 20,
   "id": "88a46f53-1943-4b0b-b40d-7a961c0f555a",
   "metadata": {},
   "outputs": [
    {
     "name": "stdout",
     "output_type": "stream",
     "text": [
      "1\n",
      "4\n",
      "9\n",
      "16\n",
      "25\n",
      "36\n",
      "49\n",
      "64\n",
      "81\n",
      "100\n"
     ]
    }
   ],
   "source": [
    "thread1=[threading.Thread(target=square_list,args=(i,)) for i in range(1,11)]\n",
    "for t in thread1:\n",
    "    t.start()"
   ]
  },
  {
   "cell_type": "code",
   "execution_count": 26,
   "id": "061234bd-e6fd-4bb6-89e0-f802d5880138",
   "metadata": {},
   "outputs": [
    {
     "name": "stdout",
     "output_type": "stream",
     "text": [
      "[1]\n",
      "[8]\n",
      "[27]\n",
      "[64]\n",
      "[125]\n",
      "[216]\n",
      "[343]\n",
      "[512]\n",
      "[729]\n",
      "[1000]\n"
     ]
    }
   ],
   "source": [
    "mycubelist=[]\n",
    "thread2=[threading.Thread(target=cube_list,args=(i,)) for i in range(1,11)]\n",
    "for t in thread2:\n",
    "    t.start()"
   ]
  },
  {
   "cell_type": "markdown",
   "id": "eb4c91cd-fc5a-4ba5-b158-e584fd11f996",
   "metadata": {},
   "source": [
    "Ans5 Following are some of the common advantages of multithreading:\n",
    "\n",
    "1.Enhanced performance by decreased development time\n",
    "2.Simplified and streamlined program coding\n",
    "3.Improvised GUI responsiveness\n",
    "4.Simultaneous and parallelized occurrence of tasks\n",
    "5.Better use of cache storage by utilization of resources\n",
    "6.Decreased cost of maintenance\n",
    "7.Better use of CPU resource"
   ]
  },
  {
   "cell_type": "markdown",
   "id": "ef69eb58-145b-4105-8896-ec0432eb1260",
   "metadata": {},
   "source": [
    "Ans5;\n",
    "disadvantages of multithreading:\n",
    "\n",
    "1.Complex debugging and testing processe\n",
    "2.Increased difficulty level in writing a program\n",
    "3.Unpredictable results\n"
   ]
  },
  {
   "cell_type": "markdown",
   "id": "729e6d63-ecb6-4513-9471-c216f8c2c483",
   "metadata": {},
   "source": [
    "ANs 6 A race condition occurs when two threads access a shared variable at the same time. The first thread reads the variable, and the second thread reads the same value from the variable. Then the first thread and second thread perform their operations on the value, and they race to see which thread can write the value last to the shared variable. The value of the thread that writes its value last is preserved, because the thread is writing over the value that the previous thread wrote.\n",
    "\n"
   ]
  }
 ],
 "metadata": {
  "kernelspec": {
   "display_name": "Python 3 (ipykernel)",
   "language": "python",
   "name": "python3"
  },
  "language_info": {
   "codemirror_mode": {
    "name": "ipython",
    "version": 3
   },
   "file_extension": ".py",
   "mimetype": "text/x-python",
   "name": "python",
   "nbconvert_exporter": "python",
   "pygments_lexer": "ipython3",
   "version": "3.10.8"
  }
 },
 "nbformat": 4,
 "nbformat_minor": 5
}
