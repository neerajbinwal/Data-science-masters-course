{
 "cells": [
  {
   "cell_type": "markdown",
   "id": "ded2d2f6-b6ae-4492-95a2-1caffe2e72ab",
   "metadata": {},
   "source": [
    "ANS1,,,all features will be transformed into the range [0,1] meaning that the minimum and maximum value of a feature/variable is going to be 0 and 1, respectively."
   ]
  },
  {
   "cell_type": "markdown",
   "id": "ba3a4b62-b18f-4457-9f8c-3cb1f2c56f68",
   "metadata": {},
   "source": [
    "ANS2,,,Normalization is the process of scaling individual samples to have unit norm. The most interesting part is that unlike the other scalers which work on the individual column values, the Normalizer works on the rows! Each row of the dataframe with at least one non-zero component is rescaled independently of other samples so that its norm (l1, l2, or inf) equals one.\n",
    "\n"
   ]
  },
  {
   "cell_type": "markdown",
   "id": "8dcb732e-a4ef-4b95-a1e3-655f2d90ad1b",
   "metadata": {},
   "source": [
    "ANS3,,,,PCA is simple — reduce the number of variables of a data set, while preserving as much information as possible.\n",
    "\n",
    " "
   ]
  },
  {
   "cell_type": "markdown",
   "id": "24190d00-d5f3-4039-83d2-94d5df81e822",
   "metadata": {},
   "source": [
    "ANS4,,,,As there are as many principal components as there are variables in the data, principal components are constructed in such a manner that the first principal component accounts for the largest possible variance in the data set. "
   ]
  },
  {
   "cell_type": "markdown",
   "id": "4b58e852-6a48-425e-878a-0a78fe67e12f",
   "metadata": {},
   "source": [
    "ANS5.... WE WILL SKYLEARN MIN-MAX SCALER.."
   ]
  },
  {
   "cell_type": "markdown",
   "id": "f6315f24-f30d-4548-b210-80f42a60263a",
   "metadata": {},
   "source": [
    "AN6.... We will do following things:-\n",
    "Step 1: Importing the libraries \n",
    "Step 2: Importing the data set.\n",
    "Step 3: Splitting the dataset into the Training set and Test set\n",
    "Step 4: Feature Scaling"
   ]
  },
  {
   "cell_type": "code",
   "execution_count": null,
   "id": "31d8bdaf-0cc9-4213-b963-fc2bb6fe81ed",
   "metadata": {},
   "outputs": [],
   "source": [
    "Ans7"
   ]
  },
  {
   "cell_type": "code",
   "execution_count": 4,
   "id": "16c83a1c-6286-44ac-9334-32569ff1e7a8",
   "metadata": {},
   "outputs": [],
   "source": [
    "df=[1,5,10,15,20]"
   ]
  },
  {
   "cell_type": "code",
   "execution_count": 1,
   "id": "6c27679e-d64e-4c37-bb1f-f23cecbc47f2",
   "metadata": {},
   "outputs": [],
   "source": [
    "from sklearn.preprocessing import MinMaxScaler"
   ]
  },
  {
   "cell_type": "code",
   "execution_count": 2,
   "id": "5ff8d6a0-3b97-43df-809c-8ca7537d9e5f",
   "metadata": {},
   "outputs": [],
   "source": [
    "min_max=MinMaxScaler()"
   ]
  },
  {
   "cell_type": "code",
   "execution_count": 7,
   "id": "1dfc5087-4d2c-4580-aebe-b92f435ff5a1",
   "metadata": {},
   "outputs": [],
   "source": [
    "df1=min_max.fit_transform([df])"
   ]
  },
  {
   "cell_type": "code",
   "execution_count": 8,
   "id": "b0be2174-9088-4e78-a741-63456c787afd",
   "metadata": {},
   "outputs": [
    {
     "data": {
      "text/plain": [
       "array([[0., 0., 0., 0., 0.]])"
      ]
     },
     "execution_count": 8,
     "metadata": {},
     "output_type": "execute_result"
    }
   ],
   "source": [
    "df1"
   ]
  },
  {
   "cell_type": "code",
   "execution_count": null,
   "id": "a56a6307-4440-4ae3-8e26-51b2bce4cedb",
   "metadata": {},
   "outputs": [],
   "source": [
    "Ans8. we will retainHeight weight and blood pressure."
   ]
  }
 ],
 "metadata": {
  "kernelspec": {
   "display_name": "Python 3 (ipykernel)",
   "language": "python",
   "name": "python3"
  },
  "language_info": {
   "codemirror_mode": {
    "name": "ipython",
    "version": 3
   },
   "file_extension": ".py",
   "mimetype": "text/x-python",
   "name": "python",
   "nbconvert_exporter": "python",
   "pygments_lexer": "ipython3",
   "version": "3.10.8"
  }
 },
 "nbformat": 4,
 "nbformat_minor": 5
}
