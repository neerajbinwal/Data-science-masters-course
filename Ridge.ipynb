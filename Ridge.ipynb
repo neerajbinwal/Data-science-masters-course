{
 "cells": [
  {
   "cell_type": "markdown",
   "id": "fe988ea5-88f8-4895-bffd-956188531420",
   "metadata": {},
   "source": [
    "Ans1. Ridge Regression is used to reduce overfitting."
   ]
  },
  {
   "cell_type": "markdown",
   "id": "20b0465c-9e77-479d-8d1c-102cc68b1e50",
   "metadata": {},
   "source": [
    "Ans2.. The assumptions of ridge regression are the same as that of linear regression: linearity, constant variance, and independence. However, as ridge regression does not provide confidence limits, the distribution of errors to be normal need not be assumed"
   ]
  },
  {
   "cell_type": "markdown",
   "id": "e9ca5c98-4cae-401f-8f05-88556208c217",
   "metadata": {},
   "source": [
    "Ans3...Increasing it slowly slowly and find the best fit."
   ]
  },
  {
   "cell_type": "markdown",
   "id": "d19b1fc1-00ca-4d09-8e56-a744af7939fe",
   "metadata": {},
   "source": [
    "Ans4....Talking about the other methods of feature importance they directly nullify the effect of less competent features. If we believe that some of the coefficients have zero effect using ridge regression we can build a better model"
   ]
  },
  {
   "cell_type": "markdown",
   "id": "194d44b5-1f6c-4b6e-a1fc-a43354a115ea",
   "metadata": {},
   "source": [
    "Ans5.... Ridge Regression (L2 regularization) is a specialized technique used to analyze multicollinear data.1 It is most suitable when a data set contains a higher number of predictor variables than the number of observations, or when multicollinearity is experienced in a set.0 It is a fundamental regularization technique, but not used very widely due to the complex science behind it."
   ]
  },
  {
   "cell_type": "markdown",
   "id": "8bb1726d-102a-4631-8184-31ac9fdc8a57",
   "metadata": {},
   "source": [
    "Ans6....Yes ridge regression can be used categorical and countinous variable."
   ]
  },
  {
   "cell_type": "markdown",
   "id": "000f2d03-3dac-4df8-b990-97bc294809fd",
   "metadata": {},
   "source": [
    "Ans7....Ridge regression is a term used to refer to a linear regression model whose coefficients are estimated not by ordinary least squares (OLS), but by an estimator, called ridge estimator, that, albeit biased, has lower variance than the OLS estimator.\n",
    "\n",
    "In certain cases, the mean squared error of the ridge estimator (which is the sum of its variance and the square of its bias) is smaller than that of the OLS estimator"
   ]
  },
  {
   "cell_type": "code",
   "execution_count": null,
   "id": "bb02ae43-9d63-4dca-a7a7-5cfc55121299",
   "metadata": {},
   "outputs": [],
   "source": [
    "Ans8...."
   ]
  }
 ],
 "metadata": {
  "kernelspec": {
   "display_name": "Python 3 (ipykernel)",
   "language": "python",
   "name": "python3"
  },
  "language_info": {
   "codemirror_mode": {
    "name": "ipython",
    "version": 3
   },
   "file_extension": ".py",
   "mimetype": "text/x-python",
   "name": "python",
   "nbconvert_exporter": "python",
   "pygments_lexer": "ipython3",
   "version": "3.10.8"
  }
 },
 "nbformat": 4,
 "nbformat_minor": 5
}
