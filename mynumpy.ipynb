{
 "cells": [
  {
   "cell_type": "code",
   "execution_count": 5,
   "id": "8f9c6831-3b05-4a5b-aef5-13cbeef0b3bb",
   "metadata": {},
   "outputs": [],
   "source": [
    "import numpy as np\n",
    "list_ = [ '1','2','3','4','5']\n",
    "array_list = np.array(object = list_)"
   ]
  },
  {
   "cell_type": "code",
   "execution_count": 6,
   "id": "84121c2b-1512-4fd1-917b-3740e08ce81e",
   "metadata": {},
   "outputs": [
    {
     "data": {
      "text/plain": [
       "list"
      ]
     },
     "execution_count": 6,
     "metadata": {},
     "output_type": "execute_result"
    }
   ],
   "source": [
    "type(list_)"
   ]
  },
  {
   "cell_type": "code",
   "execution_count": 7,
   "id": "10a7fb54-9ad8-4579-b8bd-2664ed135dcc",
   "metadata": {},
   "outputs": [
    {
     "data": {
      "text/plain": [
       "numpy.ndarray"
      ]
     },
     "execution_count": 7,
     "metadata": {},
     "output_type": "execute_result"
    }
   ],
   "source": [
    "type(array_list)"
   ]
  },
  {
   "cell_type": "markdown",
   "id": "136db635-00aa-4833-863c-3e27bef6889c",
   "metadata": {},
   "source": [
    "Ans1 As you can see both list_ and array_list have different data type"
   ]
  },
  {
   "cell_type": "markdown",
   "id": "1616d546-d3e1-40aa-9f7e-6b629ad390e9",
   "metadata": {},
   "source": [
    "Ans2 "
   ]
  },
  {
   "cell_type": "code",
   "execution_count": 8,
   "id": "1b37705a-d260-4571-8fb2-05d271de402f",
   "metadata": {},
   "outputs": [
    {
     "name": "stdout",
     "output_type": "stream",
     "text": [
      "<class 'str'>\n",
      "<class 'str'>\n",
      "<class 'str'>\n",
      "<class 'str'>\n",
      "<class 'str'>\n"
     ]
    }
   ],
   "source": [
    "for i in list_:\n",
    "    print(type(i))"
   ]
  },
  {
   "cell_type": "markdown",
   "id": "b706e443-599e-4233-b17c-47ea78fa7166",
   "metadata": {},
   "source": [
    "In the above example the datatype of each and every element in list_ is str"
   ]
  },
  {
   "cell_type": "code",
   "execution_count": 10,
   "id": "2d2af368-1b81-4c6d-a44d-4478a3d22a9e",
   "metadata": {},
   "outputs": [
    {
     "name": "stdout",
     "output_type": "stream",
     "text": [
      "<class 'numpy.str_'>\n",
      "<class 'numpy.str_'>\n",
      "<class 'numpy.str_'>\n",
      "<class 'numpy.str_'>\n",
      "<class 'numpy.str_'>\n"
     ]
    }
   ],
   "source": [
    "for i in array_list:\n",
    "    print(type(i))"
   ]
  },
  {
   "cell_type": "markdown",
   "id": "e083835f-252e-4a92-9ccf-7c221a744b81",
   "metadata": {},
   "source": [
    "In above example the datatype of each and every element in array_list is numpy.str"
   ]
  },
  {
   "cell_type": "markdown",
   "id": "e0fb17b3-a624-468e-96ec-c0900da02c1c",
   "metadata": {},
   "source": [
    "Ans3"
   ]
  },
  {
   "cell_type": "code",
   "execution_count": 11,
   "id": "b7d084da-3a9b-4e6a-a6f5-d1c2fdc5b0df",
   "metadata": {},
   "outputs": [],
   "source": [
    "array_list = np.array(object = list_, dtype = int)"
   ]
  },
  {
   "cell_type": "code",
   "execution_count": 12,
   "id": "105ebff8-1c9e-4840-8036-8f6170e8377b",
   "metadata": {},
   "outputs": [
    {
     "name": "stdout",
     "output_type": "stream",
     "text": [
      "<class 'numpy.int64'>\n",
      "<class 'numpy.int64'>\n",
      "<class 'numpy.int64'>\n",
      "<class 'numpy.int64'>\n",
      "<class 'numpy.int64'>\n"
     ]
    }
   ],
   "source": [
    "for i in array_list:\n",
    "    print(type(i))"
   ]
  },
  {
   "cell_type": "markdown",
   "id": "50e9b26c-fd2f-4d5a-a2cf-cd0a0d0a06b2",
   "metadata": {},
   "source": [
    "Now the the data type of array_list is changed to numpy.int64"
   ]
  },
  {
   "cell_type": "code",
   "execution_count": 13,
   "id": "116813fa-9bc6-4c50-9455-3ffe480cae81",
   "metadata": {},
   "outputs": [
    {
     "name": "stdout",
     "output_type": "stream",
     "text": [
      "<class 'str'>\n",
      "<class 'str'>\n",
      "<class 'str'>\n",
      "<class 'str'>\n",
      "<class 'str'>\n"
     ]
    }
   ],
   "source": [
    "for i in list_:\n",
    "    print(type(i))"
   ]
  },
  {
   "cell_type": "markdown",
   "id": "d61b4330-288e-4039-ade3-9941b636a8c9",
   "metadata": {},
   "source": [
    "Now the difference in elements of both array_list and list_ is clearly visible....."
   ]
  },
  {
   "cell_type": "markdown",
   "id": "5333558f-c866-42d0-ad5b-4d6b43039bfe",
   "metadata": {},
   "source": [
    "Ans 4"
   ]
  },
  {
   "cell_type": "code",
   "execution_count": 14,
   "id": "c466d26e-1d32-42dc-a9f7-dc901adbc668",
   "metadata": {},
   "outputs": [],
   "source": [
    "num_list = [ [ 1 , 2 , 3 ] , [ 4 , 5 , 6 ] ]\n",
    "num_array = np.array(object = num_list)"
   ]
  },
  {
   "cell_type": "code",
   "execution_count": 16,
   "id": "f35e1a67-71de-48f1-b9c3-e046389ee0e3",
   "metadata": {},
   "outputs": [
    {
     "data": {
      "text/plain": [
       "(2, 3)"
      ]
     },
     "execution_count": 16,
     "metadata": {},
     "output_type": "execute_result"
    }
   ],
   "source": [
    "num_array.shape"
   ]
  },
  {
   "cell_type": "code",
   "execution_count": 18,
   "id": "591f3477-d1b4-4b62-b3e0-b599c21a8352",
   "metadata": {},
   "outputs": [
    {
     "data": {
      "text/plain": [
       "6"
      ]
     },
     "execution_count": 18,
     "metadata": {},
     "output_type": "execute_result"
    }
   ],
   "source": [
    "num_array.size"
   ]
  },
  {
   "cell_type": "markdown",
   "id": "099079e3-f900-4d41-903b-b4499d495d4b",
   "metadata": {},
   "source": [
    "Ans5"
   ]
  },
  {
   "cell_type": "code",
   "execution_count": 21,
   "id": "cb8ae8e2-b887-4c77-9cb9-2e2b52594e6f",
   "metadata": {},
   "outputs": [],
   "source": [
    "arr1=np.zeros([3,3])"
   ]
  },
  {
   "cell_type": "code",
   "execution_count": 22,
   "id": "9485a6b4-dcbf-46c1-ab39-7c94b9f8b054",
   "metadata": {},
   "outputs": [
    {
     "data": {
      "text/plain": [
       "array([[0., 0., 0.],\n",
       "       [0., 0., 0.],\n",
       "       [0., 0., 0.]])"
      ]
     },
     "execution_count": 22,
     "metadata": {},
     "output_type": "execute_result"
    }
   ],
   "source": [
    "arr1"
   ]
  },
  {
   "cell_type": "markdown",
   "id": "4d247b65-6fbf-494a-b6f7-f688e3b92f7c",
   "metadata": {},
   "source": [
    "Ans6"
   ]
  },
  {
   "cell_type": "code",
   "execution_count": 23,
   "id": "59d49ad2-a0d0-4a34-b3b8-eaf237dfd681",
   "metadata": {},
   "outputs": [],
   "source": [
    "arr2=np.eye(5)"
   ]
  },
  {
   "cell_type": "code",
   "execution_count": 24,
   "id": "75bf5474-d6a6-47c2-a85f-8cfb10a8e052",
   "metadata": {},
   "outputs": [
    {
     "data": {
      "text/plain": [
       "array([[1., 0., 0., 0., 0.],\n",
       "       [0., 1., 0., 0., 0.],\n",
       "       [0., 0., 1., 0., 0.],\n",
       "       [0., 0., 0., 1., 0.],\n",
       "       [0., 0., 0., 0., 1.]])"
      ]
     },
     "execution_count": 24,
     "metadata": {},
     "output_type": "execute_result"
    }
   ],
   "source": [
    "arr2"
   ]
  },
  {
   "cell_type": "code",
   "execution_count": null,
   "id": "1278c115-09a5-4585-b8f4-e598299a498c",
   "metadata": {},
   "outputs": [],
   "source": []
  }
 ],
 "metadata": {
  "kernelspec": {
   "display_name": "Python 3 (ipykernel)",
   "language": "python",
   "name": "python3"
  },
  "language_info": {
   "codemirror_mode": {
    "name": "ipython",
    "version": 3
   },
   "file_extension": ".py",
   "mimetype": "text/x-python",
   "name": "python",
   "nbconvert_exporter": "python",
   "pygments_lexer": "ipython3",
   "version": "3.10.8"
  }
 },
 "nbformat": 4,
 "nbformat_minor": 5
}
