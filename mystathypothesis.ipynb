{
 "cells": [
  {
   "cell_type": "markdown",
   "id": "9ac8499c-163b-4d07-b890-4442a88d61c7",
   "metadata": {},
   "source": [
    " Ans 1 In statistics, estimation refers to the process by which one makes inferences about a population, based on information obtained from a sample.\n",
    "\n",
    "Point Estimate vs. Interval Estimate\n",
    "Statisticians use sample statistics to estimate population parameters. For example, sample means are used to estimate population means; sample proportions, to estimate population proportions.\n",
    "\n",
    "An estimate of a population parameter may be expressed in two ways:\n",
    "\n",
    "Point estimate. A point estimate of a population parameter is a single value of a statistic. For example, the sample mean x is a point estimate of the population mean μ. Similarly, the sample proportion p is a point estimate of the population proportion P.\n",
    "Interval estimate. An interval estimate is defined by two numbers, between which a population parameter is said to lie. For example, a < x < b is an interval estimate of the population mean μ. It indicates that the population mean is greater than a but less than b."
   ]
  },
  {
   "cell_type": "markdown",
   "id": "838f1587-a4a9-4c6a-9309-f6c14df16cae",
   "metadata": {},
   "source": [
    "Ans2"
   ]
  },
  {
   "cell_type": "code",
   "execution_count": 4,
   "id": "dbee16e0-67f6-4d2c-a700-1186e18781a8",
   "metadata": {},
   "outputs": [],
   "source": [
    "samplelist=[1,2,3,4,5,6,7,8,9,10]\n",
    "import numpy as np"
   ]
  },
  {
   "cell_type": "code",
   "execution_count": 6,
   "id": "6a0f47fc-41db-4115-9717-646c29a904ff",
   "metadata": {},
   "outputs": [],
   "source": [
    "def my_mean(list):\n",
    "    sm=np.mean(list)\n",
    "    print(f\"The estimated mean of population is {sm}\")"
   ]
  },
  {
   "cell_type": "code",
   "execution_count": 7,
   "id": "45c2cce8-79bd-4c42-a927-bef5d5f8d7fd",
   "metadata": {},
   "outputs": [
    {
     "name": "stdout",
     "output_type": "stream",
     "text": [
      "The estimated mean of population is 5.5\n"
     ]
    }
   ],
   "source": [
    "my_mean(samplelist)"
   ]
  },
  {
   "cell_type": "markdown",
   "id": "d2e190ec-2401-46c5-bb3a-5f5189d1250d",
   "metadata": {},
   "source": [
    "Ans3An analyst performs hypothesis testing on a statistical sample to present evidence of the plausibility of the null hypothesis. Measurements and analyses are conducted on a random sample of the population to test a theory. Analysts use a random population sample to test two hypotheses: the null and alternative hypotheses."
   ]
  },
  {
   "cell_type": "markdown",
   "id": "db4244e9-c3ff-4125-93b1-150a331f420a",
   "metadata": {},
   "source": [
    "Ans4 NUll HYPOTHESIS= AVERAGE WEIGHT(MALE)>AVERAGE WEIGHT(FEMALE)\n",
    "     ALTERNATE HYPOTHESES=AVERAGE WEIGHT (MALE)<AVERAGE WEIGHT(FEMALE)"
   ]
  },
  {
   "cell_type": "code",
   "execution_count": 9,
   "id": "421aac21-5cb0-4a89-b5a4-6517eb28afcf",
   "metadata": {},
   "outputs": [
    {
     "data": {
      "text/plain": [
       "Ttest_indResult(statistic=-2.10090292575557, pvalue=0.04633501389516513)"
      ]
     },
     "execution_count": 9,
     "metadata": {},
     "output_type": "execute_result"
    }
   ],
   "source": [
    "#ANS 4\n",
    "import scipy.stats as stats \n",
    "\n",
    "sample1 = [300, 315, 320, 311, 314, 309, 300, 308, 305, 303, 305, 301, 303]\n",
    "sample2 = [335, 329, 322, 321, 324, 319, 304, 308, 305, 311, 307, 300, 305]\n",
    "\n",
    "#perform two sample t-test\n",
    "stats.ttest_ind(a=sample1, b=sample2) \n"
   ]
  },
  {
   "cell_type": "markdown",
   "id": "abfe25f5-d0a8-4d9f-89ad-576521c3637a",
   "metadata": {},
   "source": [
    "H0: µ1 = µ2 (the mean between the two sample is equal)\n",
    "HA: µ1 ≠ µ2 (the mean between the two sample is not equal)\n",
    "the value of p is less than .05 we reject the null hypothesis the mean is not equal"
   ]
  },
  {
   "cell_type": "markdown",
   "id": "d8de3ef5-868a-46e1-92bb-bab18c89f0f4",
   "metadata": {},
   "source": [
    "Ans4H0: The null hypothesis: It is a statement about the population that either is believed to be true or is used to put forth an argument unless it can be shown to be incorrect beyond a reasonable doubt.\n",
    "\n",
    "Ha: The alternative hypothesis: It is a claim about the population that is contradictory to H0 and what we conclude when we reject H"
   ]
  },
  {
   "cell_type": "markdown",
   "id": "67a963ca-ae93-47b9-b949-cfeb92cb06b4",
   "metadata": {},
   "source": [
    "Ans 5Steps of Hypothesis Testing\n",
    "Step 1: Specify Your Null and Alternate Hypotheses\n",
    "It is critical to rephrase your original research hypothesis (the prediction that you wish to study) as a null (Ho) and alternative (Ha) hypothesis so that you can test it quantitatively. Your first hypothesis, which predicts a link between variables, is generally your alternate hypothesis. The null hypothesis predicts no link between the variables of interest.\n",
    "\n",
    "Step 2: Gather Data\n",
    "For a statistical test to be legitimate, sampling and data collection must be done in a way that is meant to test your hypothesis. You cannot draw statistical conclusions about the population you are interested in if your data is not representative.\n",
    "\n",
    "Step 3: Conduct a Statistical Test\n",
    "Other statistical tests are available, but they all compare within-group variance (how to spread out the data inside a category) against between-group variance (how different the categories are from one another). If the between-group variation is big enough that there is little or no overlap between groups, your statistical test will display a low p-value to represent this. This suggests that the disparities between these groups are unlikely to have occurred by accident. Alternatively, if there is a large within-group variance and a low between-group variance, your statistical test will show a high p-value. Any difference you find across groups is most likely attributable to chance. The variety of variables and the level of measurement of your obtained data will influence your statistical test selection.\n",
    "\n",
    "Step 4: Determine Rejection Of Your Null Hypothesis\n",
    "Your statistical test results must determine whether your null hypothesis should be rejected or not. In most circumstances, you will base your judgment on the p-value provided by the statistical test. In most circumstances, your preset level of significance for rejecting the null hypothesis will be 0.05 - that is, when there is less than a 5% likelihood that these data would be seen if the null hypothesis were true. In other circumstances, researchers use a lower level of significance, such as 0.01 (1%). This reduces the possibility of wrongly rejecting the null hypothesis.\n",
    "\n",
    "Step 5: Present Your Results \n",
    "The findings of hypothesis testing will be discussed in the results and discussion portions of your research paper, dissertation, or thesis. You should include a concise overview of the data and a summary of the findings of your statistical test in the results section. You can talk about whether your results confirmed your initial hypothesis or not in the conversation. Rejecting or failing to reject the null hypothesis is a formal term used in hypothesis testing. This is likely a must for your statistics assignments.\n",
    "\n"
   ]
  },
  {
   "cell_type": "markdown",
   "id": "a3190650-4ebe-4333-8063-1e784e8f5f17",
   "metadata": {},
   "source": [
    "Ans6A p value is used in hypothesis testing to help you support or reject the null hypothesis. The p value is the evidence against a null hypothesis. The smaller the p-value, the stronger the evidence that you should reject the null hypothesis.\n",
    "\n"
   ]
  },
  {
   "cell_type": "markdown",
   "id": "cfe8a7ef-dd39-4541-8ade-417dc6e3ec02",
   "metadata": {},
   "source": [
    "Ans9"
   ]
  },
  {
   "cell_type": "code",
   "execution_count": 10,
   "id": "f7e2d60c-77bf-49dc-a7d9-e63b4f904963",
   "metadata": {},
   "outputs": [
    {
     "data": {
      "text/plain": [
       "[<matplotlib.lines.Line2D at 0x7ff1bed4aec0>]"
      ]
     },
     "execution_count": 10,
     "metadata": {},
     "output_type": "execute_result"
    },
    {
     "data": {
      "image/png": "[encoded data removed]",
      "text/plain": [
       "<Figure size 640x480 with 1 Axes>"
      ]
     },
     "metadata": {},
     "output_type": "display_data"
    }
   ],
   "source": [
    "from scipy.stats import t\n",
    "import matplotlib.pyplot as plt\n",
    "data=t.rvs(df=10,size=10)\n",
    "plt.plot(data)"
   ]
  },
  {
   "cell_type": "markdown",
   "id": "fe930a51-9f93-4cbd-9cab-cdc23ff22cc1",
   "metadata": {},
   "source": [
    "Ans10\n"
   ]
  },
  {
   "cell_type": "code",
   "execution_count": 11,
   "id": "7220c97f-d1ca-4ed6-a400-6f6342c37ba9",
   "metadata": {},
   "outputs": [
    {
     "data": {
      "text/plain": [
       "Ttest_indResult(statistic=-2.10090292575557, pvalue=0.04633501389516513)"
      ]
     },
     "execution_count": 11,
     "metadata": {},
     "output_type": "execute_result"
    }
   ],
   "source": [
    "import scipy.stats as stats \n",
    "\n",
    "#define array of turtle weights for each sample\n",
    "sample1 = [300, 315, 320, 311, 314, 309, 300, 308, 305, 303, 305, 301, 303]\n",
    "sample2 = [335, 329, 322, 321, 324, 319, 304, 308, 305, 311, 307, 300, 305]\n",
    "\n",
    "#perform two sample t-test\n",
    "stats.ttest_ind(a=sample1, b=sample2) "
   ]
  },
  {
   "cell_type": "markdown",
   "id": "9c84f60f-f175-40ed-b435-931b887cae40",
   "metadata": {},
   "source": [
    "Ans11"
   ]
  },
  {
   "cell_type": "markdown",
   "id": "8611b26f-bb38-4849-8191-447c91e4e82f",
   "metadata": {},
   "source": [
    "The T distribution (also called Student’s T Distribution) is a family of distributions that look almost identical to the normal distribution curve, only a bit shorter and fatter. The t distribution is used instead of the normal distribution when you have small samples (for more on this, see: t-score vs. z-score). The larger the sample size, the more the t distribution looks like the normal distribution. In fact, for sample sizes larger than 20 (e.g. more degrees of freedom), the distribution is almost exactly like the normal distribution."
   ]
  },
  {
   "cell_type": "markdown",
   "id": "f5aa2502-df06-43ed-9e4d-1311f08791dc",
   "metadata": {},
   "source": [
    "Ans12"
   ]
  },
  {
   "cell_type": "markdown",
   "id": "c538b499-134b-4e1c-ade2-349d51448078",
   "metadata": {},
   "source": [
    "T-statistic is the ratio of the departure of the estimated value of a parameter from its hypothesized value to its standard error.\n",
    "\n",
    "The t-value measures the size of the difference relative to the variation in your sample data.\n",
    "\n",
    "T-statistic is used when the sample size is less than 30 units or the population standard deviation is unknown."
   ]
  },
  {
   "cell_type": "raw",
   "id": "a0f83ec7-5519-477b-81b7-d02e511a7e0a",
   "metadata": {},
   "source": [
    "Tstatic=Sample mean - Population mean/sample standard deviation/underroot(n)"
   ]
  },
  {
   "cell_type": "markdown",
   "id": "db6f3657-06f0-4cb4-b0ea-96a8845410f8",
   "metadata": {},
   "source": [
    "ANS 14  We accpeted the null hypothesis because the z score(-6.67 as lesser than 1.96)"
   ]
  },
  {
   "cell_type": "markdown",
   "id": "f488b93d-7d4a-4411-9428-d541e8df0b06",
   "metadata": {},
   "source": [
    "Ans 15 We will reject the null hypothese because tvalue(-2) is greater than -2.792.True mean is not less than 5 pounds."
   ]
  },
  {
   "cell_type": "markdown",
   "id": "dd27ae65-b362-4514-b431-0a432feeb9ff",
   "metadata": {},
   "source": [
    "Ans16"
   ]
  },
  {
   "cell_type": "markdown",
   "id": "1fce5e53-c077-4f4f-9cd9-2e1ae9c4d402",
   "metadata": {},
   "source": [
    "The mean will be equal because the zvalue (2.25) is falling within the cofidence interval -2.76 and +2.76"
   ]
  },
  {
   "cell_type": "code",
   "execution_count": null,
   "id": "0ff94705-7011-4616-b9c0-fe1964db8a2d",
   "metadata": {},
   "outputs": [],
   "source": []
  }
 ],
 "metadata": {
  "kernelspec": {
   "display_name": "Python 3 (ipykernel)",
   "language": "python",
   "name": "python3"
  },
  "language_info": {
   "codemirror_mode": {
    "name": "ipython",
    "version": 3
   },
   "file_extension": ".py",
   "mimetype": "text/x-python",
   "name": "python",
   "nbconvert_exporter": "python",
   "pygments_lexer": "ipython3",
   "version": "3.10.8"
  }
 },
 "nbformat": 4,
 "nbformat_minor": 5
}
