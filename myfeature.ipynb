{
 "cells": [
  {
   "cell_type": "markdown",
   "id": "ceeb8827-7ef4-44ee-a13b-ef53bab58bcf",
   "metadata": {},
   "source": [
    "Ans1 In this method, features are filtered based on general characteristics (some metric such as correlation) of the dataset such correlation with the dependent variable. Filter method is performed without any predictive model. It is faster and usually the better approach when the number of features are huge. Avoids overfitting but sometimes may fail to select best features"
   ]
  },
  {
   "cell_type": "markdown",
   "id": "63f4c2e9-9053-433e-ac41-6a664468a053",
   "metadata": {},
   "source": [
    "Ans2 Wrapper method\n",
    "In wrapper method, the feature selection algorithm exits as a wrapper around the predictive model algorithm and uses the same model to select best features . Though computationally expensive and prone to overfitting, gives better performance."
   ]
  },
  {
   "cell_type": "markdown",
   "id": "cf39d4d4-eff2-41e0-a37a-a466dac4b98c",
   "metadata": {},
   "source": [
    "Ans3, Embedded feature selection methods:-\n",
    "1.Lasso\n",
    "2.Ridge\n",
    "3.elastic nets "
   ]
  },
  {
   "cell_type": "markdown",
   "id": "d0fac23d-a10b-45fb-b883-91866fcfe31b",
   "metadata": {},
   "source": [
    "Ans4\n",
    "Filter method is faster and useful when there are more number of features Otherwise it is not that much effiecient."
   ]
  },
  {
   "cell_type": "markdown",
   "id": "a4091e17-ef93-40fa-b65d-e50a013a50cd",
   "metadata": {},
   "source": [
    "Ans5 When we have more number of features.\n"
   ]
  },
  {
   "cell_type": "markdown",
   "id": "77e00ea3-f759-4412-b1f9-6fa845dc60d9",
   "metadata": {},
   "source": [
    "Ans7. WE can apply Lasso"
   ]
  },
  {
   "cell_type": "code",
   "execution_count": null,
   "id": "12379148-48e9-4416-a1bf-39068d5c1587",
   "metadata": {},
   "outputs": [],
   "source": [
    "Ans8. "
   ]
  }
 ],
 "metadata": {
  "kernelspec": {
   "display_name": "Python 3 (ipykernel)",
   "language": "python",
   "name": "python3"
  },
  "language_info": {
   "codemirror_mode": {
    "name": "ipython",
    "version": 3
   },
   "file_extension": ".py",
   "mimetype": "text/x-python",
   "name": "python",
   "nbconvert_exporter": "python",
   "pygments_lexer": "ipython3",
   "version": "3.10.8"
  }
 },
 "nbformat": 4,
 "nbformat_minor": 5
}
