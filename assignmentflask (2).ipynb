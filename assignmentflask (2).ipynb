{
 "cells": [
  {
   "cell_type": "markdown",
   "id": "b20e383c-7de3-40c5-a46a-0866e48abde5",
   "metadata": {},
   "source": [
    "Ans 1 Flask is a web framework, it’s a Python module that lets you develop web applications easily. It’s has a small and easy-to-extend core: it’s a microframework that doesn’t include an ORM (Object Relational Manager) or such features.\n",
    "\n",
    "It does have many cool features like url routing, template engine.\n",
    "Unlike the Django framework, Flask is very Pythonic. It’s easy to get started with Flask, because it doesn’t have a huge learning curve.\n",
    "\n",
    "On top of that it’s very explicit, which increases readability. To create the “Hello World” app, you only need a few lines of code."
   ]
  },
  {
   "cell_type": "code",
   "execution_count": null,
   "id": "70f6d254-d909-4243-8cd6-23adedad6159",
   "metadata": {},
   "outputs": [
    {
     "data": {
      "text/html": [
       "<img src=\"Screenshot (2).png\"/>"
      ],
      "text/plain": [
       "<IPython.core.display.Image object>"
      ]
     },
     "execution_count": 7,
     "metadata": {},
     "output_type": "execute_result"
    }
   ],
   "source": [
    "\n",
    "from IPython.display import Image\n",
    "\n",
    "Image(url=\"Screenshot (2).png\")\n"
   ]
  },
  {
   "cell_type": "markdown",
   "id": "95a42ec1-e5b6-48a3-8626-b8673b12a042",
   "metadata": {},
   "source": [
    "pip install flask"
   ]
  },
  {
   "cell_type": "code",
   "execution_count": null,
   "id": "bb112866-42fc-41a3-b31b-9bb387fc01dc",
   "metadata": {},
   "outputs": [],
   "source": [
    "###Ans2\n",
    "from flask import Flask\n",
    "app = Flask(__name__)\n",
    "\n",
    "@app.route(\"/\")\n",
    "def hello_world():\n",
    "    return \"Hello World\"\n",
    "\n",
    "if __name__==\"__main__\":\n",
    "    app.run(host=\"0.0.0.0\")\n"
   ]
  },
  {
   "cell_type": "markdown",
   "id": "736188fa-1fa9-44d8-bc01-608ff18f1fcb",
   "metadata": {},
   "source": [
    "Ans 3\n",
    "App Routing means mapping the URLs to a specific function that will handle the logic for that URL. Modern web frameworks use more meaningful URLs to help users remember the URLs and make navigation simpler. \n",
    "\n",
    "Example: The URL (“/”) is associated with the root URL. So if our site’s domain was www.example.org and we want to add routing to “www.example.org/hello”, we would use “/hello”. \n",
    "\n",
    "To bind a function to an URL path we use the app.route decorator."
   ]
  },
  {
   "cell_type": "markdown",
   "id": "96f0556f-194a-48f5-9213-5dfb48414077",
   "metadata": {},
   "source": [
    "<img src=\"Screenshot (4).png\"/>\n",
    "          \n"
   ]
  },
  {
   "cell_type": "markdown",
   "id": "43d85692-b080-49fd-824e-579d2d3d6dff",
   "metadata": {},
   "source": [
    "<image src=\"Screenshot (5).png"/>
   ]
  },
  {
   "cell_type": "markdown",
   "id": "5f36c249-e9df-48f2-a150-d226f370cc30",
   "metadata": {},
   "source": [
    "Ans5\n",
    "The url_for() function is very useful for dynamically building a URL for a specific function. The function accepts the name of a function as first argument, and one or more keyword arguments, each corresponding to the variable part of URL"
   ]
  },
  {
   "cell_type": "code",
   "execution_count": 3,
   "id": "207b64c2-907f-4286-88f1-7ae7c41c2422",
   "metadata": {},
   "outputs": [
    {
     "name": "stdout",
     "output_type": "stream",
     "text": [
      "/home\n"
     ]
    }
   ],
   "source": [
    "from flask import url_for, Flask\n",
    "appFlask = Flask(__name__)\n",
    "@appFlask.route('/home')\n",
    "def home():\n",
    "    return 'We are in Home Page!'\n",
    "with appFlask.test_request_context():\n",
    "    print(url_for('home'))"
   ]
  }
 ],
 "metadata": {
  "kernelspec": {
   "display_name": "Python 3 (ipykernel)",
   "language": "python",
   "name": "python3"
  },
  "language_info": {
   "codemirror_mode": {
    "name": "ipython",
    "version": 3
   },
   "file_extension": ".py",
   "mimetype": "text/x-python",
   "name": "python",
   "nbconvert_exporter": "python",
   "pygments_lexer": "ipython3",
   "version": "3.10.8"
  }
 },
 "nbformat": 4,
 "nbformat_minor": 5
}
