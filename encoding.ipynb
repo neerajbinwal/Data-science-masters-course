{
 "cells": [
  {
   "cell_type": "markdown",
   "id": "2a4e8d84-3fc8-4a2b-b3a9-908df7f58b05",
   "metadata": {},
   "source": [
    "Ans1...In ordinal encoding ranks are given to categorical data.In label encoding categorical data is given a numerical value without any value.I will choose ordinal data when we have data which must be compared and label ecoding will be used when data will be such which has no comparison. "
   ]
  },
  {
   "cell_type": "markdown",
   "id": "478a7265-bb68-47d8-acf9-d5007557b7eb",
   "metadata": {},
   "source": [
    "Ans2,,,,Target data is done when when one type of categorical data is given a value correspoding to mean,mode etc which it has in some other values."
   ]
  },
  {
   "cell_type": "markdown",
   "id": "9f656a7a-f104-4e36-b373-2dfc65de3f43",
   "metadata": {},
   "source": [
    "Ans3,,,,Covariance is a metric used in statistics and probability theory to measure the degree to which two variables are linearly associated.1 It is used informally as a general measure of how monotonically related two variables are, and can be calculated using the covariance equation to determine the direction of the relationship between two variables—in other words, whether they tend to move in the same or opposite directions."
   ]
  },
  {
   "cell_type": "markdown",
   "id": "10dfd319-94b2-41dc-9ab0-c4a3f1cc9744",
   "metadata": {},
   "source": [
    "Ans4...."
   ]
  },
  {
   "cell_type": "code",
   "execution_count": 1,
   "id": "13a8a70f-984b-4d1d-bf69-9764dcd1065f",
   "metadata": {},
   "outputs": [],
   "source": [
    "import pandas as pd"
   ]
  },
  {
   "cell_type": "code",
   "execution_count": 5,
   "id": "fcfe5b0c-7f91-4215-bb0a-b969952a9d6f",
   "metadata": {},
   "outputs": [],
   "source": [
    "df=pd.DataFrame({\"color\":[\"red\",\"green\",\"blue\"],\"size\":[\"small\",\"medium\",\"large\"],\"material\":[\"wood\",\"metal\",\"plastic\"]})"
   ]
  },
  {
   "cell_type": "code",
   "execution_count": 6,
   "id": "f1b003cd-fc45-45bd-aaa4-299f30a28021",
   "metadata": {},
   "outputs": [
    {
     "data": {
      "text/html": [
       "<div>\n",
       "<style scoped>\n",
       "    .dataframe tbody tr th:only-of-type {\n",
       "        vertical-align: middle;\n",
       "    }\n",
       "\n",
       "    .dataframe tbody tr th {\n",
       "        vertical-align: top;\n",
       "    }\n",
       "\n",
       "    .dataframe thead th {\n",
       "        text-align: right;\n",
       "    }\n",
       "</style>\n",
       "<table border=\"1\" class=\"dataframe\">\n",
       "  <thead>\n",
       "    <tr style=\"text-align: right;\">\n",
       "      <th></th>\n",
       "      <th>color</th>\n",
       "      <th>size</th>\n",
       "      <th>material</th>\n",
       "    </tr>\n",
       "  </thead>\n",
       "  <tbody>\n",
       "    <tr>\n",
       "      <th>0</th>\n",
       "      <td>red</td>\n",
       "      <td>small</td>\n",
       "      <td>wood</td>\n",
       "    </tr>\n",
       "    <tr>\n",
       "      <th>1</th>\n",
       "      <td>green</td>\n",
       "      <td>medium</td>\n",
       "      <td>metal</td>\n",
       "    </tr>\n",
       "    <tr>\n",
       "      <th>2</th>\n",
       "      <td>blue</td>\n",
       "      <td>large</td>\n",
       "      <td>plastic</td>\n",
       "    </tr>\n",
       "  </tbody>\n",
       "</table>\n",
       "</div>"
      ],
      "text/plain": [
       "   color    size material\n",
       "0    red   small     wood\n",
       "1  green  medium    metal\n",
       "2   blue   large  plastic"
      ]
     },
     "execution_count": 6,
     "metadata": {},
     "output_type": "execute_result"
    }
   ],
   "source": [
    "df"
   ]
  },
  {
   "cell_type": "code",
   "execution_count": 7,
   "id": "76269c62-0166-4d15-a0ee-623d145e7fbe",
   "metadata": {},
   "outputs": [],
   "source": [
    "from sklearn.preprocessing import LabelEncoder"
   ]
  },
  {
   "cell_type": "code",
   "execution_count": 8,
   "id": "392f30b1-239d-4661-90c4-7f970ec62b66",
   "metadata": {},
   "outputs": [],
   "source": [
    "label_encoder=LabelEncoder()"
   ]
  },
  {
   "cell_type": "code",
   "execution_count": 17,
   "id": "ecb0af7c-4138-4ace-99f4-5cf9fe1f4e51",
   "metadata": {},
   "outputs": [
    {
     "name": "stderr",
     "output_type": "stream",
     "text": [
      "/opt/conda/lib/python3.10/site-packages/sklearn/preprocessing/_label.py:116: DataConversionWarning: A column-vector y was passed when a 1d array was expected. Please change the shape of y to (n_samples, ), for example using ravel().\n",
      "  y = column_or_1d(y, warn=True)\n"
     ]
    }
   ],
   "source": [
    "color_encode=label_encoder.fit_transform(df[['color']])"
   ]
  },
  {
   "cell_type": "code",
   "execution_count": 18,
   "id": "755686fe-1367-4625-8969-4abc3b5fbe57",
   "metadata": {},
   "outputs": [
    {
     "name": "stderr",
     "output_type": "stream",
     "text": [
      "/opt/conda/lib/python3.10/site-packages/sklearn/preprocessing/_label.py:116: DataConversionWarning: A column-vector y was passed when a 1d array was expected. Please change the shape of y to (n_samples, ), for example using ravel().\n",
      "  y = column_or_1d(y, warn=True)\n"
     ]
    }
   ],
   "source": [
    "size_encode=label_encoder.fit_transform(df[['size']])"
   ]
  },
  {
   "cell_type": "code",
   "execution_count": 21,
   "id": "9864f009-91ca-47c9-b897-b1c01693452e",
   "metadata": {},
   "outputs": [
    {
     "name": "stderr",
     "output_type": "stream",
     "text": [
      "/opt/conda/lib/python3.10/site-packages/sklearn/preprocessing/_label.py:116: DataConversionWarning: A column-vector y was passed when a 1d array was expected. Please change the shape of y to (n_samples, ), for example using ravel().\n",
      "  y = column_or_1d(y, warn=True)\n"
     ]
    }
   ],
   "source": [
    "material_encode=label_encoder.fit_transform(df[['material']])"
   ]
  },
  {
   "cell_type": "code",
   "execution_count": 22,
   "id": "d87f0aff-d79c-4cfe-8b92-35ed693329c4",
   "metadata": {},
   "outputs": [
    {
     "data": {
      "text/plain": [
       "array([2, 0, 1])"
      ]
     },
     "execution_count": 22,
     "metadata": {},
     "output_type": "execute_result"
    }
   ],
   "source": [
    "material_encode"
   ]
  },
  {
   "cell_type": "markdown",
   "id": "a46b43e4-7694-4c58-bd3d-8a4320da283c",
   "metadata": {},
   "source": [
    "Ans5:"
   ]
  },
  {
   "cell_type": "code",
   "execution_count": 27,
   "id": "39758a8f-7310-4eb2-b782-355b1419bde2",
   "metadata": {},
   "outputs": [],
   "source": [
    "df1=pd.DataFrame({\"Age\":[45,25,28],\"Income\":[12000,45000,96000],\"Education\":[\"PG\",\"grad\",\"Phd\"]})"
   ]
  },
  {
   "cell_type": "code",
   "execution_count": 28,
   "id": "b26f7d0a-6a91-4e1e-8345-62c7ef71fef7",
   "metadata": {},
   "outputs": [
    {
     "data": {
      "text/html": [
       "<div>\n",
       "<style scoped>\n",
       "    .dataframe tbody tr th:only-of-type {\n",
       "        vertical-align: middle;\n",
       "    }\n",
       "\n",
       "    .dataframe tbody tr th {\n",
       "        vertical-align: top;\n",
       "    }\n",
       "\n",
       "    .dataframe thead th {\n",
       "        text-align: right;\n",
       "    }\n",
       "</style>\n",
       "<table border=\"1\" class=\"dataframe\">\n",
       "  <thead>\n",
       "    <tr style=\"text-align: right;\">\n",
       "      <th></th>\n",
       "      <th>Age</th>\n",
       "      <th>Income</th>\n",
       "      <th>Education</th>\n",
       "    </tr>\n",
       "  </thead>\n",
       "  <tbody>\n",
       "    <tr>\n",
       "      <th>0</th>\n",
       "      <td>45</td>\n",
       "      <td>12000</td>\n",
       "      <td>PG</td>\n",
       "    </tr>\n",
       "    <tr>\n",
       "      <th>1</th>\n",
       "      <td>25</td>\n",
       "      <td>45000</td>\n",
       "      <td>grad</td>\n",
       "    </tr>\n",
       "    <tr>\n",
       "      <th>2</th>\n",
       "      <td>28</td>\n",
       "      <td>96000</td>\n",
       "      <td>Phd</td>\n",
       "    </tr>\n",
       "  </tbody>\n",
       "</table>\n",
       "</div>"
      ],
      "text/plain": [
       "   Age  Income Education\n",
       "0   45   12000        PG\n",
       "1   25   45000      grad\n",
       "2   28   96000       Phd"
      ]
     },
     "execution_count": 28,
     "metadata": {},
     "output_type": "execute_result"
    }
   ],
   "source": [
    "df1"
   ]
  },
  {
   "cell_type": "code",
   "execution_count": 39,
   "id": "8eaa322c-ef68-4cbd-aebe-47da96afe16f",
   "metadata": {},
   "outputs": [],
   "source": [
    "import numpy as np"
   ]
  },
  {
   "cell_type": "code",
   "execution_count": 43,
   "id": "7769cd5b-d97a-4394-bb0e-fa4e37f54b7e",
   "metadata": {},
   "outputs": [],
   "source": [
    "data=np.array(df1)"
   ]
  },
  {
   "cell_type": "code",
   "execution_count": 46,
   "id": "c091bf7a-3fcc-42f1-9e95-6c6ad4b43782",
   "metadata": {},
   "outputs": [
    {
     "name": "stderr",
     "output_type": "stream",
     "text": [
      "/tmp/ipykernel_111/4275495732.py:1: FutureWarning: The default value of numeric_only in DataFrame.cov is deprecated. In a future version, it will default to False. Select only valid columns or specify the value of numeric_only to silence this warning.\n",
      "  cov_matrix=pd.DataFrame.cov(df1)\n"
     ]
    }
   ],
   "source": [
    "cov_matrix=pd.DataFrame.cov(df1)"
   ]
  },
  {
   "cell_type": "code",
   "execution_count": 47,
   "id": "6cca9e56-8d1a-4624-926a-538aaa920e86",
   "metadata": {},
   "outputs": [
    {
     "name": "stdout",
     "output_type": "stream",
     "text": [
      "                  Age        Income\n",
      "Age        116.333333 -3.225000e+05\n",
      "Income -322500.000000  1.791000e+09\n"
     ]
    }
   ],
   "source": [
    "print(cov_matrix)"
   ]
  },
  {
   "cell_type": "markdown",
   "id": "bbdade6a-f5d7-4ed6-92dc-0638bdbe9f1e",
   "metadata": {},
   "source": [
    "Ans6,,,,,We will use ordinal encoding for this dataset."
   ]
  },
  {
   "cell_type": "markdown",
   "id": "2f419eb2-426c-4c3c-b997-1c42e59c154d",
   "metadata": {},
   "source": [
    "Ans7"
   ]
  },
  {
   "cell_type": "code",
   "execution_count": 50,
   "id": "3f8485cd-c972-48d5-b80a-f0a46de749fe",
   "metadata": {},
   "outputs": [],
   "source": [
    "temperature=[25,26,45]"
   ]
  },
  {
   "cell_type": "code",
   "execution_count": 51,
   "id": "60c8272d-e57a-4d2a-b50f-3ff484fbaca0",
   "metadata": {},
   "outputs": [],
   "source": [
    "humidity=[45,25,19]"
   ]
  },
  {
   "cell_type": "code",
   "execution_count": 52,
   "id": "cda541b5-3264-476d-9f77-a79a5385849b",
   "metadata": {},
   "outputs": [],
   "source": [
    "covariance=np.cov(temperature,humidity)"
   ]
  },
  {
   "cell_type": "code",
   "execution_count": 53,
   "id": "f0927cd2-b3e7-4c70-839b-acc8d1f207df",
   "metadata": {},
   "outputs": [
    {
     "data": {
      "text/plain": [
       "array([[ 127.        , -109.        ],\n",
       "       [-109.        ,  185.33333333]])"
      ]
     },
     "execution_count": 53,
     "metadata": {},
     "output_type": "execute_result"
    }
   ],
   "source": [
    "covariance"
   ]
  },
  {
   "cell_type": "code",
   "execution_count": 54,
   "id": "5b40077e-f16a-4cb9-a0ae-ea4f2e7d0202",
   "metadata": {},
   "outputs": [],
   "source": [
    "Weather=[\"Sunny\",\"Cloudy\",\"Rainy\"]"
   ]
  },
  {
   "cell_type": "code",
   "execution_count": 55,
   "id": "48911118-d27b-4cdf-bc98-82ee6e3f25dd",
   "metadata": {},
   "outputs": [],
   "source": [
    "Wind_Dirextion=[\"North\",\"South\",\"East\",\"West\"]"
   ]
  },
  {
   "cell_type": "code",
   "execution_count": 56,
   "id": "497d8046-1be6-4dfc-94f8-65450394e18d",
   "metadata": {},
   "outputs": [
    {
     "ename": "TypeError",
     "evalue": "'function' object is not subscriptable",
     "output_type": "error",
     "traceback": [
      "\u001b[0;31m---------------------------------------------------------------------------\u001b[0m",
      "\u001b[0;31mTypeError\u001b[0m                                 Traceback (most recent call last)",
      "Cell \u001b[0;32mIn[56], line 1\u001b[0m\n\u001b[0;32m----> 1\u001b[0m covariance1\u001b[38;5;241m=\u001b[39m\u001b[43mnp\u001b[49m\u001b[38;5;241;43m.\u001b[39;49m\u001b[43mcov\u001b[49m\u001b[43m[\u001b[49m\u001b[43mWeather\u001b[49m\u001b[43m,\u001b[49m\u001b[43mWind_Dirextion\u001b[49m\u001b[43m]\u001b[49m\n",
      "\u001b[0;31mTypeError\u001b[0m: 'function' object is not subscriptable"
     ]
    }
   ],
   "source": [
    "covariance1=np.cov[Weather,Wind_Dirextion]"
   ]
  },
  {
   "cell_type": "code",
   "execution_count": null,
   "id": "0f540181-6ad6-41b6-811f-6da2f0508e52",
   "metadata": {},
   "outputs": [],
   "source": []
  }
 ],
 "metadata": {
  "kernelspec": {
   "display_name": "Python 3 (ipykernel)",
   "language": "python",
   "name": "python3"
  },
  "language_info": {
   "codemirror_mode": {
    "name": "ipython",
    "version": 3
   },
   "file_extension": ".py",
   "mimetype": "text/x-python",
   "name": "python",
   "nbconvert_exporter": "python",
   "pygments_lexer": "ipython3",
   "version": "3.10.8"
  }
 },
 "nbformat": 4,
 "nbformat_minor": 5
}
