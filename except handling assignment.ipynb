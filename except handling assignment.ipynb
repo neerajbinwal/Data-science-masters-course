{
 "cells": [
  {
   "cell_type": "markdown",
   "id": "0aef6908-128d-4679-9ae6-ad55d7222236",
   "metadata": {},
   "source": [
    "Ans1. Exception is an error which has occured during the execution of the program,these error can be of many type some examples are zerodivison error ,type error etc. \n",
    "##Difference betweeen Expections and syntax error\n",
    "Expections:- These are the errors while we execute the program.These have to be handled\n",
    "Syntax error:- These are the error due to invalid way of writing of code.These have to be fixed cant be handled."
   ]
  },
  {
   "cell_type": "markdown",
   "id": "b2bd4239-90e2-4025-bb1f-5e7260d122a9",
   "metadata": {},
   "source": [
    "Ans2. When a exception is not handled we have an error in executing the code and the next line of code is not executed the \n",
    "program stops at that point of time. \n",
    "lets see this with the help of below code..."
   ]
  },
  {
   "cell_type": "code",
   "execution_count": 2,
   "id": "795c64d8-2335-4826-9a25-a1b4ceb45731",
   "metadata": {},
   "outputs": [
    {
     "ename": "ZeroDivisionError",
     "evalue": "division by zero",
     "output_type": "error",
     "traceback": [
      "\u001b[0;31m---------------------------------------------------------------------------\u001b[0m",
      "\u001b[0;31mZeroDivisionError\u001b[0m                         Traceback (most recent call last)",
      "Cell \u001b[0;32mIn[2], line 2\u001b[0m\n\u001b[1;32m      1\u001b[0m a\u001b[38;5;241m=\u001b[39m\u001b[38;5;241m20\u001b[39m \n\u001b[0;32m----> 2\u001b[0m c\u001b[38;5;241m=\u001b[39m\u001b[43ma\u001b[49m\u001b[38;5;241;43m/\u001b[39;49m\u001b[38;5;241;43m0\u001b[39;49m\n\u001b[1;32m      3\u001b[0m \u001b[38;5;28mprint\u001b[39m(c)\n\u001b[1;32m      4\u001b[0m \u001b[38;5;28mprint\u001b[39m(\u001b[38;5;124m\"\u001b[39m\u001b[38;5;124mend of program\u001b[39m\u001b[38;5;124m\"\u001b[39m)\n",
      "\u001b[0;31mZeroDivisionError\u001b[0m: division by zero"
     ]
    }
   ],
   "source": [
    "a=20 \n",
    "c=a/0\n",
    "print(c)\n",
    "print(\"end of program\")"
   ]
  },
  {
   "cell_type": "markdown",
   "id": "7d37dab0-b61f-411f-ab04-3437fe4f4c08",
   "metadata": {},
   "source": [
    "Ans2. So in above example you can see that an exception has occured zero divison error due to which our program has not executed and the last print statement end of program is not printed\n"
   ]
  },
  {
   "cell_type": "markdown",
   "id": "4d2df9f4-66cd-4526-8519-23bc4dd25b26",
   "metadata": {},
   "source": [
    "Ans3. Try and except are used to handle and catch the exception,lets see it with the help of a example below. Lets take above example a print the last print statement(\"end of program\") which was not possible in above case without exception handling."
   ]
  },
  {
   "cell_type": "code",
   "execution_count": 5,
   "id": "0c075dfc-5969-40ee-bd8f-c0fef9a747f7",
   "metadata": {},
   "outputs": [
    {
     "name": "stdout",
     "output_type": "stream",
     "text": [
      " An error has occured\n",
      "end of program\n"
     ]
    }
   ],
   "source": [
    "a=20\n",
    "try:\n",
    "    c=a/0\n",
    "    print(c)\n",
    "except Exception as e:\n",
    "    print(\" An error has occured\")\n",
    "    print(\"end of program\")"
   ]
  },
  {
   "cell_type": "markdown",
   "id": "4b16b5f3-4a95-4fc2-979b-812db6c737f0",
   "metadata": {},
   "source": [
    "Ans4"
   ]
  },
  {
   "cell_type": "code",
   "execution_count": 8,
   "id": "14938dbb-2c58-4aca-ad0a-5b18cfa63297",
   "metadata": {},
   "outputs": [
    {
     "name": "stdin",
     "output_type": "stream",
     "text": [
      "Please enter your input hello\n"
     ]
    },
    {
     "name": "stdout",
     "output_type": "stream",
     "text": [
      "Your input was sucessfull\n"
     ]
    }
   ],
   "source": [
    "###example of try and else\n",
    "try:\n",
    "    c=input(\"Please enter your input\")\n",
    "except  Exception as e:\n",
    "    print(\" An error has error has occured\")\n",
    "else:\n",
    "    print(\"Your input was sucessfull\")"
   ]
  },
  {
   "cell_type": "markdown",
   "id": "0e85f7c1-9d8f-4a3d-9f69-77ff6e15ec3e",
   "metadata": {},
   "source": [
    "In the above example the try block was sucessfully executed hence else block was sucessfully executed "
   ]
  },
  {
   "cell_type": "markdown",
   "id": "5af3fa2c-9c17-49a0-ba9b-42985fba484b",
   "metadata": {},
   "source": [
    "Ans4(b) finally \n",
    "With the above example now i will add finally keyword and see the example when try block is unexecuted or has an error you will see that the finally block will wheather their is a exception or not "
   ]
  },
  {
   "cell_type": "code",
   "execution_count": 12,
   "id": "08632d9d-e4c3-468c-939e-746b9a6ed187",
   "metadata": {},
   "outputs": [
    {
     "name": "stdin",
     "output_type": "stream",
     "text": [
      "Please enter your input 55\n"
     ]
    },
    {
     "name": "stdout",
     "output_type": "stream",
     "text": [
      " An error has error has occured\n",
      "You may proceed further\n"
     ]
    }
   ],
   "source": [
    "###example of try and else\n",
    "try:\n",
    "    c=input(\"Please enter your input\")\n",
    "    result=c/0\n",
    "    print(c)\n",
    "except  Exception as e:\n",
    "    print(\" An error has error has occured\")\n",
    "else:\n",
    "    print(\"Your input was sucessfull\")\n",
    "finally:\n",
    "    print(\"You may proceed further\")"
   ]
  },
  {
   "cell_type": "markdown",
   "id": "4ac66663-a077-4954-a05f-a32c8b2e13d1",
   "metadata": {},
   "source": [
    "Ans4. Raise :- The raise keyword raises a specific exception when a condition is met or the code encounters an error.lets see raise with the help of an example."
   ]
  },
  {
   "cell_type": "code",
   "execution_count": 26,
   "id": "49dee8fb-3049-41ad-add7-243125ca1d68",
   "metadata": {},
   "outputs": [
    {
     "name": "stdin",
     "output_type": "stream",
     "text": [
      "please enter your number 5\n"
     ]
    },
    {
     "ename": "Exception",
     "evalue": "soory the number is to small for us",
     "output_type": "error",
     "traceback": [
      "\u001b[0;31m---------------------------------------------------------------------------\u001b[0m",
      "\u001b[0;31mException\u001b[0m                                 Traceback (most recent call last)",
      "Cell \u001b[0;32mIn[26], line 3\u001b[0m\n\u001b[1;32m      1\u001b[0m c\u001b[38;5;241m=\u001b[39m \u001b[38;5;28mint\u001b[39m(\u001b[38;5;28minput\u001b[39m(\u001b[38;5;124m\"\u001b[39m\u001b[38;5;124mplease enter your number\u001b[39m\u001b[38;5;124m\"\u001b[39m))\n\u001b[1;32m      2\u001b[0m \u001b[38;5;28;01mif\u001b[39;00m c\u001b[38;5;241m<\u001b[39m\u001b[38;5;241m10\u001b[39m:\n\u001b[0;32m----> 3\u001b[0m     \u001b[38;5;28;01mraise\u001b[39;00m \u001b[38;5;167;01mException\u001b[39;00m (\u001b[38;5;124m\"\u001b[39m\u001b[38;5;124msoory the number is to small for us\u001b[39m\u001b[38;5;124m\"\u001b[39m)\n\u001b[1;32m      4\u001b[0m \u001b[38;5;28;01melse\u001b[39;00m:\n\u001b[1;32m      5\u001b[0m     \u001b[38;5;28mprint\u001b[39m(\u001b[38;5;124m\"\u001b[39m\u001b[38;5;124minput sucessfully taken\u001b[39m\u001b[38;5;124m\"\u001b[39m)\n",
      "\u001b[0;31mException\u001b[0m: soory the number is to small for us"
     ]
    }
   ],
   "source": [
    "c= int(input(\"please enter your number\"))\n",
    "if c<10:\n",
    "    raise Exception (\"soory the number is to small for us\")\n",
    "else:\n",
    "    print(\"input sucessfully taken\")"
   ]
  },
  {
   "cell_type": "markdown",
   "id": "2c3c3849-1e78-4bf1-a62b-f153c61f869d",
   "metadata": {},
   "source": [
    "Ans5 Custom exception are used to make exceptions for our own paricular needs in a program these are user defined exceptions.We need these custom exceptions to fulfill or to take care of a particular exception that may come while we execute our program.lets see with an example:"
   ]
  },
  {
   "cell_type": "code",
   "execution_count": 35,
   "id": "c2a8ca55-a400-4262-991a-8ef6ecacedd1",
   "metadata": {},
   "outputs": [],
   "source": [
    "class mynumber(Exception):\n",
    "    def __init__(self,msg):\n",
    "        self.msg=msg\n",
    "    "
   ]
  },
  {
   "cell_type": "code",
   "execution_count": 36,
   "id": "d2ac076a-d0b1-4736-a884-e6feb6429d93",
   "metadata": {},
   "outputs": [],
   "source": [
    "def function_numbers(number):\n",
    "    if number<=0:\n",
    "        raise mynumber(\"the number it to low\")\n",
    "    else:\n",
    "        print(\"your input was sucessfull\")"
   ]
  },
  {
   "cell_type": "code",
   "execution_count": 38,
   "id": "82b4bf13-c19e-40fe-87a7-c32415c74d67",
   "metadata": {},
   "outputs": [
    {
     "name": "stdin",
     "output_type": "stream",
     "text": [
      "please enter your number -5\n"
     ]
    },
    {
     "name": "stdout",
     "output_type": "stream",
     "text": [
      "the number it to low\n"
     ]
    }
   ],
   "source": [
    "try:\n",
    "    number=int(input(\"please enter your number\"))\n",
    "    function_numbers(number)\n",
    "except mynumber as e:\n",
    "    print(e)\n",
    "    "
   ]
  },
  {
   "cell_type": "markdown",
   "id": "943867ba-a1f2-45d7-956f-06e7d9f8607c",
   "metadata": {},
   "source": [
    "Ans 6 Now iam making a exception handling class which will handle a exception "
   ]
  },
  {
   "cell_type": "code",
   "execution_count": 44,
   "id": "43e717e2-fc71-483b-b462-08eb418f8efe",
   "metadata": {},
   "outputs": [],
   "source": [
    "class age_valid(Exception):\n",
    "    def __init__(self,msg):\n",
    "        self.msg=msg"
   ]
  },
  {
   "cell_type": "code",
   "execution_count": 47,
   "id": "77689b0b-02bf-4d6f-b9ec-be58c496d3bc",
   "metadata": {},
   "outputs": [],
   "source": [
    "def age_validator(age):\n",
    "    if age<=18:\n",
    "        raise age_valid(\"your age is too low\")\n",
    "    else:\n",
    "        print(\"you are eligible\")\n",
    "    "
   ]
  },
  {
   "cell_type": "code",
   "execution_count": 48,
   "id": "5d76f722-6c90-4a73-b6ed-52ffd9170b12",
   "metadata": {},
   "outputs": [
    {
     "name": "stdin",
     "output_type": "stream",
     "text": [
      "please enter your number 15\n"
     ]
    },
    {
     "name": "stdout",
     "output_type": "stream",
     "text": [
      "your age is too low\n"
     ]
    }
   ],
   "source": [
    "try:\n",
    "    age= int(input(\"please enter your number\"))\n",
    "    age_validator(age)\n",
    "except age_valid as e:\n",
    "             print(e)\n"
   ]
  },
  {
   "cell_type": "code",
   "execution_count": null,
   "id": "52acb3bc-b891-4236-a58b-86c34b0a6ab2",
   "metadata": {},
   "outputs": [],
   "source": []
  }
 ],
 "metadata": {
  "kernelspec": {
   "display_name": "Python 3 (ipykernel)",
   "language": "python",
   "name": "python3"
  },
  "language_info": {
   "codemirror_mode": {
    "name": "ipython",
    "version": 3
   },
   "file_extension": ".py",
   "mimetype": "text/x-python",
   "name": "python",
   "nbconvert_exporter": "python",
   "pygments_lexer": "ipython3",
   "version": "3.10.8"
  }
 },
 "nbformat": 4,
 "nbformat_minor": 5
}
