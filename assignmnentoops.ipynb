{
 "cells": [
  {
   "cell_type": "markdown",
   "id": "9e1d4f51-af54-4bbb-a0c3-836af79166b1",
   "metadata": {},
   "source": [
    "Class is the blueprint or an object constuctor the object will have all the properties or function of the class\n"
   ]
  },
  {
   "cell_type": "markdown",
   "id": "81375f9b-14b3-4128-a42e-c4fdd33b6923",
   "metadata": {},
   "source": [
    "objects have fuctions of class but also have their own function also"
   ]
  },
  {
   "cell_type": "markdown",
   "id": "104c1451-39aa-43a3-9ffa-56678d417036",
   "metadata": {},
   "source": [
    "for example vechile is a class which has a definite function to carry goods and people \n",
    "it can have objects like car,bike,truck which have definite function to carry goods and people \n",
    "but also haave their own function like four wheels,two wheels,speed etc"
   ]
  },
  {
   "cell_type": "code",
   "execution_count": 1,
   "id": "64d0db50-39a9-40b0-abca-663b80c16348",
   "metadata": {},
   "outputs": [],
   "source": [
    "###explaininf why ___init___() is used"
   ]
  },
  {
   "cell_type": "code",
   "execution_count": 2,
   "id": "9e5fc6b7-70db-45ff-bc4b-798156bf696e",
   "metadata": {},
   "outputs": [],
   "source": [
    "## __init__ is used as a contructor for a class"
   ]
  },
  {
   "cell_type": "markdown",
   "id": "e1e2e465-f0ac-4a8a-a42f-5b0f2b839cc7",
   "metadata": {},
   "source": [
    "###lets take an example"
   ]
  },
  {
   "cell_type": "code",
   "execution_count": 29,
   "id": "1d81ab46-7c98-4976-8bec-9bfdb48f14df",
   "metadata": {},
   "outputs": [],
   "source": [
    "class Student:\n",
    "    def __init__(self,name,percent,grade):\n",
    "        self.name=name\n",
    "        self.percent=percent\n",
    "    \n",
    "    "
   ]
  },
  {
   "cell_type": "code",
   "execution_count": 9,
   "id": "c04bdeca-7e47-4190-94f2-ed9b1c6525aa",
   "metadata": {},
   "outputs": [],
   "source": [
    "sameer= Student(\"Sameer\",89)"
   ]
  },
  {
   "cell_type": "code",
   "execution_count": 32,
   "id": "7038a96b-ece8-41b3-9ab1-f6a32b289e3a",
   "metadata": {},
   "outputs": [
    {
     "data": {
      "text/plain": [
       "'Sameer'"
      ]
     },
     "execution_count": 32,
     "metadata": {},
     "output_type": "execute_result"
    }
   ],
   "source": [
    "sameer.name"
   ]
  },
  {
   "cell_type": "code",
   "execution_count": 35,
   "id": "3268ac69-686e-499c-b7af-79b72d9960a8",
   "metadata": {},
   "outputs": [
    {
     "data": {
      "text/plain": [
       "89"
      ]
     },
     "execution_count": 35,
     "metadata": {},
     "output_type": "execute_result"
    }
   ],
   "source": [
    "sameer.percent"
   ]
  },
  {
   "cell_type": "code",
   "execution_count": 36,
   "id": "8bbcb20f-48ba-4d3d-b1ff-5787dc73fc41",
   "metadata": {},
   "outputs": [],
   "source": [
    "## self is used a an reference to the object"
   ]
  },
  {
   "cell_type": "code",
   "execution_count": 37,
   "id": "9503924e-9b1f-405b-8b19-89bce950b11d",
   "metadata": {},
   "outputs": [],
   "source": [
    "# when an class inherits from another class it is called inheritance"
   ]
  },
  {
   "cell_type": "markdown",
   "id": "fefdc741-0f9e-423b-85cb-7aba8ce0d998",
   "metadata": {},
   "source": [
    "Types of inheritence\n",
    "1. Single inheritence\n",
    "2. Mutliple inheritence \n",
    "3. Heirarchial inheritence\n",
    "4. Hybrid inheritence"
   ]
  },
  {
   "cell_type": "markdown",
   "id": "ae3d4dc5-5ad0-4f90-87ba-852cb0d8ec69",
   "metadata": {},
   "source": [
    "Single inheritence is when class inherits from a single class"
   ]
  },
  {
   "cell_type": "code",
   "execution_count": 57,
   "id": "4ec057c1-5e6d-45ae-b56e-e9cdbeaf8073",
   "metadata": {},
   "outputs": [
    {
     "name": "stdout",
     "output_type": "stream",
     "text": [
      "iam used for transportation\n"
     ]
    }
   ],
   "source": [
    "class Vechile:\n",
    "    print(\"iam used for transportation\")\n",
    "    def myfunction(self):\n",
    "        print(\"I can have 2 or 4 wheels\")"
   ]
  },
  {
   "cell_type": "code",
   "execution_count": 59,
   "id": "b055403f-2d8a-4130-8669-0c941e3b7ae2",
   "metadata": {},
   "outputs": [
    {
     "name": "stdout",
     "output_type": "stream",
     "text": [
      "i used to carry people\n"
     ]
    }
   ],
   "source": [
    "class Car(Vechile):\n",
    "    print(\"i used to carry people\")"
   ]
  },
  {
   "cell_type": "code",
   "execution_count": 60,
   "id": "b52e784e-f160-4127-b009-05a2e48faf4e",
   "metadata": {},
   "outputs": [],
   "source": [
    "rider = Car()"
   ]
  },
  {
   "cell_type": "code",
   "execution_count": 61,
   "id": "19b4dd77-f004-4d60-afb1-85bf6ff38aa6",
   "metadata": {},
   "outputs": [
    {
     "name": "stdout",
     "output_type": "stream",
     "text": [
      "I can have 2 or 4 wheels\n"
     ]
    }
   ],
   "source": [
    "rider.myfunction()"
   ]
  },
  {
   "cell_type": "markdown",
   "id": "7886e8be-8277-4c20-b2ce-ebb4a24a2d48",
   "metadata": {},
   "source": [
    "Multiple inheritence\n",
    "When the one class inherited by another and that class is inherited by another it is called multiple type \n",
    "inheritence."
   ]
  },
  {
   "cell_type": "code",
   "execution_count": 63,
   "id": "99d3ea1e-074f-491c-9157-128c98608985",
   "metadata": {},
   "outputs": [],
   "source": [
    "class parent:\n",
    "    bank_balance=85000\n",
    "    "
   ]
  },
  {
   "cell_type": "code",
   "execution_count": 64,
   "id": "5314a356-14d8-4ad2-96d8-5e82329ee239",
   "metadata": {},
   "outputs": [
    {
     "name": "stdout",
     "output_type": "stream",
     "text": [
      "iam child class\n"
     ]
    }
   ],
   "source": [
    "class Child(parent):\n",
    "    print(\"iam child class\")"
   ]
  },
  {
   "cell_type": "code",
   "execution_count": 66,
   "id": "cdac2143-b6cd-4925-b450-35cb4596f6ee",
   "metadata": {},
   "outputs": [
    {
     "name": "stdout",
     "output_type": "stream",
     "text": [
      "iam kid class\n"
     ]
    }
   ],
   "source": [
    "class kid(Child):\n",
    "    print(\"iam kid class\")"
   ]
  },
  {
   "cell_type": "code",
   "execution_count": 67,
   "id": "a2722b47-5a79-41e8-92c0-412471f1b769",
   "metadata": {},
   "outputs": [],
   "source": [
    "sohan=kid()"
   ]
  },
  {
   "cell_type": "code",
   "execution_count": 68,
   "id": "6fea261c-9545-4fce-ae65-eef86e76a13f",
   "metadata": {},
   "outputs": [
    {
     "data": {
      "text/plain": [
       "85000"
      ]
     },
     "execution_count": 68,
     "metadata": {},
     "output_type": "execute_result"
    }
   ],
   "source": [
    "sohan.bank_balance"
   ]
  },
  {
   "cell_type": "code",
   "execution_count": 69,
   "id": "39d541da-2f3b-4d0b-85f8-282240de2323",
   "metadata": {},
   "outputs": [],
   "source": [
    "###now you can see by above example that sohan can use bank_balonce of parent class."
   ]
  },
  {
   "cell_type": "code",
   "execution_count": 70,
   "id": "8c6803b6-da83-4682-b144-0075cb44c807",
   "metadata": {},
   "outputs": [],
   "source": [
    "## hierarchial inhertence is used when multiple classes inherit from the same class."
   ]
  },
  {
   "cell_type": "code",
   "execution_count": 71,
   "id": "b3c28287-fb6b-41e6-bdaf-980c2c38b031",
   "metadata": {},
   "outputs": [],
   "source": [
    "class parent:\n",
    "    bank_balance= 345000"
   ]
  },
  {
   "cell_type": "code",
   "execution_count": 72,
   "id": "cf6ad3de-9459-4063-944c-7bf23a6c5dbb",
   "metadata": {},
   "outputs": [],
   "source": [
    "class child1(parent):\n",
    "    pass"
   ]
  },
  {
   "cell_type": "code",
   "execution_count": 74,
   "id": "0eabffc3-bfd7-4e16-b3a9-5308a182d96b",
   "metadata": {},
   "outputs": [],
   "source": [
    "class child2(parent):\n",
    "    pass"
   ]
  },
  {
   "cell_type": "code",
   "execution_count": 75,
   "id": "881e3168-2c20-41ab-8aa6-7b2af671a014",
   "metadata": {},
   "outputs": [],
   "source": [
    "shivam = child1()"
   ]
  },
  {
   "cell_type": "code",
   "execution_count": 76,
   "id": "a4375f6d-0ced-4b3f-afd8-82a2a6bed902",
   "metadata": {},
   "outputs": [],
   "source": [
    "adi = child2()"
   ]
  },
  {
   "cell_type": "code",
   "execution_count": 77,
   "id": "33a9f3a0-81a0-4cc0-9efd-00651363ab65",
   "metadata": {},
   "outputs": [
    {
     "data": {
      "text/plain": [
       "345000"
      ]
     },
     "execution_count": 77,
     "metadata": {},
     "output_type": "execute_result"
    }
   ],
   "source": [
    "shivam.bank_balance"
   ]
  },
  {
   "cell_type": "code",
   "execution_count": 78,
   "id": "f8718557-7348-4d8a-baf1-c877f7093f8f",
   "metadata": {},
   "outputs": [
    {
     "data": {
      "text/plain": [
       "345000"
      ]
     },
     "execution_count": 78,
     "metadata": {},
     "output_type": "execute_result"
    }
   ],
   "source": [
    "adi.bank_balance"
   ]
  },
  {
   "cell_type": "code",
   "execution_count": 79,
   "id": "376e90d8-e8ea-4798-b713-1e7d149e681a",
   "metadata": {},
   "outputs": [],
   "source": [
    "#in above example we can se hierarchial inheritence"
   ]
  },
  {
   "cell_type": "code",
   "execution_count": 80,
   "id": "d0e821d1-bee9-44c4-9542-589f7c9769b8",
   "metadata": {},
   "outputs": [],
   "source": [
    "### Hybrid inheritence is done when we used more than one method of inheritence to inherit"
   ]
  },
  {
   "cell_type": "code",
   "execution_count": 81,
   "id": "b000e76f-5b0c-481d-897a-8e18118d2b54",
   "metadata": {},
   "outputs": [],
   "source": [
    "class parent:\n",
    "    bank_balance=8500026"
   ]
  },
  {
   "cell_type": "code",
   "execution_count": 82,
   "id": "e52028ef-3013-4fb4-a4fd-86d6ebc67e1a",
   "metadata": {},
   "outputs": [],
   "source": [
    "class child1(parent):\n",
    "    bank_balance=8545455"
   ]
  },
  {
   "cell_type": "code",
   "execution_count": 83,
   "id": "748855d2-abf2-4ef1-8ed3-c00138e2018e",
   "metadata": {},
   "outputs": [],
   "source": [
    "class child2(child1):\n",
    "    pass"
   ]
  },
  {
   "cell_type": "code",
   "execution_count": 85,
   "id": "ad18dcfc-6dfd-4ac7-a60e-ac49b048f15b",
   "metadata": {},
   "outputs": [],
   "source": [
    "class child3(child1,parent):\n",
    "    pass\n"
   ]
  },
  {
   "cell_type": "code",
   "execution_count": 86,
   "id": "ed47c2ef-05b2-4ad7-847e-508b082e6efc",
   "metadata": {},
   "outputs": [
    {
     "ename": "NameError",
     "evalue": "name 'Child3' is not defined",
     "output_type": "error",
     "traceback": [
      "\u001b[0;31m---------------------------------------------------------------------------\u001b[0m",
      "\u001b[0;31mNameError\u001b[0m                                 Traceback (most recent call last)",
      "Cell \u001b[0;32mIn[86], line 1\u001b[0m\n\u001b[0;32m----> 1\u001b[0m sohan\u001b[38;5;241m=\u001b[39m \u001b[43mChild3\u001b[49m()\n",
      "\u001b[0;31mNameError\u001b[0m: name 'Child3' is not defined"
     ]
    }
   ],
   "source": [
    "sohan= child3()"
   ]
  },
  {
   "cell_type": "code",
   "execution_count": null,
   "id": "18655ce6-1d63-4b9f-be9f-820823cb737e",
   "metadata": {},
   "outputs": [],
   "source": []
  }
 ],
 "metadata": {
  "kernelspec": {
   "display_name": "Python 3 (ipykernel)",
   "language": "python",
   "name": "python3"
  },
  "language_info": {
   "codemirror_mode": {
    "name": "ipython",
    "version": 3
   },
   "file_extension": ".py",
   "mimetype": "text/x-python",
   "name": "python",
   "nbconvert_exporter": "python",
   "pygments_lexer": "ipython3",
   "version": "3.10.8"
  }
 },
 "nbformat": 4,
 "nbformat_minor": 5
}
