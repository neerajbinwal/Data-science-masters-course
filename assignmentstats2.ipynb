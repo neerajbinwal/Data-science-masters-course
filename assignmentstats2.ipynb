{
 "cells": [
  {
   "cell_type": "markdown",
   "id": "f6510d26-1ff4-47cb-913f-606c06e5d03c",
   "metadata": {},
   "source": [
    "Ans1 The three measures of centre tendency are:-\n",
    "1. Mean \n",
    "2. Mode \n",
    "3. Median"
   ]
  },
  {
   "cell_type": "markdown",
   "id": "3afad5e7-b2a2-473d-a994-c7e3602050e5",
   "metadata": {},
   "source": [
    "Ans2 Mean is the average of the values of the dataset.\n",
    "     Median is the center value of the data set when we organise the data set.\n",
    "     Mode is the value in the dataset which is repeated the most number of time.\n",
    "The use of these three mean, mode and median for calculating the centre tendancy is according to the problem statement, we can use mode,median, and mean according to our requirement."
   ]
  },
  {
   "cell_type": "markdown",
   "id": "bbf6c076-f7e6-4e9f-ab0e-9c4c8635b138",
   "metadata": {},
   "source": [
    "Ans 3"
   ]
  },
  {
   "cell_type": "code",
   "execution_count": 1,
   "id": "f45f9127-eb0c-48fe-a25f-8167834212e2",
   "metadata": {},
   "outputs": [],
   "source": [
    "list= [178,177,176,177,178.2,178,175,179,180,175,178.9,176.2,177,172.5,178,176.5]"
   ]
  },
  {
   "cell_type": "code",
   "execution_count": 2,
   "id": "9877cbf5-dc1b-4e1c-b997-8b7a59062e79",
   "metadata": {},
   "outputs": [],
   "source": [
    "import numpy as np "
   ]
  },
  {
   "cell_type": "code",
   "execution_count": 3,
   "id": "f5175056-fc46-404a-ba98-d35c1bf2bcb9",
   "metadata": {},
   "outputs": [
    {
     "data": {
      "text/plain": [
       "177.01875"
      ]
     },
     "execution_count": 3,
     "metadata": {},
     "output_type": "execute_result"
    }
   ],
   "source": [
    "np.mean(list)"
   ]
  },
  {
   "cell_type": "code",
   "execution_count": 4,
   "id": "669cf1a2-5a85-40e9-9e4f-06da516c57dd",
   "metadata": {},
   "outputs": [
    {
     "data": {
      "text/plain": [
       "177.0"
      ]
     },
     "execution_count": 4,
     "metadata": {},
     "output_type": "execute_result"
    }
   ],
   "source": [
    "np.median(list)"
   ]
  },
  {
   "cell_type": "code",
   "execution_count": 6,
   "id": "cb7d1705-3d60-4b30-b2c4-bd660873495d",
   "metadata": {},
   "outputs": [],
   "source": [
    "from scipy import stats"
   ]
  },
  {
   "cell_type": "code",
   "execution_count": 7,
   "id": "02223c6c-eb8b-43d9-94f5-e81769a264ce",
   "metadata": {},
   "outputs": [
    {
     "name": "stderr",
     "output_type": "stream",
     "text": [
      "/tmp/ipykernel_92/2535308130.py:1: FutureWarning: Unlike other reduction functions (e.g. `skew`, `kurtosis`), the default behavior of `mode` typically preserves the axis it acts along. In SciPy 1.11.0, this behavior will change: the default value of `keepdims` will become False, the `axis` over which the statistic is taken will be eliminated, and the value None will no longer be accepted. Set `keepdims` to True or False to avoid this warning.\n",
      "  stats.mode(list)\n"
     ]
    },
    {
     "data": {
      "text/plain": [
       "ModeResult(mode=array([177.]), count=array([3]))"
      ]
     },
     "execution_count": 7,
     "metadata": {},
     "output_type": "execute_result"
    }
   ],
   "source": [
    "stats.mode(list)"
   ]
  },
  {
   "cell_type": "markdown",
   "id": "34cc750c-3822-4c0e-a7b3-f0372828f72c",
   "metadata": {},
   "source": [
    "Ans 4"
   ]
  },
  {
   "cell_type": "code",
   "execution_count": 8,
   "id": "cff221fc-a8d5-49fc-a14a-d60d26b03ace",
   "metadata": {},
   "outputs": [
    {
     "data": {
      "text/plain": [
       "1.7885814036548633"
      ]
     },
     "execution_count": 8,
     "metadata": {},
     "output_type": "execute_result"
    }
   ],
   "source": [
    "np.std(list)"
   ]
  },
  {
   "cell_type": "code",
   "execution_count": 9,
   "id": "9799ff02-1cde-4ec7-8042-7282a1e715fc",
   "metadata": {},
   "outputs": [
    {
     "data": {
      "text/plain": [
       "3.199023437500001"
      ]
     },
     "execution_count": 9,
     "metadata": {},
     "output_type": "execute_result"
    }
   ],
   "source": [
    "np.var(list)"
   ]
  },
  {
   "cell_type": "markdown",
   "id": "0f69bf73-04c8-46b3-b6f7-9c160aaaad77",
   "metadata": {},
   "source": [
    "Ans5"
   ]
  },
  {
   "cell_type": "markdown",
   "id": "e2b00df9-6df8-4bc3-98cd-d3b060e19afb",
   "metadata": {},
   "source": [
    "There are three ways to find the Measure of Dispersion. . .\n",
    "\n",
    "1.Range\n",
    "2.Variance\n",
    "3.Standard Deviation\n",
    "Range\n",
    "Range is the difference between the largest and smallest values in a dataset. It is one of the method in Measures of Dispersion/Variability.\n",
    "\n",
    "Variance\n",
    "Variance is one of the Measure of dispersion/variability. It gives, how the data points varied from the Measure of Central Tendency.\n",
    "Standard Deviation\n",
    "Standard Deviation denotes “How the data points deviates from the Measure of Central Tendency”. The Square root of Variance is Standard Deviation/\n",
    "For example, take a look at the standard deviations for the two data sets:\n",
    "Standard deviation for A: 2.160246899469287.\n",
    "Standard deviation for B: 21.602468994692867.\n",
    "The figure for data set B is exactly ten times that of A."
   ]
  },
  {
   "cell_type": "markdown",
   "id": "46f2372f-a8bd-4a79-a846-b1cf83750561",
   "metadata": {},
   "source": [
    "Ans6"
   ]
  },
  {
   "cell_type": "markdown",
   "id": "2a67dfb6-f469-49f2-b10e-eac0c3120b1d",
   "metadata": {},
   "source": [
    "A Venn diagram is an illustration that uses circles to show the commonalities and differences between things or groups of thing"
   ]
  },
  {
   "cell_type": "markdown",
   "id": "6eaf72f7-3125-4905-8afa-7aeee3e4c01b",
   "metadata": {},
   "source": [
    "Ans7"
   ]
  },
  {
   "cell_type": "markdown",
   "id": "3f0e7def-e2bc-4d0c-b190-0ff8c224cb9d",
   "metadata": {},
   "source": [
    "A = (2,3,4,5,6,7) & B = (0,2,6,8,10)."
   ]
  },
  {
   "cell_type": "markdown",
   "id": "3974eda0-3ca5-4787-8928-dd2b849814c8",
   "metadata": {},
   "source": [
    "(i) A intersection B=(2,6)"
   ]
  },
  {
   "cell_type": "markdown",
   "id": "c53c23b8-a058-43c2-8880-c43b77bb7544",
   "metadata": {},
   "source": [
    "(ii) A union B=(0,2,3,4,5,6,7,8,10)"
   ]
  },
  {
   "cell_type": "markdown",
   "id": "f03277fd-c3a6-4ff0-af6a-d265495601cb",
   "metadata": {},
   "source": [
    "Ans8"
   ]
  },
  {
   "cell_type": "markdown",
   "id": "8a46d77c-2014-43ad-a100-c479c718b0e1",
   "metadata": {},
   "source": [
    "Skewness is a measurement of the distortion of symmetrical distribution or asymmetry in a data set. Skewness is demonstrated on a bell curve when data points are not distributed symmetrically to the left and right sides of the median on a bell curve. If the bell curve is shifted to the left or the right, it is said to be skewed"
   ]
  },
  {
   "cell_type": "markdown",
   "id": "d8a169e5-52e4-467d-913e-2390b602bed0",
   "metadata": {},
   "source": [
    "Ans9"
   ]
  },
  {
   "cell_type": "markdown",
   "id": "7683a080-7130-4c57-b2a8-8edce2195695",
   "metadata": {},
   "source": [
    "Median will we between mean and mode"
   ]
  },
  {
   "cell_type": "markdown",
   "id": "457c32b3-5a66-4cec-854c-c701ba0a55aa",
   "metadata": {},
   "source": [
    "Ans10\n"
   ]
  },
  {
   "cell_type": "markdown",
   "id": "290de508-9ef4-453e-9faf-f68a5835fff8",
   "metadata": {},
   "source": [
    "Covariance is a statistical term that refers to a systematic relationship between two random variables in which a change in the other reflects a change in one variable.\n",
    "\n",
    "In statistics, correlation is a measure that determines the degree to which two or more random variables move in sequence."
   ]
  },
  {
   "cell_type": "markdown",
   "id": "518f747a-332f-48ae-8ddc-6437cc8ee8bc",
   "metadata": {},
   "source": [
    "Ans11 The formula for sample mean"
   ]
  },
  {
   "cell_type": "markdown",
   "id": "629107b3-ca36-4afd-a5ae-fd854073b6c3",
   "metadata": {},
   "source": [
    "x̄ = ( Σ xi ) / n\n",
    "\n",
    "Here, x̄ represents the sample mean, Σ tells us to add, xi refers to all the X-values and n stands for the number of items in the data set."
   ]
  },
  {
   "cell_type": "code",
   "execution_count": 13,
   "id": "ff0a1936-d366-4700-acdf-2b3c5e51dd76",
   "metadata": {},
   "outputs": [],
   "source": [
    "list1=[1,2,3,4,5,6]"
   ]
  },
  {
   "cell_type": "code",
   "execution_count": 21,
   "id": "96c1f726-7dfc-48ad-b0b7-a55fc5416ffa",
   "metadata": {},
   "outputs": [],
   "source": [
    "a=np.sum(list1)"
   ]
  },
  {
   "cell_type": "code",
   "execution_count": 22,
   "id": "37fb8394-2533-456e-b8ac-5dc707edfbf4",
   "metadata": {},
   "outputs": [],
   "source": [
    "mean=a/6"
   ]
  },
  {
   "cell_type": "code",
   "execution_count": 23,
   "id": "d34d1072-90e3-46a4-a3f6-9ab2ec0da251",
   "metadata": {},
   "outputs": [
    {
     "name": "stdout",
     "output_type": "stream",
     "text": [
      "yout mean is 3.5\n"
     ]
    }
   ],
   "source": [
    "print(f\"yout mean is {mean}\")"
   ]
  },
  {
   "cell_type": "markdown",
   "id": "85802971-57b6-4bff-b003-a9e7e5da5e81",
   "metadata": {},
   "source": [
    "Ans12"
   ]
  },
  {
   "cell_type": "markdown",
   "id": "7420afbc-b9a5-44b7-94ee-cc10a8573397",
   "metadata": {},
   "source": [
    "for normal deviation mean = mode = median"
   ]
  },
  {
   "cell_type": "code",
   "execution_count": null,
   "id": "492dee9d-2952-41a5-a446-b52d9eec1896",
   "metadata": {},
   "outputs": [],
   "source": [
    "Ans13"
   ]
  },
  {
   "cell_type": "markdown",
   "id": "5399794d-83c3-4ef7-9465-3e0901210127",
   "metadata": {},
   "source": [
    "Covariance is  the degreee of rlation betweeen two or more random variables.\n",
    "Correlation only show the relation it does not the degree."
   ]
  },
  {
   "cell_type": "markdown",
   "id": "8e4aae7e-3a1d-46c3-9a37-2ea1948c2847",
   "metadata": {},
   "source": [
    "Ans14"
   ]
  },
  {
   "cell_type": "markdown",
   "id": "006e1f90-e9f3-4cdc-8594-f4b34a9108bf",
   "metadata": {},
   "source": [
    "When we add outliners the central tendency parameter mean changes to a very large extent.\n",
    "Measure of dipersion is very sensetive to outliers.\n",
    "lets see with the help of an example."
   ]
  },
  {
   "cell_type": "code",
   "execution_count": 35,
   "id": "4e681cd4-dec7-4632-8a52-4337f2ac285c",
   "metadata": {},
   "outputs": [],
   "source": [
    "list2=[5,6,7,9,11,12,15,16]"
   ]
  },
  {
   "cell_type": "code",
   "execution_count": 36,
   "id": "0a30fd3e-5ed2-4879-b325-ba18b4ba7255",
   "metadata": {},
   "outputs": [
    {
     "data": {
      "text/plain": [
       "10.125"
      ]
     },
     "execution_count": 36,
     "metadata": {},
     "output_type": "execute_result"
    }
   ],
   "source": [
    "np.mean(list2)"
   ]
  },
  {
   "cell_type": "code",
   "execution_count": 31,
   "id": "71b6ae81-7bc6-40dc-8fa0-ed39b329ac89",
   "metadata": {},
   "outputs": [
    {
     "data": {
      "text/plain": [
       "11.0"
      ]
     },
     "execution_count": 31,
     "metadata": {},
     "output_type": "execute_result"
    }
   ],
   "source": [
    "np.median(list2)"
   ]
  },
  {
   "cell_type": "markdown",
   "id": "00604418-bbfb-49d9-bc8f-4aa1093faa53",
   "metadata": {},
   "source": [
    "now lets add an outliers to this data set."
   ]
  },
  {
   "cell_type": "code",
   "execution_count": 33,
   "id": "5de0e937-508c-4962-9042-423d6902e35c",
   "metadata": {},
   "outputs": [],
   "source": [
    "list3=[5,6,7,9,11,12,15,16,1000]"
   ]
  },
  {
   "cell_type": "code",
   "execution_count": 37,
   "id": "1a47d9a7-b0db-476a-a524-4b7b46e0aa49",
   "metadata": {},
   "outputs": [
    {
     "data": {
      "text/plain": [
       "120.11111111111111"
      ]
     },
     "execution_count": 37,
     "metadata": {},
     "output_type": "execute_result"
    }
   ],
   "source": [
    "np.mean(list3)"
   ]
  },
  {
   "cell_type": "code",
   "execution_count": 38,
   "id": "687b3f1b-b94d-490c-b6ef-3445ab691e09",
   "metadata": {},
   "outputs": [
    {
     "data": {
      "text/plain": [
       "11.0"
      ]
     },
     "execution_count": 38,
     "metadata": {},
     "output_type": "execute_result"
    }
   ],
   "source": [
    "np.median(list3)"
   ]
  },
  {
   "cell_type": "markdown",
   "id": "de7d1bcf-fe73-4f2f-9bb3-07da460f09ec",
   "metadata": {},
   "source": [
    "now lets see the effect on dipersion"
   ]
  },
  {
   "cell_type": "code",
   "execution_count": 39,
   "id": "63d792aa-2520-41d4-9477-af08055360a9",
   "metadata": {},
   "outputs": [
    {
     "data": {
      "text/plain": [
       "14.609375"
      ]
     },
     "execution_count": 39,
     "metadata": {},
     "output_type": "execute_result"
    }
   ],
   "source": [
    "np.var(list2)"
   ]
  },
  {
   "cell_type": "code",
   "execution_count": 40,
   "id": "c5e1cfc8-deff-4ed8-96f6-4708d135582f",
   "metadata": {},
   "outputs": [
    {
     "data": {
      "text/plain": [
       "3.822221212855164"
      ]
     },
     "execution_count": 40,
     "metadata": {},
     "output_type": "execute_result"
    }
   ],
   "source": [
    "np.std(list2)"
   ]
  },
  {
   "cell_type": "code",
   "execution_count": 41,
   "id": "1f51938a-ee99-40bb-a570-809e8ab3b287",
   "metadata": {},
   "outputs": [
    {
     "data": {
      "text/plain": [
       "96788.54320987656"
      ]
     },
     "execution_count": 41,
     "metadata": {},
     "output_type": "execute_result"
    }
   ],
   "source": [
    "np.var(list3)"
   ]
  },
  {
   "cell_type": "markdown",
   "id": "9f826e29-ffb8-414a-9c17-6478e2bc2faf",
   "metadata": {},
   "source": [
    "You can see the change in variance with addition of an ourlier."
   ]
  },
  {
   "cell_type": "code",
   "execution_count": null,
   "id": "06e2ef5c-5050-4475-aa1d-6d6a00715b16",
   "metadata": {},
   "outputs": [],
   "source": [
    "np.std(list3)"
   ]
  }
 ],
 "metadata": {
  "kernelspec": {
   "display_name": "Python 3 (ipykernel)",
   "language": "python",
   "name": "python3"
  },
  "language_info": {
   "codemirror_mode": {
    "name": "ipython",
    "version": 3
   },
   "file_extension": ".py",
   "mimetype": "text/x-python",
   "name": "python",
   "nbconvert_exporter": "python",
   "pygments_lexer": "ipython3",
   "version": "3.10.8"
  }
 },
 "nbformat": 4,
 "nbformat_minor": 5
}
