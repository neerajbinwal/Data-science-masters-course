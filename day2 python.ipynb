{
 "cells": [
  {
   "cell_type": "code",
   "execution_count": 1,
   "id": "41682562-bba1-45e8-8bee-1dcd0e2e9dfc",
   "metadata": {},
   "outputs": [],
   "source": [
    "a=10"
   ]
  },
  {
   "cell_type": "code",
   "execution_count": 2,
   "id": "c2df9be1-92eb-47d3-a786-bd3657c8c274",
   "metadata": {},
   "outputs": [],
   "source": [
    "a=\"c\"\n"
   ]
  },
  {
   "cell_type": "code",
   "execution_count": 3,
   "id": "2c7d4e88-8296-4807-8ea2-444b32d42a64",
   "metadata": {},
   "outputs": [
    {
     "ename": "NameError",
     "evalue": "name 'tyoe' is not defined",
     "output_type": "error",
     "traceback": [
      "\u001b[0;31m---------------------------------------------------------------------------\u001b[0m",
      "\u001b[0;31mNameError\u001b[0m                                 Traceback (most recent call last)",
      "Cell \u001b[0;32mIn[3], line 1\u001b[0m\n\u001b[0;32m----> 1\u001b[0m \u001b[43mtyoe\u001b[49m(a)\n",
      "\u001b[0;31mNameError\u001b[0m: name 'tyoe' is not defined"
     ]
    }
   ],
   "source": [
    "tyoe(a)"
   ]
  },
  {
   "cell_type": "code",
   "execution_count": 4,
   "id": "e7ea9878-1efa-49db-bf03-79dc789ac8c0",
   "metadata": {},
   "outputs": [
    {
     "data": {
      "text/plain": [
       "str"
      ]
     },
     "execution_count": 4,
     "metadata": {},
     "output_type": "execute_result"
    }
   ],
   "source": [
    "type(a)"
   ]
  },
  {
   "cell_type": "code",
   "execution_count": 6,
   "id": "46b806ee-de94-4031-8157-221b5b3234c5",
   "metadata": {},
   "outputs": [
    {
     "data": {
      "text/plain": [
       "0"
      ]
     },
     "execution_count": 6,
     "metadata": {},
     "output_type": "execute_result"
    }
   ],
   "source": [
    "int()"
   ]
  },
  {
   "cell_type": "code",
   "execution_count": 7,
   "id": "de3ce8ae-0285-4ede-827d-683dffba4981",
   "metadata": {},
   "outputs": [
    {
     "ename": "NameError",
     "evalue": "name 'abcd' is not defined",
     "output_type": "error",
     "traceback": [
      "\u001b[0;31m---------------------------------------------------------------------------\u001b[0m",
      "\u001b[0;31mNameError\u001b[0m                                 Traceback (most recent call last)",
      "Cell \u001b[0;32mIn[7], line 1\u001b[0m\n\u001b[0;32m----> 1\u001b[0m \u001b[38;5;28mint\u001b[39m(\u001b[43mabcd\u001b[49m)\n",
      "\u001b[0;31mNameError\u001b[0m: name 'abcd' is not defined"
     ]
    }
   ],
   "source": [
    "int(abcd)"
   ]
  },
  {
   "cell_type": "code",
   "execution_count": 8,
   "id": "23079714-fac3-42c1-86f7-11486b13b9f7",
   "metadata": {},
   "outputs": [
    {
     "name": "stdout",
     "output_type": "stream",
     "text": [
      "hello world\n"
     ]
    }
   ],
   "source": [
    "print(\"hello world\")"
   ]
  },
  {
   "cell_type": "code",
   "execution_count": 9,
   "id": "3685e00c-b8fb-4616-8ce9-29cc55c4d42e",
   "metadata": {},
   "outputs": [
    {
     "name": "stdout",
     "output_type": "stream",
     "text": [
      "123\n"
     ]
    }
   ],
   "source": [
    "print(123)"
   ]
  },
  {
   "cell_type": "code",
   "execution_count": 10,
   "id": "2b512a19-3069-446a-8d08-2f1d39a7c446",
   "metadata": {},
   "outputs": [
    {
     "name": "stdout",
     "output_type": "stream",
     "text": [
      "MY age is :, 32\n"
     ]
    }
   ],
   "source": [
    "age=32\n",
    "print(\"MY age is :,\",age)"
   ]
  },
  {
   "cell_type": "code",
   "execution_count": 11,
   "id": "173632aa-4805-49f2-9cb9-1b2d0afe42a0",
   "metadata": {},
   "outputs": [
    {
     "name": "stdout",
     "output_type": "stream",
     "text": [
      "my age is :32\n"
     ]
    }
   ],
   "source": [
    "print(f\"my age is :{age}\")"
   ]
  },
  {
   "cell_type": "code",
   "execution_count": 12,
   "id": "5c0a2a48-b12f-48b9-a7b3-a4233e622b0d",
   "metadata": {},
   "outputs": [
    {
     "name": "stdout",
     "output_type": "stream",
     "text": [
      "my name is neeraj and age is 32\n"
     ]
    }
   ],
   "source": [
    "##format()\n",
    "name=\"neeraj\"\n",
    "age=\"32\"\n",
    "print(\"my name is {} and age is {}\".format(name,age))"
   ]
  },
  {
   "cell_type": "code",
   "execution_count": null,
   "id": "dc59329a-54c4-4ebc-8ecd-b5735fba59bf",
   "metadata": {},
   "outputs": [],
   "source": []
  },
  {
   "cell_type": "code",
   "execution_count": 14,
   "id": "fcf24d2d-a7d9-4beb-a685-788c20bbe752",
   "metadata": {},
   "outputs": [
    {
     "name": "stdout",
     "output_type": "stream",
     "text": [
      "my name is neeraj and age is 32\n"
     ]
    }
   ],
   "source": [
    "##format()\n",
    "name=\"neeraj\"\n",
    "age=\"32\"\n",
    "print(\"my name is {firstname} and age is {firstage}\".format(firstname=name,firstage=age))"
   ]
  },
  {
   "cell_type": "code",
   "execution_count": 16,
   "id": "03278a91-786e-4dc8-b82c-958dcb8eaec6",
   "metadata": {},
   "outputs": [
    {
     "name": "stdout",
     "output_type": "stream",
     "text": [
      "my name is neeraj binwal and my age is 27 and my degreeBTEch\n"
     ]
    }
   ],
   "source": [
    "name=\"neeraj binwal\"\n",
    "age=\"27\"\n",
    "degree=\"BTEch\"\n",
    "print(f\"my name is {name} and my age is {age} and my degree{degree}\")"
   ]
  },
  {
   "cell_type": "code",
   "execution_count": 18,
   "id": "ae7cfbba-5dd3-4585-8cab-e803ef6b6c45",
   "metadata": {},
   "outputs": [
    {
     "name": "stdout",
     "output_type": "stream",
     "text": [
      "my name is neeraj binwaland age is 27 and degreeBTEch\n"
     ]
    }
   ],
   "source": [
    "print(\"my name is {firstname}and age is {firstage} and degree{mydegree}\".format(firstname=name,firstage=age,mydegree=degree))"
   ]
  },
  {
   "cell_type": "code",
   "execution_count": null,
   "id": "58a0567d-43a4-4f63-80d6-e8156e51a84f",
   "metadata": {},
   "outputs": [],
   "source": [
    "##control flow\n",
    "###Decesion making statements"
   ]
  },
  {
   "cell_type": "code",
   "execution_count": 20,
   "id": "8aabeafa-141b-4733-86a6-f8098e87c92d",
   "metadata": {},
   "outputs": [
    {
     "name": "stdout",
     "output_type": "stream",
     "text": [
      "you are not eligible to vote\n"
     ]
    }
   ],
   "source": [
    "#3\n",
    "age=17\n",
    "if age<18:\n",
    "    print(\"you are not eligible to vote\")"
   ]
  },
  {
   "cell_type": "code",
   "execution_count": 22,
   "id": "be81dea8-380b-4c71-bc7b-5e7a4eff44a3",
   "metadata": {},
   "outputs": [
    {
     "name": "stdin",
     "output_type": "stream",
     "text": [
      " neeraj binwal\n"
     ]
    },
    {
     "data": {
      "text/plain": [
       "'neeraj binwal'"
      ]
     },
     "execution_count": 22,
     "metadata": {},
     "output_type": "execute_result"
    }
   ],
   "source": [
    "input()"
   ]
  },
  {
   "cell_type": "code",
   "execution_count": 24,
   "id": "fb2ace73-7959-445e-aa8c-4c361b3b5a3e",
   "metadata": {},
   "outputs": [
    {
     "name": "stdin",
     "output_type": "stream",
     "text": [
      "Enter the name neeraj binwal\n"
     ]
    }
   ],
   "source": [
    "name=input(\"Enter the name\")"
   ]
  },
  {
   "cell_type": "code",
   "execution_count": 25,
   "id": "2dd2c40d-1064-4319-a47f-5b284f670849",
   "metadata": {},
   "outputs": [
    {
     "data": {
      "text/plain": [
       "'neeraj binwal'"
      ]
     },
     "execution_count": 25,
     "metadata": {},
     "output_type": "execute_result"
    }
   ],
   "source": [
    "name"
   ]
  },
  {
   "cell_type": "code",
   "execution_count": 27,
   "id": "248ba5d7-0c41-4046-bc0a-5ad8ecaa7536",
   "metadata": {},
   "outputs": [
    {
     "name": "stdin",
     "output_type": "stream",
     "text": [
      "enter your age 27\n"
     ]
    }
   ],
   "source": [
    "age=int(input(\"enter your age\"))"
   ]
  },
  {
   "cell_type": "code",
   "execution_count": 28,
   "id": "178b5b63-af31-4ac1-9ddc-48e7772a6ecf",
   "metadata": {},
   "outputs": [
    {
     "data": {
      "text/plain": [
       "27"
      ]
     },
     "execution_count": 28,
     "metadata": {},
     "output_type": "execute_result"
    }
   ],
   "source": [
    "age"
   ]
  },
  {
   "cell_type": "code",
   "execution_count": null,
   "id": "bbe341da-8f01-461b-8121-a42e411217b2",
   "metadata": {},
   "outputs": [],
   "source": [
    "####take input of check weather age >=18 and age<=45 if age>18 display a messafe you are \n",
    "young blood\n"
   ]
  },
  {
   "cell_type": "code",
   "execution_count": 30,
   "id": "bbe42508-91db-42f4-b99d-5583c367e67a",
   "metadata": {},
   "outputs": [
    {
     "name": "stdin",
     "output_type": "stream",
     "text": [
      "please enter your age 22\n"
     ]
    },
    {
     "name": "stdout",
     "output_type": "stream",
     "text": [
      "you are young blood\n"
     ]
    }
   ],
   "source": [
    "age=int(input(\"please enter your age\"))\n",
    "if age>=18 and age <=45:\n",
    "    print(\"you are young blood\")"
   ]
  },
  {
   "cell_type": "code",
   "execution_count": 31,
   "id": "1b850353-6254-4f60-b9d7-d73f5097aaeb",
   "metadata": {},
   "outputs": [
    {
     "name": "stdin",
     "output_type": "stream",
     "text": [
      "please enter your age 55\n"
     ]
    }
   ],
   "source": [
    "age=int(input(\"please enter your age\"))\n",
    "if age>=18 and age <=45:\n",
    "    print(\"you are young blood\")"
   ]
  },
  {
   "cell_type": "code",
   "execution_count": 32,
   "id": "efc886ba-68e8-4926-91a3-92ab68d29c10",
   "metadata": {},
   "outputs": [
    {
     "name": "stdin",
     "output_type": "stream",
     "text": [
      "please enter your age 55\n"
     ]
    },
    {
     "name": "stdout",
     "output_type": "stream",
     "text": [
      "Thankyou you we will let you know\n"
     ]
    }
   ],
   "source": [
    "age=int(input(\"please enter your age\"))\n",
    "if age>=18 and age <=45:\n",
    "    print(\"you are young blood\")\n",
    "else:\n",
    "    print(\"Thankyou you we will let you know\")"
   ]
  },
  {
   "cell_type": "code",
   "execution_count": null,
   "id": "7cb18a21-e056-497b-b1ff-d6b52be1c98a",
   "metadata": {},
   "outputs": [],
   "source": [
    "##mall----10%\n",
    "##product>1000 rs 20% off\n",
    "### product prize\n",
    "##product<=1000 30% off\n",
    "### product prize"
   ]
  },
  {
   "cell_type": "code",
   "execution_count": 38,
   "id": "b32a795a-6857-4a41-ab3e-52dad20eb88c",
   "metadata": {},
   "outputs": [
    {
     "name": "stdin",
     "output_type": "stream",
     "text": [
      "please enter the cost of the product 10\n"
     ]
    },
    {
     "name": "stdout",
     "output_type": "stream",
     "text": [
      "The price of the procut is 7.0\n"
     ]
    }
   ],
   "source": [
    "product_prize=int(input(\"please enter the cost of the product\"))\n",
    "if product_prize>1000:\n",
    "    print(f\"The product prize is {product_prize-product_prize*0.2}\")\n",
    "else:\n",
    "    print(f\"The price of the procut is {product_prize*0.7}\")"
   ]
  },
  {
   "cell_type": "code",
   "execution_count": 47,
   "id": "612b04f8-1b87-4b56-a80e-9d4b4b58ea9e",
   "metadata": {},
   "outputs": [
    {
     "name": "stdin",
     "output_type": "stream",
     "text": [
      "please enter your prize 4000\n"
     ]
    },
    {
     "name": "stdout",
     "output_type": "stream",
     "text": [
      "you will get a goa trip\n",
      "The price of the product is 3200.0\n"
     ]
    }
   ],
   "source": [
    "prize= int(input(\"please enter your prize\"))\n",
    "if prize>3000:\n",
    "    if prize==4000:\n",
    "        print(\"you will get a goa trip\")\n",
    "    print(f\"The price of the product is {prize*0.8}\")\n",
    "elif prize>=2000 and prize<=3000:\n",
    "    print(f\"The price of the product{prize*0.7}\")\n",
    "    if prize==2999:\n",
    "        print(\"congo you get a additional prize\")\n",
    "else:\n",
    "    print(f\"The price of the product is {prize*0.6}\")"
   ]
  },
  {
   "cell_type": "code",
   "execution_count": 49,
   "id": "c40e11e7-c2bf-4f0c-bd2b-a105b62f1150",
   "metadata": {},
   "outputs": [
    {
     "name": "stdin",
     "output_type": "stream",
     "text": [
      "enter the number 700\n"
     ]
    },
    {
     "name": "stdout",
     "output_type": "stream",
     "text": [
      "value is less than equal to 999\n"
     ]
    }
   ],
   "source": [
    "####single statement \n",
    "val=int(input(\"enter the number\"))\n",
    "if val<=999:print(\"value is less than equal to 999\")"
   ]
  },
  {
   "cell_type": "code",
   "execution_count": 52,
   "id": "5303340d-6702-44a3-872c-51aec166f212",
   "metadata": {},
   "outputs": [
    {
     "name": "stdout",
     "output_type": "stream",
     "text": [
      "25\n",
      "26\n",
      "27\n",
      "28\n",
      "29\n",
      "30\n",
      "31\n",
      "32\n",
      "33\n",
      "34\n",
      "35\n",
      "36\n",
      "37\n",
      "38\n",
      "39\n",
      "40\n",
      "41\n",
      "42\n",
      "43\n",
      "44\n",
      "45\n",
      "46\n",
      "47\n",
      "48\n",
      "49\n",
      "50\n",
      "51\n",
      "52\n",
      "53\n",
      "54\n",
      "55\n",
      "56\n",
      "57\n",
      "58\n",
      "59\n",
      "60\n",
      "its time for retirement\n"
     ]
    }
   ],
   "source": [
    "#while loop\n",
    "joining_age=25\n",
    "while joining_age<=60:\n",
    "    print(joining_age)\n",
    "    joining_age=joining_age+1\n",
    "else:\n",
    "    print(\"its time for retirement\")\n",
    "    \n",
    "    "
   ]
  },
  {
   "cell_type": "code",
   "execution_count": 53,
   "id": "c3cc8f39-f2db-4b5d-804d-90fbd1d39778",
   "metadata": {},
   "outputs": [
    {
     "name": "stdout",
     "output_type": "stream",
     "text": [
      "1000\n",
      "900\n",
      "800\n",
      "700\n",
      "600\n",
      "500\n",
      "400\n",
      "300\n",
      "200\n",
      "100\n",
      "Put more money\n"
     ]
    }
   ],
   "source": [
    "##### Atm machine with 1000 rupee\n",
    "total_amount=1000\n",
    "while total_amount!=0:\n",
    "    print(total_amount)\n",
    "    total_amount=total_amount-100\n",
    "else:\n",
    "    print(\"Put more money\")"
   ]
  },
  {
   "cell_type": "code",
   "execution_count": null,
   "id": "fba64281-3f3c-4060-b51b-01c80ef0f4a7",
   "metadata": {},
   "outputs": [],
   "source": [
    "## for loop"
   ]
  },
  {
   "cell_type": "code",
   "execution_count": 59,
   "id": "2b82d8b0-9316-4b1c-86d3-87a31bf0dd24",
   "metadata": {},
   "outputs": [],
   "source": [
    "list1 = [\"neeraj\",\"apple\",\"banana\"]"
   ]
  },
  {
   "cell_type": "code",
   "execution_count": 60,
   "id": "799c26f4-c628-4983-917c-b144ef19debd",
   "metadata": {},
   "outputs": [
    {
     "name": "stdout",
     "output_type": "stream",
     "text": [
      "neeraj\n",
      "apple\n",
      "banana\n"
     ]
    }
   ],
   "source": [
    "for x in list1:\n",
    "    print(x)"
   ]
  },
  {
   "cell_type": "code",
   "execution_count": 64,
   "id": "bfda853e-621c-4149-8e0a-72651c149951",
   "metadata": {},
   "outputs": [],
   "source": [
    "fruits_list =  [\"mango\",\"cherry\",\"banana\",\"papaya\"]"
   ]
  },
  {
   "cell_type": "code",
   "execution_count": 66,
   "id": "52a0d269-54ec-48a7-af48-cb35a19e37ad",
   "metadata": {},
   "outputs": [
    {
     "name": "stdout",
     "output_type": "stream",
     "text": [
      "mango\n",
      "cherry\n",
      "The fruits is cherry\n"
     ]
    }
   ],
   "source": [
    "for a in fruits_list:\n",
    "    print(a)\n",
    "    if a==\"cherry\":\n",
    "        print(\"The fruits is cherry\")\n",
    "        break"
   ]
  },
  {
   "cell_type": "code",
   "execution_count": 72,
   "id": "a9860a36-1655-466d-a687-68fe898d8c65",
   "metadata": {},
   "outputs": [
    {
     "name": "stdout",
     "output_type": "stream",
     "text": [
      "mango"
     ]
    }
   ],
   "source": [
    "fruit= \"mango\"\n",
    "for x in fruit:\n",
    "    print(x,end=\"\")"
   ]
  },
  {
   "cell_type": "code",
   "execution_count": 71,
   "id": "9b99008b-2271-456e-a6be-5b4aa7d86d71",
   "metadata": {},
   "outputs": [
    {
     "data": {
      "text/plain": [
       "'g'"
      ]
     },
     "execution_count": 71,
     "metadata": {},
     "output_type": "execute_result"
    }
   ],
   "source": [
    "fruit[3]"
   ]
  },
  {
   "cell_type": "code",
   "execution_count": null,
   "id": "1c94283d-75e6-4137-a998-16f773e3e9a9",
   "metadata": {},
   "outputs": [],
   "source": [
    "#####nested loops \n",
    "n=7\n"
   ]
  },
  {
   "cell_type": "code",
   "execution_count": 77,
   "id": "84ae5009-1d44-492d-b8d5-b3a612037a6e",
   "metadata": {},
   "outputs": [
    {
     "name": "stdout",
     "output_type": "stream",
     "text": [
      "1\n",
      "3\n",
      "5\n",
      "7\n",
      "9\n"
     ]
    }
   ],
   "source": [
    "for i in range(1,10,2):\n",
    "    print(i)"
   ]
  },
  {
   "cell_type": "code",
   "execution_count": 79,
   "id": "73a63ec4-80f7-49ea-ab69-4baa9dd19046",
   "metadata": {},
   "outputs": [
    {
     "name": "stdout",
     "output_type": "stream",
     "text": [
      "*\n",
      "**\n",
      "***\n",
      "****\n",
      "*****\n",
      "******\n",
      "*******\n"
     ]
    }
   ],
   "source": [
    "###nested loops\n",
    "n=7\n",
    "\n",
    "for i in range(0,n):\n",
    "    for j in range(0,i+1):\n",
    "        print(\"*\",end=\"\")\n",
    "    print(\"\\r\")"
   ]
  },
  {
   "cell_type": "code",
   "execution_count": null,
   "id": "5c51f103-9859-4d72-956c-5d1cfe55fed0",
   "metadata": {},
   "outputs": [],
   "source": [
    "### loop control\n",
    "###Break and countinue\n",
    "fruits_list=[\"mango\",\"cherry\",\"Banana\",\"apple\"]"
   ]
  },
  {
   "cell_type": "code",
   "execution_count": 88,
   "id": "6f472cc4-4fec-4269-913c-fc1efa5b876e",
   "metadata": {},
   "outputs": [
    {
     "name": "stdout",
     "output_type": "stream",
     "text": [
      "mango\n",
      "The fruit is cherry\n"
     ]
    }
   ],
   "source": [
    "for i in fruits_list:\n",
    "    if i==\"cherry\":\n",
    "        print(\"The fruit is cherry\")\n",
    "        break\n",
    "    print(i)"
   ]
  },
  {
   "cell_type": "code",
   "execution_count": null,
   "id": "30a6e56f-6d95-4731-a6e8-6c49c2d9eabd",
   "metadata": {},
   "outputs": [],
   "source": []
  },
  {
   "cell_type": "code",
   "execution_count": null,
   "id": "374552ac-22a2-4914-b788-0504cf9dd5fc",
   "metadata": {},
   "outputs": [],
   "source": []
  },
  {
   "cell_type": "code",
   "execution_count": null,
   "id": "d406debf-db11-41d3-a7b3-b83c138c4d4d",
   "metadata": {},
   "outputs": [],
   "source": []
  },
  {
   "cell_type": "code",
   "execution_count": null,
   "id": "016639e4-1ca1-4016-ad2e-b803af5a098b",
   "metadata": {},
   "outputs": [],
   "source": []
  },
  {
   "cell_type": "code",
   "execution_count": null,
   "id": "e85b9c12-4e2a-4d8a-9379-068f2f341ccc",
   "metadata": {},
   "outputs": [],
   "source": []
  },
  {
   "cell_type": "code",
   "execution_count": null,
   "id": "9d67565d-9437-470f-b1f8-e37fef229e89",
   "metadata": {},
   "outputs": [],
   "source": []
  },
  {
   "cell_type": "code",
   "execution_count": 12,
   "id": "06a2a8fa-6ccc-41f1-8726-724a22dd46b4",
   "metadata": {},
   "outputs": [
    {
     "name": "stdout",
     "output_type": "stream",
     "text": [
      "my name is neeraj and age is 32\n"
     ]
    }
   ],
   "source": [
    "##format()\n",
    "name=\"neeraj\"\n",
    "age=\"32\"\n",
    "print(\"my name is {} and age is {}\".format(name,age))"
   ]
  }
 ],
 "metadata": {
  "kernelspec": {
   "display_name": "Python 3 (ipykernel)",
   "language": "python",
   "name": "python3"
  },
  "language_info": {
   "codemirror_mode": {
    "name": "ipython",
    "version": 3
   },
   "file_extension": ".py",
   "mimetype": "text/x-python",
   "name": "python",
   "nbconvert_exporter": "python",
   "pygments_lexer": "ipython3",
   "version": "3.10.8"
  }
 },
 "nbformat": 4,
 "nbformat_minor": 5
}
