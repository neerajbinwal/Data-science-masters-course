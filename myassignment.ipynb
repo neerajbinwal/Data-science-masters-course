{
 "cells": [
  {
   "cell_type": "code",
   "execution_count": 3,
   "id": "87602470-c457-4eac-9574-f119eb1c4690",
   "metadata": {},
   "outputs": [],
   "source": [
    "file = open(\"file1.txt\",\"r\")"
   ]
  },
  {
   "cell_type": "code",
   "execution_count": 4,
   "id": "41c26320-2299-45b9-8718-3139daba0bac",
   "metadata": {},
   "outputs": [],
   "source": [
    "file_read = file.read()\n"
   ]
  },
  {
   "cell_type": "code",
   "execution_count": 5,
   "id": "4491075e-342a-4d04-a5b8-84030b90ec1e",
   "metadata": {},
   "outputs": [
    {
     "name": "stdout",
     "output_type": "stream",
     "text": [
      "{\n",
      " \"cells\": [],\n",
      " \"metadata\": {},\n",
      " \"nbformat\": 4,\n",
      " \"nbformat_minor\": 5\n",
      "}\n",
      "\n"
     ]
    }
   ],
   "source": [
    "print(file_read)"
   ]
  },
  {
   "cell_type": "code",
   "execution_count": 7,
   "id": "3cf97124-319a-4c5c-9c5a-8f967fe21f65",
   "metadata": {},
   "outputs": [
    {
     "name": "stdout",
     "output_type": "stream",
     "text": [
      "{\n",
      " \"cells\": [],\n",
      " \"metadata\": {},\n",
      " \"nbformat\": 4,\n",
      " \"nbformat_minor\": 5\n",
      "}\n",
      "\n",
      "this is my file\n"
     ]
    }
   ],
   "source": [
    "with open (\"file1.txt\",\"r\") as file1:\n",
    "    read_content=file1.read()\n",
    "    print(read_content)"
   ]
  },
  {
   "cell_type": "code",
   "execution_count": 8,
   "id": "28fe858f-d95d-440c-8c3c-c27d64c758b1",
   "metadata": {},
   "outputs": [],
   "source": [
    "file1.close()"
   ]
  },
  {
   "cell_type": "code",
   "execution_count": 9,
   "id": "088d99ed-0f1e-4b65-a084-4eee1aef7a1f",
   "metadata": {},
   "outputs": [],
   "source": [
    "file.close()"
   ]
  },
  {
   "cell_type": "code",
   "execution_count": 10,
   "id": "5da51e04-49b1-4de8-81e0-e67dcf2fc01c",
   "metadata": {},
   "outputs": [],
   "source": [
    "#### why close() is used in file\n",
    "\n",
    "#### VIt can slow down your program. Too many things open, and thus more used space in the RAM, will impact performance.\n",
    "\n"
   ]
  },
  {
   "cell_type": "code",
   "execution_count": 11,
   "id": "8d29b9ed-64cf-46e8-ad43-58ba2d2c7e8c",
   "metadata": {},
   "outputs": [],
   "source": [
    "with open(\"text123\",\"w\") as file2:\n",
    "    data = \"I want to become a data scientist\"\n",
    "    file2.write(data)\n",
    "    "
   ]
  },
  {
   "cell_type": "code",
   "execution_count": 13,
   "id": "91eb6b38-1994-4a34-9ae8-8c54aaa71a87",
   "metadata": {},
   "outputs": [
    {
     "name": "stdout",
     "output_type": "stream",
     "text": [
      "I want to become a data scientist\n"
     ]
    }
   ],
   "source": [
    "with open (\"text123\",\"r\") as file2:\n",
    "    read=file2.read()\n",
    "    print(read)"
   ]
  },
  {
   "cell_type": "code",
   "execution_count": 14,
   "id": "6195838b-2fbe-4e55-af52-d35a23dd8664",
   "metadata": {},
   "outputs": [],
   "source": [
    "# read is used to read the text in the file\n",
    "#The readline() method returns one line from the file.\n",
    "#The readelines() is used to read line by line "
   ]
  },
  {
   "cell_type": "code",
   "execution_count": 15,
   "id": "05cec8c2-4ff9-40bf-a1ed-d09e0f1ba87d",
   "metadata": {},
   "outputs": [],
   "source": [
    "#The write() method writes a string to a text file.\n",
    "#The writelines() method write a list of strings to a file at once."
   ]
  },
  {
   "cell_type": "code",
   "execution_count": 16,
   "id": "877bfa61-5236-4afa-b235-d0ab83780fe3",
   "metadata": {},
   "outputs": [],
   "source": [
    "with open(\"text52\",\"w\") as file3:\n",
    "    write1=file3.write(\"iam a write function\")"
   ]
  },
  {
   "cell_type": "code",
   "execution_count": 17,
   "id": "95d1be7d-bb47-47d4-89fa-f95985d699a9",
   "metadata": {},
   "outputs": [],
   "source": [
    "list1= [\"Iam a data scientist\",\"python\",\"powerbi\",\"deep learning\"]"
   ]
  },
  {
   "cell_type": "code",
   "execution_count": 18,
   "id": "050561bc-d58a-40c0-8a3a-fa4d59242b41",
   "metadata": {},
   "outputs": [],
   "source": [
    "with open (\"text34\",\"w\") as file4:\n",
    "    write2=file4.writelines(list1)"
   ]
  },
  {
   "cell_type": "code",
   "execution_count": 20,
   "id": "8e41a562-1798-48c0-8923-9491b8644846",
   "metadata": {},
   "outputs": [
    {
     "name": "stdout",
     "output_type": "stream",
     "text": [
      "Iam a data scientistpythonpowerbideep learning\n"
     ]
    }
   ],
   "source": [
    "with open (\"text34\",\"r\") as file5:\n",
    "    read1=file5.read()\n",
    "    print(read1)"
   ]
  },
  {
   "cell_type": "code",
   "execution_count": null,
   "id": "2107405e-23c3-4166-af13-be73ec5882e5",
   "metadata": {},
   "outputs": [],
   "source": []
  }
 ],
 "metadata": {
  "kernelspec": {
   "display_name": "Python 3 (ipykernel)",
   "language": "python",
   "name": "python3"
  },
  "language_info": {
   "codemirror_mode": {
    "name": "ipython",
    "version": 3
   },
   "file_extension": ".py",
   "mimetype": "text/x-python",
   "name": "python",
   "nbconvert_exporter": "python",
   "pygments_lexer": "ipython3",
   "version": "3.10.8"
  }
 },
 "nbformat": 4,
 "nbformat_minor": 5
}
