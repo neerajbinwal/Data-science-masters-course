{
 "cells": [
  {
   "cell_type": "code",
   "execution_count": 1,
   "id": "afd47c40-6bff-40be-8520-e94631876e43",
   "metadata": {},
   "outputs": [],
   "source": [
    "l1 = [(\"Sachin Tendulkar\",34357),(\"Ricky Pointing\",27483),(\"Jack Kallis\",25534),(\"Virat Kohli\",24936)]"
   ]
  },
  {
   "cell_type": "code",
   "execution_count": 2,
   "id": "8692fd67-ca36-4b06-b51b-4e3d90ad3b11",
   "metadata": {},
   "outputs": [],
   "source": [
    "l1.sort(key=lambda x:x[1])"
   ]
  },
  {
   "cell_type": "code",
   "execution_count": 3,
   "id": "b6049526-dff6-451e-a253-763c07eeadad",
   "metadata": {},
   "outputs": [
    {
     "name": "stdout",
     "output_type": "stream",
     "text": [
      "[('Virat Kohli', 24936), ('Jack Kallis', 25534), ('Ricky Pointing', 27483), ('Sachin Tendulkar', 34357)]\n"
     ]
    }
   ],
   "source": [
    "print(l1)"
   ]
  },
  {
   "cell_type": "code",
   "execution_count": 4,
   "id": "d5f38d4a-d338-46a6-a75e-443e816b2fa6",
   "metadata": {},
   "outputs": [],
   "source": [
    "# finding the square of list using lambda and map"
   ]
  },
  {
   "cell_type": "code",
   "execution_count": 5,
   "id": "e7075c39-2108-403d-8a05-5fc42bb44c24",
   "metadata": {},
   "outputs": [],
   "source": [
    "l2= [1,2,3,4,5,6,7,8,9,10]"
   ]
  },
  {
   "cell_type": "code",
   "execution_count": 15,
   "id": "5e67f702-ff6f-4304-946b-d275be14bc24",
   "metadata": {},
   "outputs": [
    {
     "data": {
      "text/plain": [
       "[1, 4, 9, 16, 25, 36, 49, 64, 81, 100]"
      ]
     },
     "execution_count": 15,
     "metadata": {},
     "output_type": "execute_result"
    }
   ],
   "source": [
    "list(map(lambda x:x**2,l2))"
   ]
  },
  {
   "cell_type": "code",
   "execution_count": 20,
   "id": "e2446394-2266-4380-ab52-0fbbef52c728",
   "metadata": {},
   "outputs": [],
   "source": [
    "mytuple=tuple(map(lambda x:str(x),l2))#conveting list into tuples of string "
   ]
  },
  {
   "cell_type": "code",
   "execution_count": 21,
   "id": "231c45b3-21bc-4bfb-8125-0854197dd69d",
   "metadata": {},
   "outputs": [
    {
     "name": "stdout",
     "output_type": "stream",
     "text": [
      "('1', '2', '3', '4', '5', '6', '7', '8', '9', '10')\n"
     ]
    }
   ],
   "source": [
    "print(mytuple)"
   ]
  },
  {
   "cell_type": "code",
   "execution_count": 22,
   "id": "03467c14-0ab2-4d97-b54e-8f6a8ae71707",
   "metadata": {},
   "outputs": [],
   "source": [
    "#compute the product of numbers containing numbers form 1 to 25"
   ]
  },
  {
   "cell_type": "code",
   "execution_count": 23,
   "id": "f21716c3-128a-470c-bdf7-d0409953646c",
   "metadata": {},
   "outputs": [],
   "source": [
    "l3=[1,2,3,4,5,6,7,8,9,10,11,12,13,14,15,16,17,18,19,20,21,22,23,24,25]"
   ]
  },
  {
   "cell_type": "code",
   "execution_count": 25,
   "id": "11e279e9-c813-40d5-80ed-b6654025911b",
   "metadata": {},
   "outputs": [],
   "source": [
    "from functools import reduce"
   ]
  },
  {
   "cell_type": "code",
   "execution_count": 28,
   "id": "0d47d8ac-4b80-4dec-9b3d-0a81ba8467a8",
   "metadata": {},
   "outputs": [
    {
     "data": {
      "text/plain": [
       "15511210043330985984000000"
      ]
     },
     "execution_count": 28,
     "metadata": {},
     "output_type": "execute_result"
    }
   ],
   "source": [
    "reduce(lambda x,y:x*y,l3)"
   ]
  },
  {
   "cell_type": "code",
   "execution_count": 29,
   "id": "3a80402a-0271-41a7-ad7a-821790ad0b02",
   "metadata": {},
   "outputs": [],
   "source": [
    "#filtering the given list using filter function which are divisible by 2 and three\n"
   ]
  },
  {
   "cell_type": "code",
   "execution_count": 30,
   "id": "1a2f8c7a-23c9-4a5f-b088-134fb2901929",
   "metadata": {},
   "outputs": [],
   "source": [
    "l4 = [2,3,6,9,27,80,90,120,55,46]\n"
   ]
  },
  {
   "cell_type": "code",
   "execution_count": 48,
   "id": "24fdf54d-567d-48aa-aada-5b1d54722609",
   "metadata": {},
   "outputs": [
    {
     "data": {
      "text/plain": [
       "[2, 3, 6, 9, 27, 80, 90, 120, 46]"
      ]
     },
     "execution_count": 48,
     "metadata": {},
     "output_type": "execute_result"
    }
   ],
   "source": [
    "list(filter(lambda x:x%2==0 or x%3==0,l4))"
   ]
  },
  {
   "cell_type": "code",
   "execution_count": 49,
   "id": "0447b996-c5c0-474c-b5d8-62c63e70d133",
   "metadata": {},
   "outputs": [],
   "source": [
    "##python program to find palindromes using lamdha and filter "
   ]
  },
  {
   "cell_type": "code",
   "execution_count": 50,
   "id": "75f6c2b9-9989-43c1-b563-f5cf866f6511",
   "metadata": {},
   "outputs": [],
   "source": [
    "l5 =[\"python\",\"php\",\"aba\",\"radar\",\"level\"]"
   ]
  },
  {
   "cell_type": "code",
   "execution_count": 53,
   "id": "9f73c598-e5df-43b9-8070-4f0e50ff3421",
   "metadata": {},
   "outputs": [
    {
     "data": {
      "text/plain": [
       "['python', 'php', 'aba', 'radar', 'level']"
      ]
     },
     "execution_count": 53,
     "metadata": {},
     "output_type": "execute_result"
    }
   ],
   "source": [
    "list(filter(lambda x:(x == \"\".join(reversed(x)),l5))"
   ]
  },
  {
   "cell_type": "code",
   "execution_count": null,
   "id": "a5f06ddb-70d6-4de3-bafb-ad49f5fd0007",
   "metadata": {},
   "outputs": [],
   "source": []
  }
 ],
 "metadata": {
  "kernelspec": {
   "display_name": "Python 3 (ipykernel)",
   "language": "python",
   "name": "python3"
  },
  "language_info": {
   "codemirror_mode": {
    "name": "ipython",
    "version": 3
   },
   "file_extension": ".py",
   "mimetype": "text/x-python",
   "name": "python",
   "nbconvert_exporter": "python",
   "pygments_lexer": "ipython3",
   "version": "3.10.8"
  }
 },
 "nbformat": 4,
 "nbformat_minor": 5
}
