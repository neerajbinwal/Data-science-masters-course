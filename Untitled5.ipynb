{
 "cells": [
  {
   "cell_type": "markdown",
   "id": "32121754-a17c-4d09-bc20-7418b61171fa",
   "metadata": {},
   "source": [
    "def key word is used to create a function "
   ]
  },
  {
   "cell_type": "code",
   "execution_count": 2,
   "id": "38383146-aea2-4d41-b471-981bdb081f86",
   "metadata": {},
   "outputs": [],
   "source": [
    "def myoddnumber():\n",
    "    for i in range (0,26):\n",
    "        if i%2!=0:\n",
    "            print (i)\n",
    "            "
   ]
  },
  {
   "cell_type": "code",
   "execution_count": 3,
   "id": "07c32a5c-2e70-4a17-af8b-bc52bb70c6d6",
   "metadata": {},
   "outputs": [
    {
     "name": "stdout",
     "output_type": "stream",
     "text": [
      "1\n",
      "3\n",
      "5\n",
      "7\n",
      "9\n",
      "11\n",
      "13\n",
      "15\n",
      "17\n",
      "19\n",
      "21\n",
      "23\n",
      "25\n"
     ]
    }
   ],
   "source": [
    "myoddnumber()"
   ]
  },
  {
   "cell_type": "markdown",
   "id": "9b53e03c-b655-4f19-9449-7081f11c86db",
   "metadata": {},
   "source": [
    "*args  are used to store number of arguments in a fucnction \n",
    "**kwargs are used to store arguments in form of key:value"
   ]
  },
  {
   "cell_type": "code",
   "execution_count": 7,
   "id": "30155f8b-aa1c-4d45-a2f5-b2d41b1a7832",
   "metadata": {},
   "outputs": [],
   "source": [
    "def myfuction (*neeraj):\n",
    "    return neeraj"
   ]
  },
  {
   "cell_type": "code",
   "execution_count": 8,
   "id": "aa835429-b507-46ae-937c-f0baca85c4f1",
   "metadata": {},
   "outputs": [
    {
     "data": {
      "text/plain": [
       "(1, 2, 3, 4, 5, 6, 7, 8, [1, 2, 3, 4, 45, 6], (1, 2, 3, 4, 5, 6))"
      ]
     },
     "execution_count": 8,
     "metadata": {},
     "output_type": "execute_result"
    }
   ],
   "source": [
    "myfuction(1,2,3,4,5,6,7,8,[1,2,3,4,45,6],(1,2,3,4,5,6))"
   ]
  },
  {
   "cell_type": "code",
   "execution_count": 9,
   "id": "b42a0bbc-4298-47ec-9867-ae5e705bf708",
   "metadata": {},
   "outputs": [],
   "source": [
    "def mysecondfuction(**kwargs):\n",
    "    return kwargs"
   ]
  },
  {
   "cell_type": "code",
   "execution_count": 11,
   "id": "f734b5d5-ed3e-46eb-8a4c-e71f425bdcf4",
   "metadata": {},
   "outputs": [
    {
     "data": {
      "text/plain": [
       "{'a': 23, 'b': 'my name', 'c': 'my mail', 'd': 'my address'}"
      ]
     },
     "execution_count": 11,
     "metadata": {},
     "output_type": "execute_result"
    }
   ],
   "source": [
    "mysecondfuction(a=23,b=\"my name\",c=\"my mail\",d=\"my address\")"
   ]
  },
  {
   "cell_type": "markdown",
   "id": "220b27da-0fbc-476b-bdef-8e9454cb21ae",
   "metadata": {},
   "source": [
    "iterator are the objects we go through its value\n",
    "__iter__() is used to initilize iterator object\n",
    "__next__() is used for iteration"
   ]
  },
  {
   "cell_type": "code",
   "execution_count": 13,
   "id": "7f9ebd08-9e26-4ace-9267-1141ec45075b",
   "metadata": {},
   "outputs": [
    {
     "name": "stdout",
     "output_type": "stream",
     "text": [
      "2\n",
      "4\n",
      "6\n",
      "8\n",
      "10\n"
     ]
    }
   ],
   "source": [
    "l = [ 2,4,6,8,10,12,18,18,18,20]\n",
    "mylist = iter(l)\n",
    "print(next(mylist))\n",
    "print(next(mylist))\n",
    "print(next(mylist))\n",
    "print(next(mylist))\n",
    "print(next(mylist))"
   ]
  },
  {
   "cell_type": "code",
   "execution_count": 14,
   "id": "5d2ef72b-d140-4f6c-a813-6edf4d11bc40",
   "metadata": {},
   "outputs": [],
   "source": [
    "## generator function is used to generate lots of values without storing them"
   ]
  },
  {
   "cell_type": "code",
   "execution_count": 15,
   "id": "8e33d928-04d8-4566-b2df-f8ec3a85f3c4",
   "metadata": {},
   "outputs": [],
   "source": [
    "##yield is used to produce value form the generator "
   ]
  },
  {
   "cell_type": "code",
   "execution_count": 23,
   "id": "61106497-513e-43ca-8339-a091746fb027",
   "metadata": {},
   "outputs": [],
   "source": [
    "def mygen():\n",
    "    for i in range (0,11):\n",
    "        a=i*i\n",
    "        yield a"
   ]
  },
  {
   "cell_type": "code",
   "execution_count": 24,
   "id": "3a60c9d7-2d24-4900-9c43-7117e0bb5eb5",
   "metadata": {},
   "outputs": [
    {
     "name": "stdout",
     "output_type": "stream",
     "text": [
      "0\n",
      "1\n",
      "4\n",
      "9\n",
      "16\n",
      "25\n",
      "36\n",
      "49\n",
      "64\n",
      "81\n",
      "100\n"
     ]
    }
   ],
   "source": [
    "for i in mygen():\n",
    "    print(i)"
   ]
  },
  {
   "cell_type": "code",
   "execution_count": 25,
   "id": "8feb3eef-3888-4b01-9a4b-caf9d3637335",
   "metadata": {},
   "outputs": [],
   "source": [
    "###answer 5"
   ]
  },
  {
   "cell_type": "code",
   "execution_count": 49,
   "id": "22d3c922-5e6f-4f53-a7a2-e0d215a6798e",
   "metadata": {},
   "outputs": [],
   "source": [
    "def myprime():\n",
    "    for num in range(1,1001):\n",
    "   if num > 1:\n",
    "       for i in range(2,num):\n",
    "           if (num % i) == 0:\n",
    "               break\n",
    "       else:\n",
    "           yield (num)\n",
    "    \n",
    "    "
   ]
  },
  {
   "cell_type": "code",
   "execution_count": 62,
   "id": "576e905b-6028-4afd-97f8-432526380ab0",
   "metadata": {},
   "outputs": [
    {
     "name": "stdout",
     "output_type": "stream",
     "text": [
      "2\n"
     ]
    }
   ],
   "source": [
    "prime=[2, 3, 5, 7, 11, 13, 17, 19, 23, 29, 31, 37, 41, 43, 47, 53, 59, 61, 67, 71, 73, 79, 83, 89, 97]\n",
    "my= iter(prime)\n",
    "print(next(my))"
   ]
  },
  {
   "cell_type": "code",
   "execution_count": null,
   "id": "f98bcd4c-c852-43e8-8778-1bfaa7f9ad6c",
   "metadata": {},
   "outputs": [],
   "source": []
  }
 ],
 "metadata": {
  "kernelspec": {
   "display_name": "Python 3 (ipykernel)",
   "language": "python",
   "name": "python3"
  },
  "language_info": {
   "codemirror_mode": {
    "name": "ipython",
    "version": 3
   },
   "file_extension": ".py",
   "mimetype": "text/x-python",
   "name": "python",
   "nbconvert_exporter": "python",
   "pygments_lexer": "ipython3",
   "version": "3.10.8"
  }
 },
 "nbformat": 4,
 "nbformat_minor": 5
}
