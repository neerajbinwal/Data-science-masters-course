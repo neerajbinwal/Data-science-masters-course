{
 "cells": [
  {
   "cell_type": "markdown",
   "id": "c84f192e-a939-4cba-8995-ebd3b1631137",
   "metadata": {},
   "source": [
    "Ans1"
   ]
  },
  {
   "cell_type": "markdown",
   "id": "0d8b046a-ef8a-4e4a-84d2-f4fd8cc57fb7",
   "metadata": {},
   "source": [
    "Linear Regression is a process in which we have one independent variable and one output variable and we find best fit line according to that, in case of multiple linear regression we have multiple independent variable and one output variable and we construct a best fit plane. \n",
    "For e.g=We have a relationship between weight and height(output).----->Linear regression\n",
    "We have relationship between weight,height(output) and age ------->Multiple Regression "
   ]
  },
  {
   "cell_type": "markdown",
   "id": "b697ae53-9334-46f0-aefc-ba13324f9f95",
   "metadata": {},
   "source": [
    "Ans2"
   ]
  },
  {
   "cell_type": "markdown",
   "id": "07462554-dc72-49fe-bf4d-b6b50238b2c8",
   "metadata": {},
   "source": [
    "The regression has five key assumptions:\n",
    "\n",
    "Linear relationship\n",
    "Multivariate normality\n",
    "No or little multicollinearity\n",
    "No auto-correlation\n",
    "Homoscedasticity"
   ]
  },
  {
   "cell_type": "markdown",
   "id": "fbd43e45-2817-4337-9ca1-c5126648c435",
   "metadata": {},
   "source": [
    "Ans3"
   ]
  },
  {
   "cell_type": "markdown",
   "id": "318bce33-4f97-41cd-a6a7-88f49ca5f86c",
   "metadata": {},
   "source": [
    "We can find the slope in a linear regression model using the least squares method.2 The equation has the form Y= a + bX, where Y is the dependent variable (that’’s the variable that goes on the Y axis), X is the independent variable (i.e. it’s plotted on the X axis), b is the slope of the line and a is the y-intercept."
   ]
  },
  {
   "cell_type": "markdown",
   "id": "2698836a-e8cc-4ab4-8c7f-92ebf7d1e8f5",
   "metadata": {},
   "source": [
    "Ans4,,,,,,We reduce the value of  our parameters so that we reach the minimum cost funcstion point it is called gradient desent...\n"
   ]
  },
  {
   "cell_type": "markdown",
   "id": "671ae54f-62e8-4c02-9176-1649c0fae0e5",
   "metadata": {},
   "source": [
    "Ans5...In multiple regression we have multiple independent features and we find the best fit plane."
   ]
  },
  {
   "cell_type": "markdown",
   "id": "80f1076c-4c7f-4013-a8fc-4386e7bbd51b",
   "metadata": {},
   "source": [
    "Ans6....Multicollinearity occurs when independent variables in a regression model are correlated. This correlation is a problem because independent variables should be independent. If the degree of correlation between variables is high enough, it can cause problems when you fit the model and interpret the results."
   ]
  },
  {
   "cell_type": "markdown",
   "id": "78d1f8fe-99ea-4bb0-ad5d-337a5b80a3c0",
   "metadata": {},
   "source": [
    "Ans7...When we have non linear relationship bewteeen independent and dependent variable.In linear regresssion we find best fit line and polynomial regression we find best fit curve my use of polynomial cofficient. "
   ]
  },
  {
   "cell_type": "code",
   "execution_count": null,
   "id": "7c015b33-9583-431f-a891-1ace95a769ec",
   "metadata": {},
   "outputs": [],
   "source": [
    "Ans8, Polynomial regression is more coplicated. "
   ]
  }
 ],
 "metadata": {
  "kernelspec": {
   "display_name": "Python 3 (ipykernel)",
   "language": "python",
   "name": "python3"
  },
  "language_info": {
   "codemirror_mode": {
    "name": "ipython",
    "version": 3
   },
   "file_extension": ".py",
   "mimetype": "text/x-python",
   "name": "python",
   "nbconvert_exporter": "python",
   "pygments_lexer": "ipython3",
   "version": "3.10.8"
  }
 },
 "nbformat": 4,
 "nbformat_minor": 5
}
