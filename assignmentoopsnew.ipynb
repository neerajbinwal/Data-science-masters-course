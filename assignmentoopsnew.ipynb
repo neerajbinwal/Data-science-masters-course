{
 "cells": [
  {
   "cell_type": "code",
   "execution_count": 30,
   "id": "80f7b8cd-cce7-4e72-9183-c72f8f7301f9",
   "metadata": {},
   "outputs": [],
   "source": [
    "class vehicle:\n",
    "    def __init__(self,name_of_vehicle,max_speed,average_of_vehicles):\n",
    "        self.name_of_vehicle=name_of_vehicle\n",
    "        self.max_speed=max_speed\n",
    "        self.average_of_vehicles=average_of_vehicles\n",
    "    def seating_capacity(self,capacity):\n",
    "        seating_capacity=capacity\n",
    "        return self.name_of_vehicle,seating_capacity"
   ]
  },
  {
   "cell_type": "code",
   "execution_count": 31,
   "id": "53dbbd0b-7b75-4767-a982-c1402340d5e3",
   "metadata": {},
   "outputs": [],
   "source": [
    "bmw = vehicle(\"BMW\",150,20)"
   ]
  },
  {
   "cell_type": "code",
   "execution_count": 32,
   "id": "c117595b-60b6-48c4-84c0-d9187c6bd294",
   "metadata": {},
   "outputs": [
    {
     "data": {
      "text/plain": [
       "20"
      ]
     },
     "execution_count": 32,
     "metadata": {},
     "output_type": "execute_result"
    }
   ],
   "source": [
    "bmw.average_of_vehicles"
   ]
  },
  {
   "cell_type": "code",
   "execution_count": 33,
   "id": "819628ec-9df9-4f40-8cc2-61d3f9bedfc7",
   "metadata": {},
   "outputs": [
    {
     "data": {
      "text/plain": [
       "('BMW', 8)"
      ]
     },
     "execution_count": 33,
     "metadata": {},
     "output_type": "execute_result"
    }
   ],
   "source": [
    "bmw.seating_capacity(8)"
   ]
  },
  {
   "cell_type": "code",
   "execution_count": 37,
   "id": "da171197-f6f9-4735-8b82-a3ff4f5d5c8e",
   "metadata": {},
   "outputs": [],
   "source": [
    "### when a class derives from more than one base class is multiple inheritence"
   ]
  },
  {
   "cell_type": "code",
   "execution_count": 55,
   "id": "b2517877-d141-4e19-af27-cdec28f93d94",
   "metadata": {},
   "outputs": [],
   "source": [
    "class Mechanical:\n",
    "    course_duration=4\n",
    "    def my_course(self):\n",
    "        print(\" Iam mechnical engineer\")\n",
    "    def my_software_use(self):\n",
    "        print(\"I love to work on solid works\")"
   ]
  },
  {
   "cell_type": "code",
   "execution_count": 56,
   "id": "bfd681e3-804e-4bb0-bbfc-bceb4df14419",
   "metadata": {},
   "outputs": [],
   "source": [
    "class electronics:\n",
    "    my_work=\"I work on circuits\"\n",
    "    def my_course(self):\n",
    "        print(\"Iam a electronics engineer\")\n",
    "    def my_software(self):\n",
    "        print(\" I generally use matlab \")"
   ]
  },
  {
   "cell_type": "code",
   "execution_count": 57,
   "id": "603c55dd-bf44-4cbb-9185-07f1738379e9",
   "metadata": {},
   "outputs": [],
   "source": [
    "class mechatronics(Mechanical,electronics):\n",
    "    my_work=\"I work both mechanical and electronics\"\n",
    "    def my_course(self):\n",
    "        print(\"Iam a mechatronics engineer\")\n",
    "    "
   ]
  },
  {
   "cell_type": "code",
   "execution_count": 58,
   "id": "c9ed15fa-3263-4485-9308-1ab677005576",
   "metadata": {},
   "outputs": [],
   "source": [
    "student=mechatronics()"
   ]
  },
  {
   "cell_type": "code",
   "execution_count": 59,
   "id": "a00ffd60-9b00-46ff-a837-3d1629c25f40",
   "metadata": {},
   "outputs": [
    {
     "name": "stdout",
     "output_type": "stream",
     "text": [
      "Iam a mechatronics engineer\n"
     ]
    }
   ],
   "source": [
    "student.my_course()"
   ]
  },
  {
   "cell_type": "code",
   "execution_count": 60,
   "id": "0d2ab93a-d84c-4b70-a6e6-ad63fadd9247",
   "metadata": {},
   "outputs": [
    {
     "data": {
      "text/plain": [
       "'I work both mechanical and electronics'"
      ]
     },
     "execution_count": 60,
     "metadata": {},
     "output_type": "execute_result"
    }
   ],
   "source": [
    "student.my_work"
   ]
  },
  {
   "cell_type": "code",
   "execution_count": 62,
   "id": "67ab0a26-0149-469f-bf1c-e55043d39459",
   "metadata": {},
   "outputs": [
    {
     "name": "stdout",
     "output_type": "stream",
     "text": [
      " I generally use matlab \n"
     ]
    }
   ],
   "source": [
    "student.my_software()"
   ]
  },
  {
   "cell_type": "code",
   "execution_count": 63,
   "id": "3d3b50b5-a674-4094-9d86-86a0e8cd945f",
   "metadata": {},
   "outputs": [
    {
     "name": "stdout",
     "output_type": "stream",
     "text": [
      "I love to work on solid works\n"
     ]
    }
   ],
   "source": [
    "student.my_software_use()"
   ]
  },
  {
   "cell_type": "code",
   "execution_count": null,
   "id": "f2e200aa-824d-4ee4-be36-89f74fa58032",
   "metadata": {},
   "outputs": [],
   "source": [
    "# from getter we get the value of a private attribute and setter we can set the value of a private attribute"
   ]
  },
  {
   "cell_type": "code",
   "execution_count": 84,
   "id": "6586b27b-bb77-4bdf-89a1-0ba138a1f3c8",
   "metadata": {},
   "outputs": [],
   "source": [
    "class employee:\n",
    "    def __init__(self,age):\n",
    "        self.age=age\n",
    "    def set_age(self,age):\n",
    "        self.age=age\n",
    "    def get_age(self):\n",
    "        return self.age"
   ]
  },
  {
   "cell_type": "code",
   "execution_count": 85,
   "id": "36c305f7-da8b-4c31-8164-a419e3870222",
   "metadata": {},
   "outputs": [],
   "source": [
    "employee1=employee(30)\n"
   ]
  },
  {
   "cell_type": "code",
   "execution_count": 87,
   "id": "b257158a-cc76-4ce5-a66b-927182b812c2",
   "metadata": {},
   "outputs": [
    {
     "data": {
      "text/plain": [
       "30"
      ]
     },
     "execution_count": 87,
     "metadata": {},
     "output_type": "execute_result"
    }
   ],
   "source": [
    "employee1.get_age()"
   ]
  },
  {
   "cell_type": "code",
   "execution_count": 88,
   "id": "85c7d8a2-1886-41f0-a0dc-7ba70dc8128e",
   "metadata": {},
   "outputs": [],
   "source": [
    "employee1.set_age(32)"
   ]
  },
  {
   "cell_type": "code",
   "execution_count": 89,
   "id": "de671abe-2722-4258-9bee-565dd19d6399",
   "metadata": {},
   "outputs": [
    {
     "data": {
      "text/plain": [
       "32"
      ]
     },
     "execution_count": 89,
     "metadata": {},
     "output_type": "execute_result"
    }
   ],
   "source": [
    "employee1.get_age()"
   ]
  },
  {
   "cell_type": "code",
   "execution_count": 90,
   "id": "a74657dc-645e-439f-8ecb-b128ee18b4b6",
   "metadata": {},
   "outputs": [],
   "source": [
    "### method overidding \n",
    "##overriding occurs simply defining in the child class a method with the same name of a method in the parent class."
   ]
  },
  {
   "cell_type": "code",
   "execution_count": 93,
   "id": "cdbadbc4-e950-4797-90ad-1e38150b138c",
   "metadata": {},
   "outputs": [],
   "source": [
    "class teacher:\n",
    "    def mywork(self):\n",
    "        print(\"my work is to teach\")"
   ]
  },
  {
   "cell_type": "code",
   "execution_count": 95,
   "id": "736a6db5-52c7-4284-82f3-b77b3fe9d452",
   "metadata": {},
   "outputs": [],
   "source": [
    "class student(teacher):\n",
    "    def mywork(self):\n",
    "        print(\"my work is to study\")"
   ]
  },
  {
   "cell_type": "code",
   "execution_count": 96,
   "id": "3e7b8731-0d98-493f-beaf-c5f0327c6f36",
   "metadata": {},
   "outputs": [],
   "source": [
    "student2= student()"
   ]
  },
  {
   "cell_type": "code",
   "execution_count": 97,
   "id": "e7173630-a91e-4620-b467-982ebc3ff5f9",
   "metadata": {},
   "outputs": [
    {
     "name": "stdout",
     "output_type": "stream",
     "text": [
      "my work is to study\n"
     ]
    }
   ],
   "source": [
    "student2.mywork()"
   ]
  },
  {
   "cell_type": "code",
   "execution_count": null,
   "id": "077b187f-24d3-4ebe-9694-38843ee78624",
   "metadata": {},
   "outputs": [],
   "source": []
  }
 ],
 "metadata": {
  "kernelspec": {
   "display_name": "Python 3 (ipykernel)",
   "language": "python",
   "name": "python3"
  },
  "language_info": {
   "codemirror_mode": {
    "name": "ipython",
    "version": 3
   },
   "file_extension": ".py",
   "mimetype": "text/x-python",
   "name": "python",
   "nbconvert_exporter": "python",
   "pygments_lexer": "ipython3",
   "version": "3.10.8"
  }
 },
 "nbformat": 4,
 "nbformat_minor": 5
}
