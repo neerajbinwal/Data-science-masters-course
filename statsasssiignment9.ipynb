{
 "cells": [
  {
   "cell_type": "markdown",
   "id": "e42efa26-d99c-4d68-9e68-2192d4e97c52",
   "metadata": {},
   "source": [
    "Ans1 The probability mass function is the function which describes the probability associated with the random variable x. This function is named P(x) or P(x=x) to avoid confusion. P(x=x) corresponds to the probability that the random variable x take the value x (note the different typefaces).\n",
    "Some variables are not discrete. They can take an infinite number of values in a certain range. But we still need to describe the probability associated with outcomes. The equivalent of the probability mass function zfor a continuous variable is called the probability density function."
   ]
  },
  {
   "cell_type": "markdown",
   "id": "e81c67d8-1eb4-4a8a-a8b3-00eebf3b8f79",
   "metadata": {},
   "source": [
    "Ans 2 Cumulative Density Function (PDF) is another method to describe the distribution of random variables."
   ]
  },
  {
   "cell_type": "markdown",
   "id": "0a98bab8-3d24-4bf2-8e1e-962c1718042a",
   "metadata": {},
   "source": [
    " Ans 3. Some exanples in which normal sitribution can be used as a model are:-\n",
    "1. height of people\n",
    "2. Fair rolling of dice\n",
    "3. tossind of coin \n",
    "4. IQ of people \n",
    "5. weights of newborn babies \n",
    "\n",
    "The mean of the distribution determines the location of the center of the graph, the standard deviation determines the height and width of the graph and the total area under the normal curve is equal to 1."
   ]
  },
  {
   "cell_type": "markdown",
   "id": "008d43bf-90b9-45b2-8972-36a9f341458d",
   "metadata": {},
   "source": [
    "Ans4. Normal distriburtion is very much important because real life examples generally use normal distribution the data is not widely spread it is under some range.\n",
    "Some real life example of normal distribution are as follows:-\n",
    "1. Marks of the students. \n",
    "2. heights of people \n",
    "3. weight of people "
   ]
  },
  {
   "cell_type": "markdown",
   "id": "86909330-6b33-4e1d-8ab1-0a9011b2a02a",
   "metadata": {},
   "source": [
    "Ans5.A Bernoulli distribution is a discrete distribution with only two possible values for the random variable. The distribution has only two possible outcomes and a single trial which is called a Bernoulli trial. The two possible outcomes in Bernoulli distribution are labeled by n=0 and n=1 in which n=1 (success) occurs with probability p and n=0 (failure) occurs with probability 1-p, and since it is a probability value so 0<=p<=1.\n",
    "Examples of Bernoulli trials:\n",
    "\n",
    "Coin tosses: Record how many tosses of coins resulted in heads and how many coin tosses resulted in tails. We can consider the result of getting heads as success and not getting head i.e., getting tails to be a failure.\n",
    "Football: How many shots on a goal post resulted in the goal score, and how many shots were missed. We can call a goal scored as a “success” and a missed target to be a failure.\n",
    "Rolling Dice: The probability of a roll of two dice resulting in a double six. A double six dice roll could be considered to be a success and everything else can be considered a failure."
   ]
  },
  {
   "cell_type": "markdown",
   "id": "cd8a7032-abd5-4aee-af38-4805004f6278",
   "metadata": {},
   "source": [
    "Ans6"
   ]
  },
  {
   "cell_type": "code",
   "execution_count": 8,
   "id": "b0795635-4304-4b9e-a60a-f7b466ecb2e0",
   "metadata": {},
   "outputs": [],
   "source": [
    "mean=50"
   ]
  },
  {
   "cell_type": "code",
   "execution_count": 9,
   "id": "569dda70-fb8a-4f13-8b75-4f2bdb1534e5",
   "metadata": {},
   "outputs": [],
   "source": [
    "std=10"
   ]
  },
  {
   "cell_type": "code",
   "execution_count": 10,
   "id": "7c476158-99db-4a91-a8e4-f828c70bedbe",
   "metadata": {},
   "outputs": [],
   "source": [
    "zscore=(60-mean)/std"
   ]
  },
  {
   "cell_type": "code",
   "execution_count": 11,
   "id": "59c57615-b331-495b-b2cb-02b94c79170a",
   "metadata": {},
   "outputs": [
    {
     "data": {
      "text/plain": [
       "1.0"
      ]
     },
     "execution_count": 11,
     "metadata": {},
     "output_type": "execute_result"
    }
   ],
   "source": [
    "zscore"
   ]
  },
  {
   "cell_type": "markdown",
   "id": "a7083733-fd9f-4e40-999f-bdb4c9fe4685",
   "metadata": {},
   "source": [
    "The value we get from z graph is 0.8413"
   ]
  },
  {
   "cell_type": "code",
   "execution_count": 12,
   "id": "c589cd1c-9d69-44a5-9b57-3c6be8270c27",
   "metadata": {},
   "outputs": [],
   "source": [
    "c= 1-0.8413"
   ]
  },
  {
   "cell_type": "code",
   "execution_count": 14,
   "id": "6f4b1b52-3eda-4297-b2bc-92690e712883",
   "metadata": {},
   "outputs": [
    {
     "name": "stdout",
     "output_type": "stream",
     "text": [
      "The probablity that the random selected variable is more than 60 is 0.15869999999999995\n"
     ]
    }
   ],
   "source": [
    "print(f\"The probablity that the random selected variable is more than 60 is {c}\")"
   ]
  },
  {
   "cell_type": "markdown",
   "id": "4cb6a7b2-af4f-408a-a45b-cfbdb6378512",
   "metadata": {},
   "source": [
    "Ans7"
   ]
  },
  {
   "cell_type": "markdown",
   "id": "2d5fc56e-864b-458a-9a2e-f4cbd852eaf1",
   "metadata": {},
   "source": [
    "The uniform distribution is a type of distribution in which we get equal probability for each outcome the graph which we plot in uniform distribution is rectangular.\n",
    "Example...\n",
    "Rolling of fair dice is an example of uniform distribution."
   ]
  },
  {
   "cell_type": "markdown",
   "id": "adfee2a3-43c0-4dde-ac66-b81e86d5328c",
   "metadata": {},
   "source": [
    "Ans 8"
   ]
  },
  {
   "cell_type": "markdown",
   "id": "1744788e-853d-409d-8448-0b4730d73afb",
   "metadata": {},
   "source": [
    "Z-score is a statistical measurement that describes a value's relationship to the mean of a group of values. Z-score is measured in terms of standard deviations from the mean. If a Z-score is 0, it indicates that the data point's score is identical to the mean score. A Z-score of 1.0 would indicate a value that is one standard deviation from the mean. Z-scores may be positive or negative.\n",
    "importance of z-score \n",
    "1. It is used for determining how far the a value is far from the mean.\n",
    "2. It is used for converting the values of dataset my using its formula so that these values could be used easily for manupulation.\n"
   ]
  },
  {
   "cell_type": "markdown",
   "id": "8460b349-df95-4824-b277-f0b919248c99",
   "metadata": {},
   "source": [
    "Ans9\n",
    "The central limit theorem states that if you have a population with mean μ and standard deviation σ and take sufficiently large random samples from the population with replacementtext annotation indicator, then the distribution of the sample means will be approximately normally distributed. \n",
    "The central limit theorem is an incredibly important tool for statistical inference. It allows us to understand the behavior of estimates across repeated sampling and thereby conclude if a result from a given sample can be declared to be “statistically significant"
   ]
  },
  {
   "cell_type": "markdown",
   "id": "102b5f2d-97df-47f7-b594-469e3c16f6c6",
   "metadata": {},
   "source": [
    "Ans10.Conditions of the Central Limit Theorem\n",
    "The central limit theorem states that the sampling distribution of the mean will always follow a normal distribution under the following conditions:\n",
    "\n",
    "The sample size is sufficiently large. This condition is usually met if the size of the sample is n ≥ 30.\n",
    "The samples are independent and identically distributed, i.e., random variables. The sampling should be random.\n",
    "The population’s distribution has a finite variance. The central limit theorem doesn’t apply to distributions with infinite variance."
   ]
  }
 ],
 "metadata": {
  "kernelspec": {
   "display_name": "Python 3 (ipykernel)",
   "language": "python",
   "name": "python3"
  },
  "language_info": {
   "codemirror_mode": {
    "name": "ipython",
    "version": 3
   },
   "file_extension": ".py",
   "mimetype": "text/x-python",
   "name": "python",
   "nbconvert_exporter": "python",
   "pygments_lexer": "ipython3",
   "version": "3.10.8"
  }
 },
 "nbformat": 4,
 "nbformat_minor": 5
}
