{
 "cells": [
  {
   "cell_type": "markdown",
   "id": "99e5cb5c-61b1-4e73-8d1a-2564ea308a69",
   "metadata": {},
   "source": [
    "Ans1. Assumptions of of ANOVA are as follows:-\n",
    "1.Normality of Sampling Distribution of Mean.\n",
    "The distribution of sample mean is normally distributed.\n",
    "2. Absence of outliers\n",
    "Outlyinf score needs to be removed from the dataside.\n",
    "3. Homogenity of Variance\n",
    "POpulation variance in different levels of each independent variable are equal.\n",
    "4. Samples are independent and random."
   ]
  },
  {
   "cell_type": "markdown",
   "id": "97bebe5d-7ab0-49cc-86c7-8f5fc50b388d",
   "metadata": {},
   "source": [
    "Ans2. Types of anova\n",
    "1. One way Anova:-One factor with atleast 2 levels these levels are independent.\n",
    "2. Repeated Measures Anova;-One factor atleast 2 levels are dependent.\n",
    "3. Factorial Anova:-Two or more factors,2 levels can be independent and dependent."
   ]
  },
  {
   "cell_type": "markdown",
   "id": "7375c893-e77c-47f2-8674-0bbaf22720a7",
   "metadata": {},
   "source": [
    "ANS3 The partitioning of variance in Anova first of all you will set null hypothesis and alternative hypothesis\n",
    "and find the f value fvalue=variance between samples/variance within samples and compare it with the F table value"
   ]
  },
  {
   "cell_type": "markdown",
   "id": "01d5850b-c7de-485b-97ef-117eefa3cc7c",
   "metadata": {},
   "source": [
    "Ans6,,The null hpothesis is accepted."
   ]
  },
  {
   "cell_type": "markdown",
   "id": "f8c749eb-b66d-447f-a9a5-c46ff15d8a64",
   "metadata": {},
   "source": [
    "Ans7..We can will mean of the data to fill the missing value in annova."
   ]
  },
  {
   "cell_type": "markdown",
   "id": "a3674e7e-2117-403d-9ab3-bf9218099bc9",
   "metadata": {},
   "source": [
    "Ans8...If the p-value from the ANOVA is less than the significance level, we can reject the null hypothesis and conclude that we have sufficient evidence to say that at least one of the means of the groups is different from the others.\n",
    "\n",
    "However, this doesn’t tell us which groups are different from each other. It simply tells us that not all of the group means are equal.\n",
    "\n",
    "In order to find out exactly which groups are different from each other, we must conduct a post hoc test (also known as a multiple comparison test), which will allow us to explore the difference between multiple group means while also controlling for the family-wise error rate.Tukey’s Test – useful when you want to make every possible pairwise comparison\n",
    "\n",
    "Holm’s Method – a slightly more conservative test compared to Tukey’s Test\n",
    "\n",
    "Dunnett’s Correction – useful when you want to compare every group mean to a control mean, and you’re not interested in comparing the treatment means with one another.\n",
    "Tukey’s Test – useful when you want to make every possible pairwise comparison\n",
    "\n",
    "Holm’s Method – a slightly more conservative test compared to Tukey’s Test\n",
    "\n",
    "Dunnett’s Correction – useful when you want to compare every group mean to a control mean, and you’re not interested in comparing the treatment means with one another."
   ]
  },
  {
   "cell_type": "markdown",
   "id": "76eca2c2-993b-410e-b969-0af0bad1b6dc",
   "metadata": {},
   "source": [
    "Ans9.."
   ]
  },
  {
   "cell_type": "code",
   "execution_count": 3,
   "id": "dccbe781-685f-4c14-9a44-dd7bc7103f0c",
   "metadata": {},
   "outputs": [],
   "source": [
    "import numpy as np\n",
    "import pandas as pd"
   ]
  },
  {
   "cell_type": "code",
   "execution_count": 1,
   "id": "71bf089f-2b77-4dcb-9bde-b0213ec954bb",
   "metadata": {},
   "outputs": [],
   "source": [
    "import pingouin as pg"
   ]
  },
  {
   "cell_type": "code",
   "execution_count": 3,
   "id": "f0fc997f-4820-4870-bb29-78356f136867",
   "metadata": {},
   "outputs": [
    {
     "name": "stdout",
     "output_type": "stream",
     "text": [
      "Collecting pingouin\n",
      "  Downloading pingouin-0.5.3-py3-none-any.whl (198 kB)\n",
      "\u001b[2K     \u001b[90m━━━━━━━━━━━━━━━━━━━━━━━━━━━━━━━━━━━━━━━\u001b[0m \u001b[32m198.6/198.6 kB\u001b[0m \u001b[31m2.3 MB/s\u001b[0m eta \u001b[36m0:00:00\u001b[0ma \u001b[36m0:00:01\u001b[0m\n",
      "\u001b[?25hRequirement already satisfied: statsmodels>=0.13 in /opt/conda/lib/python3.10/site-packages (from pingouin) (0.13.5)\n",
      "Requirement already satisfied: seaborn>=0.11 in /opt/conda/lib/python3.10/site-packages (from pingouin) (0.12.1)\n",
      "Collecting outdated\n",
      "  Downloading outdated-0.2.2-py2.py3-none-any.whl (7.5 kB)\n",
      "Requirement already satisfied: pandas>=1.0 in /opt/conda/lib/python3.10/site-packages (from pingouin) (1.5.2)\n",
      "Requirement already satisfied: scikit-learn in /opt/conda/lib/python3.10/site-packages (from pingouin) (1.2.0)\n",
      "Requirement already satisfied: scipy>=1.7 in /opt/conda/lib/python3.10/site-packages (from pingouin) (1.9.3)\n",
      "Collecting pandas-flavor>=0.2.0\n",
      "  Downloading pandas_flavor-0.5.0-py3-none-any.whl (7.1 kB)\n",
      "Collecting tabulate\n",
      "  Downloading tabulate-0.9.0-py3-none-any.whl (35 kB)\n",
      "Requirement already satisfied: matplotlib>=3.0.2 in /opt/conda/lib/python3.10/site-packages (from pingouin) (3.6.2)\n",
      "Requirement already satisfied: numpy>=1.19 in /opt/conda/lib/python3.10/site-packages (from pingouin) (1.23.5)\n",
      "Requirement already satisfied: contourpy>=1.0.1 in /opt/conda/lib/python3.10/site-packages (from matplotlib>=3.0.2->pingouin) (1.0.6)\n",
      "Requirement already satisfied: packaging>=20.0 in /opt/conda/lib/python3.10/site-packages (from matplotlib>=3.0.2->pingouin) (22.0)\n",
      "Requirement already satisfied: pyparsing>=2.2.1 in /opt/conda/lib/python3.10/site-packages (from matplotlib>=3.0.2->pingouin) (3.0.9)\n",
      "Requirement already satisfied: cycler>=0.10 in /opt/conda/lib/python3.10/site-packages (from matplotlib>=3.0.2->pingouin) (0.11.0)\n",
      "Requirement already satisfied: pillow>=6.2.0 in /opt/conda/lib/python3.10/site-packages (from matplotlib>=3.0.2->pingouin) (9.2.0)\n",
      "Requirement already satisfied: kiwisolver>=1.0.1 in /opt/conda/lib/python3.10/site-packages (from matplotlib>=3.0.2->pingouin) (1.4.4)\n",
      "Requirement already satisfied: fonttools>=4.22.0 in /opt/conda/lib/python3.10/site-packages (from matplotlib>=3.0.2->pingouin) (4.38.0)\n",
      "Requirement already satisfied: python-dateutil>=2.7 in /opt/conda/lib/python3.10/site-packages (from matplotlib>=3.0.2->pingouin) (2.8.2)\n",
      "Requirement already satisfied: pytz>=2020.1 in /opt/conda/lib/python3.10/site-packages (from pandas>=1.0->pingouin) (2022.6)\n",
      "Collecting lazy-loader>=0.1\n",
      "  Downloading lazy_loader-0.1-py3-none-any.whl (8.6 kB)\n",
      "Collecting xarray\n",
      "  Downloading xarray-2023.2.0-py3-none-any.whl (975 kB)\n",
      "\u001b[2K     \u001b[90m━━━━━━━━━━━━━━━━━━━━━━━━━━━━━━━━━━━━━━━\u001b[0m \u001b[32m975.8/975.8 kB\u001b[0m \u001b[31m5.1 MB/s\u001b[0m eta \u001b[36m0:00:00\u001b[0ma \u001b[36m0:00:01\u001b[0m\n",
      "\u001b[?25hRequirement already satisfied: patsy>=0.5.2 in /opt/conda/lib/python3.10/site-packages (from statsmodels>=0.13->pingouin) (0.5.3)\n",
      "Requirement already satisfied: requests in /opt/conda/lib/python3.10/site-packages (from outdated->pingouin) (2.28.1)\n",
      "Collecting littleutils\n",
      "  Downloading littleutils-0.2.2.tar.gz (6.6 kB)\n",
      "  Preparing metadata (setup.py) ... \u001b[?25ldone\n",
      "\u001b[?25hRequirement already satisfied: setuptools>=44 in /opt/conda/lib/python3.10/site-packages (from outdated->pingouin) (65.5.1)\n",
      "Requirement already satisfied: joblib>=1.1.1 in /opt/conda/lib/python3.10/site-packages (from scikit-learn->pingouin) (1.2.0)\n",
      "Requirement already satisfied: threadpoolctl>=2.0.0 in /opt/conda/lib/python3.10/site-packages (from scikit-learn->pingouin) (3.1.0)\n",
      "Requirement already satisfied: six in /opt/conda/lib/python3.10/site-packages (from patsy>=0.5.2->statsmodels>=0.13->pingouin) (1.16.0)\n",
      "Requirement already satisfied: certifi>=2017.4.17 in /opt/conda/lib/python3.10/site-packages (from requests->outdated->pingouin) (2022.12.7)\n",
      "Requirement already satisfied: idna<4,>=2.5 in /opt/conda/lib/python3.10/site-packages (from requests->outdated->pingouin) (3.4)\n",
      "Requirement already satisfied: charset-normalizer<3,>=2 in /opt/conda/lib/python3.10/site-packages (from requests->outdated->pingouin) (2.1.1)\n",
      "Requirement already satisfied: urllib3<1.27,>=1.21.1 in /opt/conda/lib/python3.10/site-packages (from requests->outdated->pingouin) (1.26.13)\n",
      "Building wheels for collected packages: littleutils\n",
      "  Building wheel for littleutils (setup.py) ... \u001b[?25ldone\n",
      "\u001b[?25h  Created wheel for littleutils: filename=littleutils-0.2.2-py3-none-any.whl size=7028 sha256=c8d9e2d7507257f2293432448c342bf773b06b5a51fd91953cd7a6bd4d6c0be5\n",
      "  Stored in directory: /home/jovyan/.cache/pip/wheels/e0/3b/9c/d55ff5bc6cfbe70537c4731a22f2ee2462c2e5010b56ac9726\n",
      "Successfully built littleutils\n",
      "Installing collected packages: littleutils, tabulate, lazy-loader, outdated, xarray, pandas-flavor, pingouin\n",
      "Successfully installed lazy-loader-0.1 littleutils-0.2.2 outdated-0.2.2 pandas-flavor-0.5.0 pingouin-0.5.3 tabulate-0.9.0 xarray-2023.2.0\n",
      "Note: you may need to restart the kernel to use updated packages.\n"
     ]
    }
   ],
   "source": [
    "pip install pingouin"
   ]
  },
  {
   "cell_type": "code",
   "execution_count": 8,
   "id": "07466c03-01bd-4ee2-a246-c50149c37af5",
   "metadata": {},
   "outputs": [],
   "source": [
    "###Ans9\n",
    "df=pd.read_csv(\"Book1.csv\")"
   ]
  },
  {
   "cell_type": "code",
   "execution_count": 9,
   "id": "c323a99d-fa5b-4039-9d97-9bddf034693c",
   "metadata": {},
   "outputs": [
    {
     "data": {
      "text/html": [
       "<div>\n",
       "<style scoped>\n",
       "    .dataframe tbody tr th:only-of-type {\n",
       "        vertical-align: middle;\n",
       "    }\n",
       "\n",
       "    .dataframe tbody tr th {\n",
       "        vertical-align: top;\n",
       "    }\n",
       "\n",
       "    .dataframe thead th {\n",
       "        text-align: right;\n",
       "    }\n",
       "</style>\n",
       "<table border=\"1\" class=\"dataframe\">\n",
       "  <thead>\n",
       "    <tr style=\"text-align: right;\">\n",
       "      <th></th>\n",
       "      <th>S.N</th>\n",
       "      <th>Weight_loss</th>\n",
       "      <th>Diet</th>\n",
       "    </tr>\n",
       "  </thead>\n",
       "  <tbody>\n",
       "    <tr>\n",
       "      <th>0</th>\n",
       "      <td>1</td>\n",
       "      <td>10</td>\n",
       "      <td>A</td>\n",
       "    </tr>\n",
       "    <tr>\n",
       "      <th>1</th>\n",
       "      <td>2</td>\n",
       "      <td>2</td>\n",
       "      <td>B</td>\n",
       "    </tr>\n",
       "    <tr>\n",
       "      <th>2</th>\n",
       "      <td>3</td>\n",
       "      <td>5</td>\n",
       "      <td>C</td>\n",
       "    </tr>\n",
       "    <tr>\n",
       "      <th>3</th>\n",
       "      <td>4</td>\n",
       "      <td>6</td>\n",
       "      <td>A</td>\n",
       "    </tr>\n",
       "    <tr>\n",
       "      <th>4</th>\n",
       "      <td>5</td>\n",
       "      <td>7</td>\n",
       "      <td>B</td>\n",
       "    </tr>\n",
       "  </tbody>\n",
       "</table>\n",
       "</div>"
      ],
      "text/plain": [
       "   S.N  Weight_loss Diet\n",
       "0    1           10    A\n",
       "1    2            2    B\n",
       "2    3            5    C\n",
       "3    4            6    A\n",
       "4    5            7    B"
      ]
     },
     "execution_count": 9,
     "metadata": {},
     "output_type": "execute_result"
    }
   ],
   "source": [
    "df.head()"
   ]
  },
  {
   "cell_type": "code",
   "execution_count": 10,
   "id": "55c22579-e82d-44db-ae9b-1594b12137ab",
   "metadata": {},
   "outputs": [
    {
     "name": "stdout",
     "output_type": "stream",
     "text": [
      "   Source          SS  DF        MS         F     p-unc       np2\n",
      "0    Diet    3.507302   2  1.753651  0.357713  0.701161  0.014994\n",
      "1  Within  230.412698  47  4.902398       NaN       NaN       NaN\n"
     ]
    }
   ],
   "source": [
    "av = pg.anova(df,dv='Weight_loss',between='Diet',detailed='True')\n",
    "print(av)"
   ]
  },
  {
   "cell_type": "markdown",
   "id": "44bb875d-da10-428d-ae1c-109608369013",
   "metadata": {},
   "source": [
    "The null hyphothesis is accepted that means there is no significance difference between the mean weight loss."
   ]
  },
  {
   "cell_type": "markdown",
   "id": "e40574b3-8a68-4d56-8bfd-ceaddb9ae6c1",
   "metadata": {},
   "source": [
    "Ans10"
   ]
  },
  {
   "cell_type": "code",
   "execution_count": 12,
   "id": "55e6e477-fda6-44a0-af64-2d5ce913d151",
   "metadata": {},
   "outputs": [],
   "source": [
    "df1=pd.read_csv('Book2.csv')\n"
   ]
  },
  {
   "cell_type": "code",
   "execution_count": 13,
   "id": "c12ac1a7-ddb7-4acf-9776-be5cdebe1fea",
   "metadata": {},
   "outputs": [
    {
     "data": {
      "text/html": [
       "<div>\n",
       "<style scoped>\n",
       "    .dataframe tbody tr th:only-of-type {\n",
       "        vertical-align: middle;\n",
       "    }\n",
       "\n",
       "    .dataframe tbody tr th {\n",
       "        vertical-align: top;\n",
       "    }\n",
       "\n",
       "    .dataframe thead th {\n",
       "        text-align: right;\n",
       "    }\n",
       "</style>\n",
       "<table border=\"1\" class=\"dataframe\">\n",
       "  <thead>\n",
       "    <tr style=\"text-align: right;\">\n",
       "      <th></th>\n",
       "      <th>S.NO</th>\n",
       "      <th>Time</th>\n",
       "      <th>Program</th>\n",
       "      <th>Experience</th>\n",
       "    </tr>\n",
       "  </thead>\n",
       "  <tbody>\n",
       "    <tr>\n",
       "      <th>0</th>\n",
       "      <td>1</td>\n",
       "      <td>5</td>\n",
       "      <td>A</td>\n",
       "      <td>Experienced</td>\n",
       "    </tr>\n",
       "    <tr>\n",
       "      <th>1</th>\n",
       "      <td>2</td>\n",
       "      <td>5</td>\n",
       "      <td>B</td>\n",
       "      <td>Novice</td>\n",
       "    </tr>\n",
       "    <tr>\n",
       "      <th>2</th>\n",
       "      <td>3</td>\n",
       "      <td>6</td>\n",
       "      <td>C</td>\n",
       "      <td>Experienced</td>\n",
       "    </tr>\n",
       "    <tr>\n",
       "      <th>3</th>\n",
       "      <td>4</td>\n",
       "      <td>8</td>\n",
       "      <td>A</td>\n",
       "      <td>Novice</td>\n",
       "    </tr>\n",
       "    <tr>\n",
       "      <th>4</th>\n",
       "      <td>5</td>\n",
       "      <td>8</td>\n",
       "      <td>B</td>\n",
       "      <td>Experienced</td>\n",
       "    </tr>\n",
       "  </tbody>\n",
       "</table>\n",
       "</div>"
      ],
      "text/plain": [
       "   S.NO  Time Program   Experience\n",
       "0     1     5       A  Experienced\n",
       "1     2     5       B       Novice\n",
       "2     3     6       C  Experienced\n",
       "3     4     8       A       Novice\n",
       "4     5     8       B  Experienced"
      ]
     },
     "execution_count": 13,
     "metadata": {},
     "output_type": "execute_result"
    }
   ],
   "source": [
    "df1.head()"
   ]
  },
  {
   "cell_type": "code",
   "execution_count": 15,
   "id": "699e4c56-985b-41e7-845c-6cebfc63a8eb",
   "metadata": {},
   "outputs": [],
   "source": [
    "av = pg.anova(dv='Time',between=['Program','Experience'],data=df1,detailed=True)"
   ]
  },
  {
   "cell_type": "code",
   "execution_count": 16,
   "id": "60e48823-7594-470f-b096-2462fcbdb6ba",
   "metadata": {},
   "outputs": [
    {
     "name": "stdout",
     "output_type": "stream",
     "text": [
      "                 Source         SS  DF         MS         F     p-unc  \\\n",
      "0               Program   3.466667   2   1.733333  0.670968  0.520544   \n",
      "1            Experience   0.133333   1   0.133333  0.051613  0.822204   \n",
      "2  Program * Experience  29.866667   2  14.933333  5.780645  0.008929   \n",
      "3              Residual  62.000000  24   2.583333       NaN       NaN   \n",
      "\n",
      "        np2  \n",
      "0  0.052953  \n",
      "1  0.002146  \n",
      "2  0.325109  \n",
      "3       NaN  \n"
     ]
    }
   ],
   "source": [
    "print(av)"
   ]
  },
  {
   "cell_type": "markdown",
   "id": "70e72def-b890-42b5-88fc-dfcc7224076d",
   "metadata": {},
   "source": [
    "Their is interation effects between program and Experience"
   ]
  },
  {
   "cell_type": "markdown",
   "id": "ab4879e7-0ca3-407e-8188-207666cda014",
   "metadata": {},
   "source": [
    "Ans11"
   ]
  },
  {
   "cell_type": "code",
   "execution_count": 27,
   "id": "d20c900f-d150-4ea5-93ee-9ef98a86ad83",
   "metadata": {},
   "outputs": [],
   "source": [
    "df3=pd.read_csv('Book6.csv')"
   ]
  },
  {
   "cell_type": "code",
   "execution_count": 28,
   "id": "cb70a9c5-71da-475d-9169-4cc4274943ab",
   "metadata": {},
   "outputs": [
    {
     "data": {
      "text/html": [
       "<div>\n",
       "<style scoped>\n",
       "    .dataframe tbody tr th:only-of-type {\n",
       "        vertical-align: middle;\n",
       "    }\n",
       "\n",
       "    .dataframe tbody tr th {\n",
       "        vertical-align: top;\n",
       "    }\n",
       "\n",
       "    .dataframe thead th {\n",
       "        text-align: right;\n",
       "    }\n",
       "</style>\n",
       "<table border=\"1\" class=\"dataframe\">\n",
       "  <thead>\n",
       "    <tr style=\"text-align: right;\">\n",
       "      <th></th>\n",
       "      <th>S.NO</th>\n",
       "      <th>SALES</th>\n",
       "      <th>RETAIL</th>\n",
       "    </tr>\n",
       "  </thead>\n",
       "  <tbody>\n",
       "    <tr>\n",
       "      <th>0</th>\n",
       "      <td>1</td>\n",
       "      <td>85</td>\n",
       "      <td>A</td>\n",
       "    </tr>\n",
       "    <tr>\n",
       "      <th>1</th>\n",
       "      <td>2</td>\n",
       "      <td>85</td>\n",
       "      <td>B</td>\n",
       "    </tr>\n",
       "    <tr>\n",
       "      <th>2</th>\n",
       "      <td>3</td>\n",
       "      <td>96</td>\n",
       "      <td>C</td>\n",
       "    </tr>\n",
       "    <tr>\n",
       "      <th>3</th>\n",
       "      <td>4</td>\n",
       "      <td>85</td>\n",
       "      <td>A</td>\n",
       "    </tr>\n",
       "    <tr>\n",
       "      <th>4</th>\n",
       "      <td>5</td>\n",
       "      <td>85</td>\n",
       "      <td>B</td>\n",
       "    </tr>\n",
       "  </tbody>\n",
       "</table>\n",
       "</div>"
      ],
      "text/plain": [
       "   S.NO  SALES RETAIL\n",
       "0     1     85      A\n",
       "1     2     85      B\n",
       "2     3     96      C\n",
       "3     4     85      A\n",
       "4     5     85      B"
      ]
     },
     "execution_count": 28,
     "metadata": {},
     "output_type": "execute_result"
    }
   ],
   "source": [
    "df3.head()"
   ]
  },
  {
   "cell_type": "code",
   "execution_count": 31,
   "id": "6aa0552b-8582-4ca7-8cf6-4372cc53ab0c",
   "metadata": {},
   "outputs": [
    {
     "ename": "SyntaxError",
     "evalue": "positional argument follows keyword argument (1853755796.py, line 1)",
     "output_type": "error",
     "traceback": [
      "\u001b[0;36m  Cell \u001b[0;32mIn[31], line 1\u001b[0;36m\u001b[0m\n\u001b[0;31m    av2=pg.anova(data=df3,dv='SALES',between'=RETAIL',detailed=True)\u001b[0m\n\u001b[0m                                                              ^\u001b[0m\n\u001b[0;31mSyntaxError\u001b[0m\u001b[0;31m:\u001b[0m positional argument follows keyword argument\n"
     ]
    }
   ],
   "source": [
    "av2=pg.anova(data=df3,dv='SALES',between='RETAIL',detailed=True)"
   ]
  },
  {
   "cell_type": "code",
   "execution_count": null,
   "id": "1b0323b7-8dab-493e-8a48-17f571ca1d15",
   "metadata": {},
   "outputs": [],
   "source": []
  }
 ],
 "metadata": {
  "kernelspec": {
   "display_name": "Python 3 (ipykernel)",
   "language": "python",
   "name": "python3"
  },
  "language_info": {
   "codemirror_mode": {
    "name": "ipython",
    "version": 3
   },
   "file_extension": ".py",
   "mimetype": "text/x-python",
   "name": "python",
   "nbconvert_exporter": "python",
   "pygments_lexer": "ipython3",
   "version": "3.10.8"
  }
 },
 "nbformat": 4,
 "nbformat_minor": 5
}
